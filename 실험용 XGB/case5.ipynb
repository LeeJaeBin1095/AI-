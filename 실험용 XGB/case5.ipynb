{
 "cells": [
  {
   "cell_type": "code",
   "execution_count": 1,
   "metadata": {},
   "outputs": [],
   "source": [
    "import pandas as pd\n",
    "import numpy as np\n",
    "import matplotlib.pyplot as plt\n",
    "import seaborn as sns"
   ]
  },
  {
   "cell_type": "code",
   "execution_count": 2,
   "metadata": {},
   "outputs": [],
   "source": [
    "df_org = pd.read_csv(\"train.csv\")"
   ]
  },
  {
   "cell_type": "code",
   "execution_count": 3,
   "metadata": {},
   "outputs": [
    {
     "data": {
      "text/html": [
       "<div>\n",
       "<style scoped>\n",
       "    .dataframe tbody tr th:only-of-type {\n",
       "        vertical-align: middle;\n",
       "    }\n",
       "\n",
       "    .dataframe tbody tr th {\n",
       "        vertical-align: top;\n",
       "    }\n",
       "\n",
       "    .dataframe thead th {\n",
       "        text-align: right;\n",
       "    }\n",
       "</style>\n",
       "<table border=\"1\" class=\"dataframe\">\n",
       "  <thead>\n",
       "    <tr style=\"text-align: right;\">\n",
       "      <th></th>\n",
       "      <th>Unnamed: 0</th>\n",
       "      <th>신고번호</th>\n",
       "      <th>신고일자</th>\n",
       "      <th>통관지세관부호</th>\n",
       "      <th>신고인부호</th>\n",
       "      <th>수입자부호</th>\n",
       "      <th>해외거래처부호</th>\n",
       "      <th>특송업체부호</th>\n",
       "      <th>수입통관계획코드</th>\n",
       "      <th>수입신고구분코드</th>\n",
       "      <th>...</th>\n",
       "      <th>운송수단유형코드</th>\n",
       "      <th>반입보세구역부호</th>\n",
       "      <th>HS10단위부호</th>\n",
       "      <th>적출국가코드</th>\n",
       "      <th>원산지국가코드</th>\n",
       "      <th>관세율구분코드</th>\n",
       "      <th>관세율</th>\n",
       "      <th>검사결과코드</th>\n",
       "      <th>우범여부</th>\n",
       "      <th>핵심적발</th>\n",
       "    </tr>\n",
       "  </thead>\n",
       "  <tbody>\n",
       "    <tr>\n",
       "      <th>32967</th>\n",
       "      <td>32967</td>\n",
       "      <td>14516592</td>\n",
       "      <td>2020-04-17</td>\n",
       "      <td>40</td>\n",
       "      <td>1QC72</td>\n",
       "      <td>LCKP31K</td>\n",
       "      <td>8RTOWC1</td>\n",
       "      <td>NaN</td>\n",
       "      <td>D</td>\n",
       "      <td>B</td>\n",
       "      <td>...</td>\n",
       "      <td>40</td>\n",
       "      <td>4077001</td>\n",
       "      <td>9103100000</td>\n",
       "      <td>SG</td>\n",
       "      <td>CH</td>\n",
       "      <td>A</td>\n",
       "      <td>8.0</td>\n",
       "      <td>A</td>\n",
       "      <td>0</td>\n",
       "      <td>0</td>\n",
       "    </tr>\n",
       "    <tr>\n",
       "      <th>41329</th>\n",
       "      <td>41329</td>\n",
       "      <td>16599915</td>\n",
       "      <td>2020-05-19</td>\n",
       "      <td>10</td>\n",
       "      <td>QUP4L</td>\n",
       "      <td>5N2GMZF</td>\n",
       "      <td>NaN</td>\n",
       "      <td>NaN</td>\n",
       "      <td>D</td>\n",
       "      <td>B</td>\n",
       "      <td>...</td>\n",
       "      <td>10</td>\n",
       "      <td>3077016</td>\n",
       "      <td>8471300000</td>\n",
       "      <td>US</td>\n",
       "      <td>US</td>\n",
       "      <td>C</td>\n",
       "      <td>0.0</td>\n",
       "      <td>A</td>\n",
       "      <td>0</td>\n",
       "      <td>0</td>\n",
       "    </tr>\n",
       "    <tr>\n",
       "      <th>10399</th>\n",
       "      <td>10399</td>\n",
       "      <td>41488748</td>\n",
       "      <td>2020-02-01</td>\n",
       "      <td>40</td>\n",
       "      <td>QUP4L</td>\n",
       "      <td>GWT6N1I</td>\n",
       "      <td>NGNARJN</td>\n",
       "      <td>NaN</td>\n",
       "      <td>F</td>\n",
       "      <td>B</td>\n",
       "      <td>...</td>\n",
       "      <td>40</td>\n",
       "      <td>1011182</td>\n",
       "      <td>3304999000</td>\n",
       "      <td>AE</td>\n",
       "      <td>KR</td>\n",
       "      <td>A</td>\n",
       "      <td>8.0</td>\n",
       "      <td>C2</td>\n",
       "      <td>1</td>\n",
       "      <td>2</td>\n",
       "    </tr>\n",
       "    <tr>\n",
       "      <th>30895</th>\n",
       "      <td>30895</td>\n",
       "      <td>31111781</td>\n",
       "      <td>2020-04-09</td>\n",
       "      <td>40</td>\n",
       "      <td>Z3EO2</td>\n",
       "      <td>OH1YU0O</td>\n",
       "      <td>2PYLVNK</td>\n",
       "      <td>NaN</td>\n",
       "      <td>B</td>\n",
       "      <td>B</td>\n",
       "      <td>...</td>\n",
       "      <td>40</td>\n",
       "      <td>2010360</td>\n",
       "      <td>7410110000</td>\n",
       "      <td>JP</td>\n",
       "      <td>JP</td>\n",
       "      <td>A</td>\n",
       "      <td>8.0</td>\n",
       "      <td>A</td>\n",
       "      <td>0</td>\n",
       "      <td>0</td>\n",
       "    </tr>\n",
       "    <tr>\n",
       "      <th>52733</th>\n",
       "      <td>52733</td>\n",
       "      <td>86907736</td>\n",
       "      <td>2020-07-01</td>\n",
       "      <td>20</td>\n",
       "      <td>0BW53</td>\n",
       "      <td>XE3K18U</td>\n",
       "      <td>DENR8NT</td>\n",
       "      <td>6RJ8HT</td>\n",
       "      <td>F</td>\n",
       "      <td>B</td>\n",
       "      <td>...</td>\n",
       "      <td>40</td>\n",
       "      <td>2077002</td>\n",
       "      <td>3304991000</td>\n",
       "      <td>US</td>\n",
       "      <td>US</td>\n",
       "      <td>C</td>\n",
       "      <td>6.5</td>\n",
       "      <td>A</td>\n",
       "      <td>0</td>\n",
       "      <td>0</td>\n",
       "    </tr>\n",
       "  </tbody>\n",
       "</table>\n",
       "<p>5 rows × 25 columns</p>\n",
       "</div>"
      ],
      "text/plain": [
       "       Unnamed: 0      신고번호        신고일자  통관지세관부호  신고인부호    수입자부호  해외거래처부호  \\\n",
       "32967       32967  14516592  2020-04-17       40  1QC72  LCKP31K  8RTOWC1   \n",
       "41329       41329  16599915  2020-05-19       10  QUP4L  5N2GMZF      NaN   \n",
       "10399       10399  41488748  2020-02-01       40  QUP4L  GWT6N1I  NGNARJN   \n",
       "30895       30895  31111781  2020-04-09       40  Z3EO2  OH1YU0O  2PYLVNK   \n",
       "52733       52733  86907736  2020-07-01       20  0BW53  XE3K18U  DENR8NT   \n",
       "\n",
       "       특송업체부호 수입통관계획코드 수입신고구분코드  ...  운송수단유형코드  반입보세구역부호    HS10단위부호  적출국가코드  \\\n",
       "32967     NaN        D        B  ...        40   4077001  9103100000      SG   \n",
       "41329     NaN        D        B  ...        10   3077016  8471300000      US   \n",
       "10399     NaN        F        B  ...        40   1011182  3304999000      AE   \n",
       "30895     NaN        B        B  ...        40   2010360  7410110000      JP   \n",
       "52733  6RJ8HT        F        B  ...        40   2077002  3304991000      US   \n",
       "\n",
       "       원산지국가코드  관세율구분코드  관세율  검사결과코드 우범여부 핵심적발  \n",
       "32967       CH        A  8.0       A    0    0  \n",
       "41329       US        C  0.0       A    0    0  \n",
       "10399       KR        A  8.0      C2    1    2  \n",
       "30895       JP        A  8.0       A    0    0  \n",
       "52733       US        C  6.5       A    0    0  \n",
       "\n",
       "[5 rows x 25 columns]"
      ]
     },
     "execution_count": 3,
     "metadata": {},
     "output_type": "execute_result"
    }
   ],
   "source": [
    "df_org.sample(5)"
   ]
  },
  {
   "cell_type": "code",
   "execution_count": 4,
   "metadata": {},
   "outputs": [],
   "source": [
    "del df_org['검사결과코드']\n",
    "del df_org['핵심적발']\n",
    "del df_org['신고번호']\n",
    "del df_org['수입자부호']\n",
    "del df_org['해외거래처부호']\n",
    "del df_org['반입보세구역부호']\n",
    "del df_org['HS10단위부호']\n"
   ]
  },
  {
   "cell_type": "code",
   "execution_count": 5,
   "metadata": {},
   "outputs": [],
   "source": [
    "# 범주형 변수 지정\n",
    "discrete_columns = ['신고일자',  '통관지세관부호',\n",
    "       '신고인부호',  '특송업체부호', '수입통관계획코드', \n",
    "       '수입신고구분코드', '수입거래구분코드',\n",
    "       '수입종류코드', '징수형태코드', \n",
    "       '운송수단유형코드',  \n",
    "        '적출국가코드', '원산지국가코드', '관세율구분코드']\n",
    "\n",
    "# 범주형 변수들을 문자열로 지정 ('object' -> 'string')\n",
    "for var in discrete_columns:\n",
    "    df_org[var] = df_org[var].astype(str)"
   ]
  },
  {
   "cell_type": "code",
   "execution_count": 6,
   "metadata": {},
   "outputs": [],
   "source": [
    "# 수치형 변수 지정\n",
    "numeric_columns = ['신고중량(KG)', '과세가격원화금액', '관세율', '우범여부']\n",
    "\n",
    "# 수치형 변수를 자연로그로 변환\n",
    "for var in ['신고중량(KG)', '과세가격원화금액']:\n",
    "    df_org[var] = df_org[var].apply(lambda x: np.log1p(x))"
   ]
  },
  {
   "cell_type": "code",
   "execution_count": 7,
   "metadata": {},
   "outputs": [
    {
     "data": {
      "text/html": [
       "<div>\n",
       "<style scoped>\n",
       "    .dataframe tbody tr th:only-of-type {\n",
       "        vertical-align: middle;\n",
       "    }\n",
       "\n",
       "    .dataframe tbody tr th {\n",
       "        vertical-align: top;\n",
       "    }\n",
       "\n",
       "    .dataframe thead th {\n",
       "        text-align: right;\n",
       "    }\n",
       "</style>\n",
       "<table border=\"1\" class=\"dataframe\">\n",
       "  <thead>\n",
       "    <tr style=\"text-align: right;\">\n",
       "      <th></th>\n",
       "      <th>Unnamed: 0</th>\n",
       "      <th>신고일자</th>\n",
       "      <th>통관지세관부호</th>\n",
       "      <th>신고인부호</th>\n",
       "      <th>특송업체부호</th>\n",
       "      <th>수입통관계획코드</th>\n",
       "      <th>수입신고구분코드</th>\n",
       "      <th>수입거래구분코드</th>\n",
       "      <th>수입종류코드</th>\n",
       "      <th>징수형태코드</th>\n",
       "      <th>신고중량(KG)</th>\n",
       "      <th>과세가격원화금액</th>\n",
       "      <th>운송수단유형코드</th>\n",
       "      <th>적출국가코드</th>\n",
       "      <th>원산지국가코드</th>\n",
       "      <th>관세율구분코드</th>\n",
       "      <th>관세율</th>\n",
       "      <th>우범여부</th>\n",
       "    </tr>\n",
       "  </thead>\n",
       "  <tbody>\n",
       "    <tr>\n",
       "      <th>0</th>\n",
       "      <td>0</td>\n",
       "      <td>2020-01-01</td>\n",
       "      <td>121</td>\n",
       "      <td>2O5A2</td>\n",
       "      <td>TQ18AK</td>\n",
       "      <td>D</td>\n",
       "      <td>B</td>\n",
       "      <td>15</td>\n",
       "      <td>23</td>\n",
       "      <td>43</td>\n",
       "      <td>4.844187</td>\n",
       "      <td>8.593963</td>\n",
       "      <td>10</td>\n",
       "      <td>US</td>\n",
       "      <td>US</td>\n",
       "      <td>A</td>\n",
       "      <td>8.0</td>\n",
       "      <td>1</td>\n",
       "    </tr>\n",
       "    <tr>\n",
       "      <th>1</th>\n",
       "      <td>1</td>\n",
       "      <td>2020-01-01</td>\n",
       "      <td>30</td>\n",
       "      <td>305K5</td>\n",
       "      <td>nan</td>\n",
       "      <td>C</td>\n",
       "      <td>B</td>\n",
       "      <td>11</td>\n",
       "      <td>21</td>\n",
       "      <td>11</td>\n",
       "      <td>10.303820</td>\n",
       "      <td>13.258812</td>\n",
       "      <td>40</td>\n",
       "      <td>US</td>\n",
       "      <td>US</td>\n",
       "      <td>A</td>\n",
       "      <td>8.0</td>\n",
       "      <td>0</td>\n",
       "    </tr>\n",
       "    <tr>\n",
       "      <th>2</th>\n",
       "      <td>2</td>\n",
       "      <td>2020-01-01</td>\n",
       "      <td>20</td>\n",
       "      <td>CGMT6</td>\n",
       "      <td>nan</td>\n",
       "      <td>D</td>\n",
       "      <td>B</td>\n",
       "      <td>11</td>\n",
       "      <td>21</td>\n",
       "      <td>18</td>\n",
       "      <td>10.067242</td>\n",
       "      <td>10.862759</td>\n",
       "      <td>40</td>\n",
       "      <td>US</td>\n",
       "      <td>US</td>\n",
       "      <td>A</td>\n",
       "      <td>10.0</td>\n",
       "      <td>0</td>\n",
       "    </tr>\n",
       "    <tr>\n",
       "      <th>3</th>\n",
       "      <td>3</td>\n",
       "      <td>2020-01-01</td>\n",
       "      <td>40</td>\n",
       "      <td>QWUTG</td>\n",
       "      <td>nan</td>\n",
       "      <td>C</td>\n",
       "      <td>B</td>\n",
       "      <td>94</td>\n",
       "      <td>21</td>\n",
       "      <td>43</td>\n",
       "      <td>9.429564</td>\n",
       "      <td>14.388527</td>\n",
       "      <td>40</td>\n",
       "      <td>CN</td>\n",
       "      <td>CN</td>\n",
       "      <td>A</td>\n",
       "      <td>8.0</td>\n",
       "      <td>0</td>\n",
       "    </tr>\n",
       "    <tr>\n",
       "      <th>4</th>\n",
       "      <td>4</td>\n",
       "      <td>2020-01-01</td>\n",
       "      <td>30</td>\n",
       "      <td>0X1CO</td>\n",
       "      <td>nan</td>\n",
       "      <td>C</td>\n",
       "      <td>B</td>\n",
       "      <td>11</td>\n",
       "      <td>21</td>\n",
       "      <td>43</td>\n",
       "      <td>9.661015</td>\n",
       "      <td>15.987683</td>\n",
       "      <td>40</td>\n",
       "      <td>CN</td>\n",
       "      <td>CN</td>\n",
       "      <td>FCN1</td>\n",
       "      <td>5.2</td>\n",
       "      <td>1</td>\n",
       "    </tr>\n",
       "  </tbody>\n",
       "</table>\n",
       "</div>"
      ],
      "text/plain": [
       "   Unnamed: 0        신고일자 통관지세관부호  신고인부호  특송업체부호 수입통관계획코드 수입신고구분코드 수입거래구분코드  \\\n",
       "0           0  2020-01-01     121  2O5A2  TQ18AK        D        B       15   \n",
       "1           1  2020-01-01      30  305K5     nan        C        B       11   \n",
       "2           2  2020-01-01      20  CGMT6     nan        D        B       11   \n",
       "3           3  2020-01-01      40  QWUTG     nan        C        B       94   \n",
       "4           4  2020-01-01      30  0X1CO     nan        C        B       11   \n",
       "\n",
       "  수입종류코드 징수형태코드   신고중량(KG)   과세가격원화금액 운송수단유형코드 적출국가코드 원산지국가코드 관세율구분코드   관세율  \\\n",
       "0     23     43   4.844187   8.593963       10     US      US       A   8.0   \n",
       "1     21     11  10.303820  13.258812       40     US      US       A   8.0   \n",
       "2     21     18  10.067242  10.862759       40     US      US       A  10.0   \n",
       "3     21     43   9.429564  14.388527       40     CN      CN       A   8.0   \n",
       "4     21     43   9.661015  15.987683       40     CN      CN    FCN1   5.2   \n",
       "\n",
       "   우범여부  \n",
       "0     1  \n",
       "1     0  \n",
       "2     0  \n",
       "3     0  \n",
       "4     1  "
      ]
     },
     "execution_count": 7,
     "metadata": {},
     "output_type": "execute_result"
    }
   ],
   "source": [
    "df_org.head(5)"
   ]
  },
  {
   "cell_type": "markdown",
   "metadata": {},
   "source": [
    "# 원본 데이터셋"
   ]
  },
  {
   "cell_type": "code",
   "execution_count": 8,
   "metadata": {},
   "outputs": [
    {
     "name": "stdout",
     "output_type": "stream",
     "text": [
      "<class 'pandas.core.frame.DataFrame'>\n",
      "RangeIndex: 76837 entries, 0 to 76836\n",
      "Data columns (total 18 columns):\n",
      " #   Column      Non-Null Count  Dtype  \n",
      "---  ------      --------------  -----  \n",
      " 0   Unnamed: 0  76837 non-null  int64  \n",
      " 1   신고일자        76837 non-null  object \n",
      " 2   통관지세관부호     76837 non-null  object \n",
      " 3   신고인부호       76837 non-null  object \n",
      " 4   특송업체부호      76837 non-null  object \n",
      " 5   수입통관계획코드    76837 non-null  object \n",
      " 6   수입신고구분코드    76837 non-null  object \n",
      " 7   수입거래구분코드    76837 non-null  object \n",
      " 8   수입종류코드      76837 non-null  object \n",
      " 9   징수형태코드      76837 non-null  object \n",
      " 10  신고중량(KG)    76837 non-null  float64\n",
      " 11  과세가격원화금액    76837 non-null  float64\n",
      " 12  운송수단유형코드    76837 non-null  object \n",
      " 13  적출국가코드      76837 non-null  object \n",
      " 14  원산지국가코드     76837 non-null  object \n",
      " 15  관세율구분코드     76837 non-null  object \n",
      " 16  관세율         76837 non-null  float64\n",
      " 17  우범여부        76837 non-null  int64  \n",
      "dtypes: float64(3), int64(2), object(13)\n",
      "memory usage: 10.6+ MB\n"
     ]
    }
   ],
   "source": [
    "df_org.info()"
   ]
  },
  {
   "cell_type": "markdown",
   "metadata": {},
   "source": [
    "# 훈련/시험 데이터셋 분할\n",
    "# 이후 레이블 인코딩 진행"
   ]
  },
  {
   "cell_type": "code",
   "execution_count": 9,
   "metadata": {},
   "outputs": [],
   "source": [
    "df_train = df_org.iloc[:int(len(df_org)*0.9), :]\n",
    "df_test = df_org.iloc[int(len(df_org)*0.9):, :]"
   ]
  },
  {
   "cell_type": "code",
   "execution_count": 10,
   "metadata": {},
   "outputs": [
    {
     "name": "stderr",
     "output_type": "stream",
     "text": [
      "<ipython-input-10-8ef4b9db707e>:8: SettingWithCopyWarning: \n",
      "A value is trying to be set on a copy of a slice from a DataFrame.\n",
      "Try using .loc[row_indexer,col_indexer] = value instead\n",
      "\n",
      "See the caveats in the documentation: https://pandas.pydata.org/pandas-docs/stable/user_guide/indexing.html#returning-a-view-versus-a-copy\n",
      "  df_train[var] = [label_encoding_ref[var][x] for x in df_train[var]]\n",
      "<ipython-input-10-8ef4b9db707e>:9: SettingWithCopyWarning: \n",
      "A value is trying to be set on a copy of a slice from a DataFrame.\n",
      "Try using .loc[row_indexer,col_indexer] = value instead\n",
      "\n",
      "See the caveats in the documentation: https://pandas.pydata.org/pandas-docs/stable/user_guide/indexing.html#returning-a-view-versus-a-copy\n",
      "  df_test[var] = [label_encoding_ref[var].get(x,0) for x in df_test[var]]\n"
     ]
    }
   ],
   "source": [
    "# 범주형 변수 전처리 1단계: label encoding --> 각 범주형 변수가 갖는 클래스에 고유의 식별번호 부여\n",
    "# 예) 수입자 상호: AAABB -> 1, 가나다라 -> 2, ...\n",
    "\n",
    "label_encoding_ref = {}\n",
    "for var in discrete_columns:\n",
    "    label_encoding_ref[var] = {code: i+1 for i, code in enumerate(df_train[var].unique())} # 0 padding for unseen data in test\n",
    "    #print(label_encoding_ref[var])\n",
    "    df_train[var] = [label_encoding_ref[var][x] for x in df_train[var]]\n",
    "    df_test[var] = [label_encoding_ref[var].get(x,0) for x in df_test[var]]\n",
    "\n",
    "df_train.reset_index(drop=True, inplace=True)\n",
    "df_test.reset_index(drop=True, inplace=True)"
   ]
  },
  {
   "cell_type": "code",
   "execution_count": 11,
   "metadata": {},
   "outputs": [
    {
     "data": {
      "text/plain": [
       "(       Unnamed: 0  신고일자  통관지세관부호  신고인부호  특송업체부호  수입통관계획코드  수입신고구분코드  수입거래구분코드  \\\n",
       " 0               0     1        1      1       1         1         1         1   \n",
       " 1               1     1        2      2       2         2         1         2   \n",
       " 2               2     1        3      3       2         1         1         2   \n",
       " 3               3     1        4      4       2         2         1         3   \n",
       " 4               4     1        2      5       2         2         1         2   \n",
       " ...           ...   ...      ...    ...     ...       ...       ...       ...   \n",
       " 69148       69148   243        2     99      36         1         1         1   \n",
       " 69149       69149   243        4     24       2         1         1         2   \n",
       " 69150       69150   243        4     24       2         1         1         2   \n",
       " 69151       69151   243        5     20       2         1         1         2   \n",
       " 69152       69152   243        4    354       2         3         1         2   \n",
       " \n",
       "        수입종류코드  징수형태코드   신고중량(KG)   과세가격원화금액  운송수단유형코드  적출국가코드  원산지국가코드  \\\n",
       " 0           1       1   4.844187   8.593963         1       1        1   \n",
       " 1           2       2  10.303820  13.258812         2       1        1   \n",
       " 2           2       3  10.067242  10.862759         2       1        1   \n",
       " 3           2       1   9.429564  14.388527         2       2        2   \n",
       " 4           2       1   9.661015  15.987683         2       2        2   \n",
       " ...       ...     ...        ...        ...       ...     ...      ...   \n",
       " 69148       2       3   7.792390  12.591555         1      16       47   \n",
       " 69149       2       1   8.601589  12.955920         2      10       17   \n",
       " 69150       2       2   8.892460  13.705144         1       3        3   \n",
       " 69151       2       2   9.107255   9.934120         2       2        2   \n",
       " 69152       2       2   9.045560  14.363811         1       1       23   \n",
       " \n",
       "        관세율구분코드   관세율  우범여부  \n",
       " 0            1   8.0     1  \n",
       " 1            1   8.0     0  \n",
       " 2            1  10.0     0  \n",
       " 3            1   8.0     0  \n",
       " 4            2   5.2     1  \n",
       " ...        ...   ...   ...  \n",
       " 69148        8   0.0     1  \n",
       " 69149        1  13.0     0  \n",
       " 69150        1   0.0     0  \n",
       " 69151        3   6.5     0  \n",
       " 69152        3   8.0     0  \n",
       " \n",
       " [69153 rows x 18 columns],\n",
       "       Unnamed: 0  신고일자  통관지세관부호  신고인부호  특송업체부호  수입통관계획코드  수입신고구분코드  수입거래구분코드  \\\n",
       " 0          69153   243        4     87       2         1         1         2   \n",
       " 1          69154   243        5     53       2         1         1         2   \n",
       " 2          69155   243        5    469       2         4         1         2   \n",
       " 3          69156   243        5      3       2         1         1         2   \n",
       " 4          69157   243        2     45       2         3         1         2   \n",
       " ...          ...   ...      ...    ...     ...       ...       ...       ...   \n",
       " 7679       76832     0        4     33       2         2         2         2   \n",
       " 7680       76833     0        4    219       2         3         1         5   \n",
       " 7681       76834     0        4    256       2         1         1         5   \n",
       " 7682       76835     0        4    144       6         1         1         4   \n",
       " 7683       76836     0        4      3       7         1         1         1   \n",
       " \n",
       "       수입종류코드  징수형태코드   신고중량(KG)   과세가격원화금액  운송수단유형코드  적출국가코드  원산지국가코드  \\\n",
       " 0          2       2   8.631450  16.057899         1       1        2   \n",
       " 1          2       2   8.877270  11.981331         1      14       46   \n",
       " 2          2       3   8.968231  14.826829         2       2        2   \n",
       " 3          2       2  10.986924  17.484289         1       2        2   \n",
       " 4          2       1   8.975314  10.928144         2       3        3   \n",
       " ...      ...     ...        ...        ...       ...     ...      ...   \n",
       " 7679       2       2   8.591855  11.733612         1      20       19   \n",
       " 7680       2       2   8.927580  13.979382         1       3        3   \n",
       " 7681       2       2   7.885630  16.820478         2       2        2   \n",
       " 7682       2       4   8.230737  15.693614         3       1        1   \n",
       " 7683       2       3   8.644935  11.786702         2      20       19   \n",
       " \n",
       "       관세율구분코드   관세율  우범여부  \n",
       " 0           3   0.0     1  \n",
       " 1           1   8.0     0  \n",
       " 2           3  27.0     0  \n",
       " 3           2  14.0     0  \n",
       " 4           4   4.9     0  \n",
       " ...       ...   ...   ...  \n",
       " 7679        3   8.0     0  \n",
       " 7680        1   8.0     1  \n",
       " 7681        2   0.0     0  \n",
       " 7682        1   3.0     1  \n",
       " 7683        3   8.0     1  \n",
       " \n",
       " [7684 rows x 18 columns])"
      ]
     },
     "execution_count": 11,
     "metadata": {},
     "output_type": "execute_result"
    }
   ],
   "source": [
    "df_train, df_test"
   ]
  },
  {
   "cell_type": "code",
   "execution_count": 12,
   "metadata": {},
   "outputs": [
    {
     "name": "stdout",
     "output_type": "stream",
     "text": [
      "<class 'pandas.core.frame.DataFrame'>\n",
      "Int64Index: 76837 entries, 0 to 7683\n",
      "Data columns (total 18 columns):\n",
      " #   Column      Non-Null Count  Dtype  \n",
      "---  ------      --------------  -----  \n",
      " 0   Unnamed: 0  76837 non-null  int64  \n",
      " 1   신고일자        76837 non-null  int64  \n",
      " 2   통관지세관부호     76837 non-null  int64  \n",
      " 3   신고인부호       76837 non-null  int64  \n",
      " 4   특송업체부호      76837 non-null  int64  \n",
      " 5   수입통관계획코드    76837 non-null  int64  \n",
      " 6   수입신고구분코드    76837 non-null  int64  \n",
      " 7   수입거래구분코드    76837 non-null  int64  \n",
      " 8   수입종류코드      76837 non-null  int64  \n",
      " 9   징수형태코드      76837 non-null  int64  \n",
      " 10  신고중량(KG)    76837 non-null  float64\n",
      " 11  과세가격원화금액    76837 non-null  float64\n",
      " 12  운송수단유형코드    76837 non-null  int64  \n",
      " 13  적출국가코드      76837 non-null  int64  \n",
      " 14  원산지국가코드     76837 non-null  int64  \n",
      " 15  관세율구분코드     76837 non-null  int64  \n",
      " 16  관세율         76837 non-null  float64\n",
      " 17  우범여부        76837 non-null  int64  \n",
      "dtypes: float64(3), int64(15)\n",
      "memory usage: 11.1 MB\n"
     ]
    }
   ],
   "source": [
    "df_label_encoded = pd.concat([df_train, df_test])\n",
    "df_label_encoded.info()"
   ]
  },
  {
   "cell_type": "markdown",
   "metadata": {},
   "source": [
    "# 원핫인코딩 진행할 때 데이터셋 프로세스\n",
    "\n",
    "# * 원핫 진행할 때 이 셀로 시작 *"
   ]
  },
  {
   "cell_type": "code",
   "execution_count": 13,
   "metadata": {},
   "outputs": [
    {
     "name": "stdout",
     "output_type": "stream",
     "text": [
      "<class 'pandas.core.frame.DataFrame'>\n",
      "Int64Index: 69153 entries, 0 to 69152\n",
      "Data columns (total 18 columns):\n",
      " #   Column      Non-Null Count  Dtype  \n",
      "---  ------      --------------  -----  \n",
      " 0   Unnamed: 0  69153 non-null  int64  \n",
      " 1   신고일자        69153 non-null  int64  \n",
      " 2   통관지세관부호     69153 non-null  int64  \n",
      " 3   신고인부호       69153 non-null  int64  \n",
      " 4   특송업체부호      69153 non-null  int64  \n",
      " 5   수입통관계획코드    69153 non-null  int64  \n",
      " 6   수입신고구분코드    69153 non-null  int64  \n",
      " 7   수입거래구분코드    69153 non-null  int64  \n",
      " 8   수입종류코드      69153 non-null  int64  \n",
      " 9   징수형태코드      69153 non-null  int64  \n",
      " 10  신고중량(KG)    69153 non-null  float64\n",
      " 11  과세가격원화금액    69153 non-null  float64\n",
      " 12  운송수단유형코드    69153 non-null  int64  \n",
      " 13  적출국가코드      69153 non-null  int64  \n",
      " 14  원산지국가코드     69153 non-null  int64  \n",
      " 15  관세율구분코드     69153 non-null  int64  \n",
      " 16  관세율         69153 non-null  float64\n",
      " 17  우범여부        69153 non-null  int64  \n",
      "dtypes: float64(3), int64(15)\n",
      "memory usage: 10.0 MB\n",
      "<class 'pandas.core.frame.DataFrame'>\n",
      "Int64Index: 7684 entries, 0 to 7683\n",
      "Data columns (total 18 columns):\n",
      " #   Column      Non-Null Count  Dtype  \n",
      "---  ------      --------------  -----  \n",
      " 0   Unnamed: 0  7684 non-null   int64  \n",
      " 1   신고일자        7684 non-null   int64  \n",
      " 2   통관지세관부호     7684 non-null   int64  \n",
      " 3   신고인부호       7684 non-null   int64  \n",
      " 4   특송업체부호      7684 non-null   int64  \n",
      " 5   수입통관계획코드    7684 non-null   int64  \n",
      " 6   수입신고구분코드    7684 non-null   int64  \n",
      " 7   수입거래구분코드    7684 non-null   int64  \n",
      " 8   수입종류코드      7684 non-null   int64  \n",
      " 9   징수형태코드      7684 non-null   int64  \n",
      " 10  신고중량(KG)    7684 non-null   float64\n",
      " 11  과세가격원화금액    7684 non-null   float64\n",
      " 12  운송수단유형코드    7684 non-null   int64  \n",
      " 13  적출국가코드      7684 non-null   int64  \n",
      " 14  원산지국가코드     7684 non-null   int64  \n",
      " 15  관세율구분코드     7684 non-null   int64  \n",
      " 16  관세율         7684 non-null   float64\n",
      " 17  우범여부        7684 non-null   int64  \n",
      "dtypes: float64(3), int64(15)\n",
      "memory usage: 1.1 MB\n"
     ]
    }
   ],
   "source": [
    "df_train = df_label_encoded.iloc[:int(len(df_org)*0.9), :]\n",
    "df_test = df_label_encoded.iloc[int(len(df_org)*0.9):, :]\n",
    "\n",
    "df_train.info(), df_test.info()\n",
    "\n",
    "from sklearn.preprocessing import OneHotEncoder\n",
    "# 원핫인코더 활성화\n",
    "xgbohe = OneHotEncoder(categories=\"auto\", handle_unknown='ignore')\n",
    "# 훈련데이터: 범주형 변수만 분리하여 원핫인코딩 적용\n",
    "df_train_cat = xgbohe.fit_transform(df_train[discrete_columns])\n",
    "df_train_cat = pd.DataFrame(df_train_cat.toarray(), \n",
    "                                columns = xgbohe.get_feature_names(discrete_columns))\n",
    "# 수치형 변수 분리\n",
    "df_train_num = df_train[numeric_columns]\n",
    "\n",
    "# 원핫인코딩된 범주형 변수와 수치형 변수 재결합\n",
    "df_train = pd.concat([df_train_num, df_train_cat], axis=1)"
   ]
  },
  {
   "cell_type": "code",
   "execution_count": 14,
   "metadata": {},
   "outputs": [],
   "source": [
    "# 테스트데이터: 범주형 변수만 분리하여 원핫인코딩 적용\n",
    "df_test_cat = xgbohe.transform(df_test[discrete_columns])\n",
    "df_test_cat = pd.DataFrame(df_test_cat.toarray(), \n",
    "                               columns = xgbohe.get_feature_names(discrete_columns))\n",
    "# 수치형 변수 분리\n",
    "df_test_num = df_test[numeric_columns]\n",
    "# 원핫인코딩된 범주형 변수와 수치형 변수 재결합\n",
    "df_test = pd.concat([df_test_num, df_test_cat], axis=1)"
   ]
  },
  {
   "cell_type": "code",
   "execution_count": 15,
   "metadata": {},
   "outputs": [
    {
     "data": {
      "text/plain": [
       "(69153, 1610)"
      ]
     },
     "execution_count": 15,
     "metadata": {},
     "output_type": "execute_result"
    }
   ],
   "source": [
    "df_train.shape"
   ]
  },
  {
   "cell_type": "markdown",
   "metadata": {},
   "source": [
    "# 원핫 혹은 레이블 인코딩 완료\n",
    "# 완전한 데이터셋 구성 후 분리"
   ]
  },
  {
   "cell_type": "code",
   "execution_count": 16,
   "metadata": {},
   "outputs": [],
   "source": [
    "df_train_x = df_train\n",
    "df_train_y = df_train_x.pop(\"우범여부\")"
   ]
  },
  {
   "cell_type": "code",
   "execution_count": 17,
   "metadata": {},
   "outputs": [],
   "source": [
    "df_test_x = df_test\n",
    "df_test_y = df_test_x.pop(\"우범여부\")"
   ]
  },
  {
   "cell_type": "code",
   "execution_count": 18,
   "metadata": {},
   "outputs": [
    {
     "data": {
      "text/plain": [
       "(        신고중량(KG)   과세가격원화금액   관세율  신고일자_1  신고일자_2  신고일자_3  신고일자_4  신고일자_5  \\\n",
       " 0       4.844187   8.593963   8.0     1.0     0.0     0.0     0.0     0.0   \n",
       " 1      10.303820  13.258812   8.0     1.0     0.0     0.0     0.0     0.0   \n",
       " 2      10.067242  10.862759  10.0     1.0     0.0     0.0     0.0     0.0   \n",
       " 3       9.429564  14.388527   8.0     1.0     0.0     0.0     0.0     0.0   \n",
       " 4       9.661015  15.987683   5.2     1.0     0.0     0.0     0.0     0.0   \n",
       " ...          ...        ...   ...     ...     ...     ...     ...     ...   \n",
       " 69148   7.792390  12.591555   0.0     0.0     0.0     0.0     0.0     0.0   \n",
       " 69149   8.601589  12.955920  13.0     0.0     0.0     0.0     0.0     0.0   \n",
       " 69150   8.892460  13.705144   0.0     0.0     0.0     0.0     0.0     0.0   \n",
       " 69151   9.107255   9.934120   6.5     0.0     0.0     0.0     0.0     0.0   \n",
       " 69152   9.045560  14.363811   8.0     0.0     0.0     0.0     0.0     0.0   \n",
       " \n",
       "        신고일자_6  신고일자_7  ...  관세율구분코드_26  관세율구분코드_27  관세율구분코드_28  관세율구분코드_29  \\\n",
       " 0         0.0     0.0  ...         0.0         0.0         0.0         0.0   \n",
       " 1         0.0     0.0  ...         0.0         0.0         0.0         0.0   \n",
       " 2         0.0     0.0  ...         0.0         0.0         0.0         0.0   \n",
       " 3         0.0     0.0  ...         0.0         0.0         0.0         0.0   \n",
       " 4         0.0     0.0  ...         0.0         0.0         0.0         0.0   \n",
       " ...       ...     ...  ...         ...         ...         ...         ...   \n",
       " 69148     0.0     0.0  ...         0.0         0.0         0.0         0.0   \n",
       " 69149     0.0     0.0  ...         0.0         0.0         0.0         0.0   \n",
       " 69150     0.0     0.0  ...         0.0         0.0         0.0         0.0   \n",
       " 69151     0.0     0.0  ...         0.0         0.0         0.0         0.0   \n",
       " 69152     0.0     0.0  ...         0.0         0.0         0.0         0.0   \n",
       " \n",
       "        관세율구분코드_30  관세율구분코드_31  관세율구분코드_32  관세율구분코드_33  관세율구분코드_34  관세율구분코드_35  \n",
       " 0             0.0         0.0         0.0         0.0         0.0         0.0  \n",
       " 1             0.0         0.0         0.0         0.0         0.0         0.0  \n",
       " 2             0.0         0.0         0.0         0.0         0.0         0.0  \n",
       " 3             0.0         0.0         0.0         0.0         0.0         0.0  \n",
       " 4             0.0         0.0         0.0         0.0         0.0         0.0  \n",
       " ...           ...         ...         ...         ...         ...         ...  \n",
       " 69148         0.0         0.0         0.0         0.0         0.0         0.0  \n",
       " 69149         0.0         0.0         0.0         0.0         0.0         0.0  \n",
       " 69150         0.0         0.0         0.0         0.0         0.0         0.0  \n",
       " 69151         0.0         0.0         0.0         0.0         0.0         0.0  \n",
       " 69152         0.0         0.0         0.0         0.0         0.0         0.0  \n",
       " \n",
       " [69153 rows x 1609 columns],\n",
       " 0        1\n",
       " 1        0\n",
       " 2        0\n",
       " 3        0\n",
       " 4        1\n",
       "         ..\n",
       " 69148    1\n",
       " 69149    0\n",
       " 69150    0\n",
       " 69151    0\n",
       " 69152    0\n",
       " Name: 우범여부, Length: 69153, dtype: int64)"
      ]
     },
     "execution_count": 18,
     "metadata": {},
     "output_type": "execute_result"
    }
   ],
   "source": [
    "df_train_x, df_train_y"
   ]
  },
  {
   "cell_type": "markdown",
   "metadata": {},
   "source": [
    "# Feature Selection Sampling Test"
   ]
  },
  {
   "cell_type": "code",
   "execution_count": 19,
   "metadata": {},
   "outputs": [],
   "source": [
    "X, y = df_train_x.iloc[:1000, 1:], df_train_y.iloc[:1000]\n",
    "# Sampling 1000 - 신고번호 제외"
   ]
  },
  {
   "cell_type": "markdown",
   "metadata": {},
   "source": [
    "# SVM - RFECV Feature Selection"
   ]
  },
  {
   "cell_type": "code",
   "execution_count": 20,
   "metadata": {},
   "outputs": [
    {
     "ename": "KeyboardInterrupt",
     "evalue": "",
     "output_type": "error",
     "traceback": [
      "\u001b[1;31m---------------------------------------------------------------------------\u001b[0m",
      "\u001b[1;31mKeyboardInterrupt\u001b[0m                         Traceback (most recent call last)",
      "\u001b[1;32m<ipython-input-20-10d13d8fcfda>\u001b[0m in \u001b[0;36m<module>\u001b[1;34m\u001b[0m\n\u001b[0;32m     12\u001b[0m               \u001b[0mscoring\u001b[0m\u001b[1;33m=\u001b[0m\u001b[1;34m'accuracy'\u001b[0m\u001b[1;33m,\u001b[0m\u001b[1;33m\u001b[0m\u001b[1;33m\u001b[0m\u001b[0m\n\u001b[0;32m     13\u001b[0m               min_features_to_select=min_features_to_select)\n\u001b[1;32m---> 14\u001b[1;33m \u001b[0mrfecv\u001b[0m\u001b[1;33m.\u001b[0m\u001b[0mfit\u001b[0m\u001b[1;33m(\u001b[0m\u001b[0mX\u001b[0m\u001b[1;33m,\u001b[0m \u001b[0my\u001b[0m\u001b[1;33m)\u001b[0m\u001b[1;33m\u001b[0m\u001b[1;33m\u001b[0m\u001b[0m\n\u001b[0m\u001b[0;32m     15\u001b[0m \u001b[0mprint\u001b[0m\u001b[1;33m(\u001b[0m\u001b[1;34m\"Optimal number of features : %d\"\u001b[0m \u001b[1;33m%\u001b[0m \u001b[0mrfecv\u001b[0m\u001b[1;33m.\u001b[0m\u001b[0mn_features_\u001b[0m\u001b[1;33m)\u001b[0m\u001b[1;33m\u001b[0m\u001b[1;33m\u001b[0m\u001b[0m\n",
      "\u001b[1;32m~\\anaconda3\\lib\\site-packages\\sklearn\\feature_selection\\_rfe.py\u001b[0m in \u001b[0;36mfit\u001b[1;34m(self, X, y, groups)\u001b[0m\n\u001b[0;32m    548\u001b[0m             \u001b[0mfunc\u001b[0m \u001b[1;33m=\u001b[0m \u001b[0mdelayed\u001b[0m\u001b[1;33m(\u001b[0m\u001b[0m_rfe_single_fit\u001b[0m\u001b[1;33m)\u001b[0m\u001b[1;33m\u001b[0m\u001b[1;33m\u001b[0m\u001b[0m\n\u001b[0;32m    549\u001b[0m \u001b[1;33m\u001b[0m\u001b[0m\n\u001b[1;32m--> 550\u001b[1;33m         scores = parallel(\n\u001b[0m\u001b[0;32m    551\u001b[0m             \u001b[0mfunc\u001b[0m\u001b[1;33m(\u001b[0m\u001b[0mrfe\u001b[0m\u001b[1;33m,\u001b[0m \u001b[0mself\u001b[0m\u001b[1;33m.\u001b[0m\u001b[0mestimator\u001b[0m\u001b[1;33m,\u001b[0m \u001b[0mX\u001b[0m\u001b[1;33m,\u001b[0m \u001b[0my\u001b[0m\u001b[1;33m,\u001b[0m \u001b[0mtrain\u001b[0m\u001b[1;33m,\u001b[0m \u001b[0mtest\u001b[0m\u001b[1;33m,\u001b[0m \u001b[0mscorer\u001b[0m\u001b[1;33m)\u001b[0m\u001b[1;33m\u001b[0m\u001b[1;33m\u001b[0m\u001b[0m\n\u001b[0;32m    552\u001b[0m             for train, test in cv.split(X, y, groups))\n",
      "\u001b[1;32m~\\anaconda3\\lib\\site-packages\\sklearn\\feature_selection\\_rfe.py\u001b[0m in \u001b[0;36m<genexpr>\u001b[1;34m(.0)\u001b[0m\n\u001b[0;32m    549\u001b[0m \u001b[1;33m\u001b[0m\u001b[0m\n\u001b[0;32m    550\u001b[0m         scores = parallel(\n\u001b[1;32m--> 551\u001b[1;33m             \u001b[0mfunc\u001b[0m\u001b[1;33m(\u001b[0m\u001b[0mrfe\u001b[0m\u001b[1;33m,\u001b[0m \u001b[0mself\u001b[0m\u001b[1;33m.\u001b[0m\u001b[0mestimator\u001b[0m\u001b[1;33m,\u001b[0m \u001b[0mX\u001b[0m\u001b[1;33m,\u001b[0m \u001b[0my\u001b[0m\u001b[1;33m,\u001b[0m \u001b[0mtrain\u001b[0m\u001b[1;33m,\u001b[0m \u001b[0mtest\u001b[0m\u001b[1;33m,\u001b[0m \u001b[0mscorer\u001b[0m\u001b[1;33m)\u001b[0m\u001b[1;33m\u001b[0m\u001b[1;33m\u001b[0m\u001b[0m\n\u001b[0m\u001b[0;32m    552\u001b[0m             for train, test in cv.split(X, y, groups))\n\u001b[0;32m    553\u001b[0m \u001b[1;33m\u001b[0m\u001b[0m\n",
      "\u001b[1;32m~\\anaconda3\\lib\\site-packages\\sklearn\\feature_selection\\_rfe.py\u001b[0m in \u001b[0;36m_rfe_single_fit\u001b[1;34m(rfe, estimator, X, y, train, test, scorer)\u001b[0m\n\u001b[0;32m     31\u001b[0m     \u001b[0mX_train\u001b[0m\u001b[1;33m,\u001b[0m \u001b[0my_train\u001b[0m \u001b[1;33m=\u001b[0m \u001b[0m_safe_split\u001b[0m\u001b[1;33m(\u001b[0m\u001b[0mestimator\u001b[0m\u001b[1;33m,\u001b[0m \u001b[0mX\u001b[0m\u001b[1;33m,\u001b[0m \u001b[0my\u001b[0m\u001b[1;33m,\u001b[0m \u001b[0mtrain\u001b[0m\u001b[1;33m)\u001b[0m\u001b[1;33m\u001b[0m\u001b[1;33m\u001b[0m\u001b[0m\n\u001b[0;32m     32\u001b[0m     \u001b[0mX_test\u001b[0m\u001b[1;33m,\u001b[0m \u001b[0my_test\u001b[0m \u001b[1;33m=\u001b[0m \u001b[0m_safe_split\u001b[0m\u001b[1;33m(\u001b[0m\u001b[0mestimator\u001b[0m\u001b[1;33m,\u001b[0m \u001b[0mX\u001b[0m\u001b[1;33m,\u001b[0m \u001b[0my\u001b[0m\u001b[1;33m,\u001b[0m \u001b[0mtest\u001b[0m\u001b[1;33m,\u001b[0m \u001b[0mtrain\u001b[0m\u001b[1;33m)\u001b[0m\u001b[1;33m\u001b[0m\u001b[1;33m\u001b[0m\u001b[0m\n\u001b[1;32m---> 33\u001b[1;33m     return rfe._fit(\n\u001b[0m\u001b[0;32m     34\u001b[0m         \u001b[0mX_train\u001b[0m\u001b[1;33m,\u001b[0m \u001b[0my_train\u001b[0m\u001b[1;33m,\u001b[0m \u001b[1;32mlambda\u001b[0m \u001b[0mestimator\u001b[0m\u001b[1;33m,\u001b[0m \u001b[0mfeatures\u001b[0m\u001b[1;33m:\u001b[0m\u001b[1;33m\u001b[0m\u001b[1;33m\u001b[0m\u001b[0m\n\u001b[0;32m     35\u001b[0m         _score(estimator, X_test[:, features], y_test, scorer)).scores_\n",
      "\u001b[1;32m~\\anaconda3\\lib\\site-packages\\sklearn\\feature_selection\\_rfe.py\u001b[0m in \u001b[0;36m_fit\u001b[1;34m(self, X, y, step_score)\u001b[0m\n\u001b[0;32m    222\u001b[0m             \u001b[1;31m# that have not been eliminated yet\u001b[0m\u001b[1;33m\u001b[0m\u001b[1;33m\u001b[0m\u001b[1;33m\u001b[0m\u001b[0m\n\u001b[0;32m    223\u001b[0m             \u001b[1;32mif\u001b[0m \u001b[0mstep_score\u001b[0m\u001b[1;33m:\u001b[0m\u001b[1;33m\u001b[0m\u001b[1;33m\u001b[0m\u001b[0m\n\u001b[1;32m--> 224\u001b[1;33m                 \u001b[0mself\u001b[0m\u001b[1;33m.\u001b[0m\u001b[0mscores_\u001b[0m\u001b[1;33m.\u001b[0m\u001b[0mappend\u001b[0m\u001b[1;33m(\u001b[0m\u001b[0mstep_score\u001b[0m\u001b[1;33m(\u001b[0m\u001b[0mestimator\u001b[0m\u001b[1;33m,\u001b[0m \u001b[0mfeatures\u001b[0m\u001b[1;33m)\u001b[0m\u001b[1;33m)\u001b[0m\u001b[1;33m\u001b[0m\u001b[1;33m\u001b[0m\u001b[0m\n\u001b[0m\u001b[0;32m    225\u001b[0m             \u001b[0msupport_\u001b[0m\u001b[1;33m[\u001b[0m\u001b[0mfeatures\u001b[0m\u001b[1;33m[\u001b[0m\u001b[0mranks\u001b[0m\u001b[1;33m]\u001b[0m\u001b[1;33m[\u001b[0m\u001b[1;33m:\u001b[0m\u001b[0mthreshold\u001b[0m\u001b[1;33m]\u001b[0m\u001b[1;33m]\u001b[0m \u001b[1;33m=\u001b[0m \u001b[1;32mFalse\u001b[0m\u001b[1;33m\u001b[0m\u001b[1;33m\u001b[0m\u001b[0m\n\u001b[0;32m    226\u001b[0m             \u001b[0mranking_\u001b[0m\u001b[1;33m[\u001b[0m\u001b[0mnp\u001b[0m\u001b[1;33m.\u001b[0m\u001b[0mlogical_not\u001b[0m\u001b[1;33m(\u001b[0m\u001b[0msupport_\u001b[0m\u001b[1;33m)\u001b[0m\u001b[1;33m]\u001b[0m \u001b[1;33m+=\u001b[0m \u001b[1;36m1\u001b[0m\u001b[1;33m\u001b[0m\u001b[1;33m\u001b[0m\u001b[0m\n",
      "\u001b[1;32m~\\anaconda3\\lib\\site-packages\\sklearn\\feature_selection\\_rfe.py\u001b[0m in \u001b[0;36m<lambda>\u001b[1;34m(estimator, features)\u001b[0m\n\u001b[0;32m     33\u001b[0m     return rfe._fit(\n\u001b[0;32m     34\u001b[0m         \u001b[0mX_train\u001b[0m\u001b[1;33m,\u001b[0m \u001b[0my_train\u001b[0m\u001b[1;33m,\u001b[0m \u001b[1;32mlambda\u001b[0m \u001b[0mestimator\u001b[0m\u001b[1;33m,\u001b[0m \u001b[0mfeatures\u001b[0m\u001b[1;33m:\u001b[0m\u001b[1;33m\u001b[0m\u001b[1;33m\u001b[0m\u001b[0m\n\u001b[1;32m---> 35\u001b[1;33m         _score(estimator, X_test[:, features], y_test, scorer)).scores_\n\u001b[0m\u001b[0;32m     36\u001b[0m \u001b[1;33m\u001b[0m\u001b[0m\n\u001b[0;32m     37\u001b[0m \u001b[1;33m\u001b[0m\u001b[0m\n",
      "\u001b[1;32m~\\anaconda3\\lib\\site-packages\\sklearn\\model_selection\\_validation.py\u001b[0m in \u001b[0;36m_score\u001b[1;34m(estimator, X_test, y_test, scorer)\u001b[0m\n\u001b[0;32m    605\u001b[0m         \u001b[0mscores\u001b[0m \u001b[1;33m=\u001b[0m \u001b[0mscorer\u001b[0m\u001b[1;33m(\u001b[0m\u001b[0mestimator\u001b[0m\u001b[1;33m,\u001b[0m \u001b[0mX_test\u001b[0m\u001b[1;33m)\u001b[0m\u001b[1;33m\u001b[0m\u001b[1;33m\u001b[0m\u001b[0m\n\u001b[0;32m    606\u001b[0m     \u001b[1;32melse\u001b[0m\u001b[1;33m:\u001b[0m\u001b[1;33m\u001b[0m\u001b[1;33m\u001b[0m\u001b[0m\n\u001b[1;32m--> 607\u001b[1;33m         \u001b[0mscores\u001b[0m \u001b[1;33m=\u001b[0m \u001b[0mscorer\u001b[0m\u001b[1;33m(\u001b[0m\u001b[0mestimator\u001b[0m\u001b[1;33m,\u001b[0m \u001b[0mX_test\u001b[0m\u001b[1;33m,\u001b[0m \u001b[0my_test\u001b[0m\u001b[1;33m)\u001b[0m\u001b[1;33m\u001b[0m\u001b[1;33m\u001b[0m\u001b[0m\n\u001b[0m\u001b[0;32m    608\u001b[0m \u001b[1;33m\u001b[0m\u001b[0m\n\u001b[0;32m    609\u001b[0m     error_msg = (\"scoring must return a number, got %s (%s) \"\n",
      "\u001b[1;32m~\\anaconda3\\lib\\site-packages\\sklearn\\metrics\\_scorer.py\u001b[0m in \u001b[0;36m__call__\u001b[1;34m(self, estimator, X, y_true, sample_weight)\u001b[0m\n\u001b[0;32m    167\u001b[0m                           \u001b[0mcategory\u001b[0m\u001b[1;33m=\u001b[0m\u001b[0mFutureWarning\u001b[0m\u001b[1;33m,\u001b[0m\u001b[1;33m\u001b[0m\u001b[1;33m\u001b[0m\u001b[0m\n\u001b[0;32m    168\u001b[0m                           stacklevel=2)\n\u001b[1;32m--> 169\u001b[1;33m         return self._score(partial(_cached_call, None), estimator, X, y_true,\n\u001b[0m\u001b[0;32m    170\u001b[0m                            sample_weight=sample_weight)\n\u001b[0;32m    171\u001b[0m \u001b[1;33m\u001b[0m\u001b[0m\n",
      "\u001b[1;32m~\\anaconda3\\lib\\site-packages\\sklearn\\metrics\\_scorer.py\u001b[0m in \u001b[0;36m_score\u001b[1;34m(self, method_caller, estimator, X, y_true, sample_weight)\u001b[0m\n\u001b[0;32m    204\u001b[0m         \"\"\"\n\u001b[0;32m    205\u001b[0m \u001b[1;33m\u001b[0m\u001b[0m\n\u001b[1;32m--> 206\u001b[1;33m         \u001b[0my_pred\u001b[0m \u001b[1;33m=\u001b[0m \u001b[0mmethod_caller\u001b[0m\u001b[1;33m(\u001b[0m\u001b[0mestimator\u001b[0m\u001b[1;33m,\u001b[0m \u001b[1;34m\"predict\"\u001b[0m\u001b[1;33m,\u001b[0m \u001b[0mX\u001b[0m\u001b[1;33m)\u001b[0m\u001b[1;33m\u001b[0m\u001b[1;33m\u001b[0m\u001b[0m\n\u001b[0m\u001b[0;32m    207\u001b[0m         \u001b[1;32mif\u001b[0m \u001b[0msample_weight\u001b[0m \u001b[1;32mis\u001b[0m \u001b[1;32mnot\u001b[0m \u001b[1;32mNone\u001b[0m\u001b[1;33m:\u001b[0m\u001b[1;33m\u001b[0m\u001b[1;33m\u001b[0m\u001b[0m\n\u001b[0;32m    208\u001b[0m             return self._sign * self._score_func(y_true, y_pred,\n",
      "\u001b[1;32m~\\anaconda3\\lib\\site-packages\\sklearn\\metrics\\_scorer.py\u001b[0m in \u001b[0;36m_cached_call\u001b[1;34m(cache, estimator, method, *args, **kwargs)\u001b[0m\n\u001b[0;32m     51\u001b[0m     \u001b[1;34m\"\"\"Call estimator with method and args and kwargs.\"\"\"\u001b[0m\u001b[1;33m\u001b[0m\u001b[1;33m\u001b[0m\u001b[0m\n\u001b[0;32m     52\u001b[0m     \u001b[1;32mif\u001b[0m \u001b[0mcache\u001b[0m \u001b[1;32mis\u001b[0m \u001b[1;32mNone\u001b[0m\u001b[1;33m:\u001b[0m\u001b[1;33m\u001b[0m\u001b[1;33m\u001b[0m\u001b[0m\n\u001b[1;32m---> 53\u001b[1;33m         \u001b[1;32mreturn\u001b[0m \u001b[0mgetattr\u001b[0m\u001b[1;33m(\u001b[0m\u001b[0mestimator\u001b[0m\u001b[1;33m,\u001b[0m \u001b[0mmethod\u001b[0m\u001b[1;33m)\u001b[0m\u001b[1;33m(\u001b[0m\u001b[1;33m*\u001b[0m\u001b[0margs\u001b[0m\u001b[1;33m,\u001b[0m \u001b[1;33m**\u001b[0m\u001b[0mkwargs\u001b[0m\u001b[1;33m)\u001b[0m\u001b[1;33m\u001b[0m\u001b[1;33m\u001b[0m\u001b[0m\n\u001b[0m\u001b[0;32m     54\u001b[0m \u001b[1;33m\u001b[0m\u001b[0m\n\u001b[0;32m     55\u001b[0m     \u001b[1;32mtry\u001b[0m\u001b[1;33m:\u001b[0m\u001b[1;33m\u001b[0m\u001b[1;33m\u001b[0m\u001b[0m\n",
      "\u001b[1;32m~\\anaconda3\\lib\\site-packages\\sklearn\\svm\\_base.py\u001b[0m in \u001b[0;36mpredict\u001b[1;34m(self, X)\u001b[0m\n\u001b[0;32m    613\u001b[0m             \u001b[0my\u001b[0m \u001b[1;33m=\u001b[0m \u001b[0mnp\u001b[0m\u001b[1;33m.\u001b[0m\u001b[0margmax\u001b[0m\u001b[1;33m(\u001b[0m\u001b[0mself\u001b[0m\u001b[1;33m.\u001b[0m\u001b[0mdecision_function\u001b[0m\u001b[1;33m(\u001b[0m\u001b[0mX\u001b[0m\u001b[1;33m)\u001b[0m\u001b[1;33m,\u001b[0m \u001b[0maxis\u001b[0m\u001b[1;33m=\u001b[0m\u001b[1;36m1\u001b[0m\u001b[1;33m)\u001b[0m\u001b[1;33m\u001b[0m\u001b[1;33m\u001b[0m\u001b[0m\n\u001b[0;32m    614\u001b[0m         \u001b[1;32melse\u001b[0m\u001b[1;33m:\u001b[0m\u001b[1;33m\u001b[0m\u001b[1;33m\u001b[0m\u001b[0m\n\u001b[1;32m--> 615\u001b[1;33m             \u001b[0my\u001b[0m \u001b[1;33m=\u001b[0m \u001b[0msuper\u001b[0m\u001b[1;33m(\u001b[0m\u001b[1;33m)\u001b[0m\u001b[1;33m.\u001b[0m\u001b[0mpredict\u001b[0m\u001b[1;33m(\u001b[0m\u001b[0mX\u001b[0m\u001b[1;33m)\u001b[0m\u001b[1;33m\u001b[0m\u001b[1;33m\u001b[0m\u001b[0m\n\u001b[0m\u001b[0;32m    616\u001b[0m         \u001b[1;32mreturn\u001b[0m \u001b[0mself\u001b[0m\u001b[1;33m.\u001b[0m\u001b[0mclasses_\u001b[0m\u001b[1;33m.\u001b[0m\u001b[0mtake\u001b[0m\u001b[1;33m(\u001b[0m\u001b[0mnp\u001b[0m\u001b[1;33m.\u001b[0m\u001b[0masarray\u001b[0m\u001b[1;33m(\u001b[0m\u001b[0my\u001b[0m\u001b[1;33m,\u001b[0m \u001b[0mdtype\u001b[0m\u001b[1;33m=\u001b[0m\u001b[0mnp\u001b[0m\u001b[1;33m.\u001b[0m\u001b[0mintp\u001b[0m\u001b[1;33m)\u001b[0m\u001b[1;33m)\u001b[0m\u001b[1;33m\u001b[0m\u001b[1;33m\u001b[0m\u001b[0m\n\u001b[0;32m    617\u001b[0m \u001b[1;33m\u001b[0m\u001b[0m\n",
      "\u001b[1;32m~\\anaconda3\\lib\\site-packages\\sklearn\\svm\\_base.py\u001b[0m in \u001b[0;36mpredict\u001b[1;34m(self, X)\u001b[0m\n\u001b[0;32m    333\u001b[0m         \u001b[0mX\u001b[0m \u001b[1;33m=\u001b[0m \u001b[0mself\u001b[0m\u001b[1;33m.\u001b[0m\u001b[0m_validate_for_predict\u001b[0m\u001b[1;33m(\u001b[0m\u001b[0mX\u001b[0m\u001b[1;33m)\u001b[0m\u001b[1;33m\u001b[0m\u001b[1;33m\u001b[0m\u001b[0m\n\u001b[0;32m    334\u001b[0m         \u001b[0mpredict\u001b[0m \u001b[1;33m=\u001b[0m \u001b[0mself\u001b[0m\u001b[1;33m.\u001b[0m\u001b[0m_sparse_predict\u001b[0m \u001b[1;32mif\u001b[0m \u001b[0mself\u001b[0m\u001b[1;33m.\u001b[0m\u001b[0m_sparse\u001b[0m \u001b[1;32melse\u001b[0m \u001b[0mself\u001b[0m\u001b[1;33m.\u001b[0m\u001b[0m_dense_predict\u001b[0m\u001b[1;33m\u001b[0m\u001b[1;33m\u001b[0m\u001b[0m\n\u001b[1;32m--> 335\u001b[1;33m         \u001b[1;32mreturn\u001b[0m \u001b[0mpredict\u001b[0m\u001b[1;33m(\u001b[0m\u001b[0mX\u001b[0m\u001b[1;33m)\u001b[0m\u001b[1;33m\u001b[0m\u001b[1;33m\u001b[0m\u001b[0m\n\u001b[0m\u001b[0;32m    336\u001b[0m \u001b[1;33m\u001b[0m\u001b[0m\n\u001b[0;32m    337\u001b[0m     \u001b[1;32mdef\u001b[0m \u001b[0m_dense_predict\u001b[0m\u001b[1;33m(\u001b[0m\u001b[0mself\u001b[0m\u001b[1;33m,\u001b[0m \u001b[0mX\u001b[0m\u001b[1;33m)\u001b[0m\u001b[1;33m:\u001b[0m\u001b[1;33m\u001b[0m\u001b[1;33m\u001b[0m\u001b[0m\n",
      "\u001b[1;32m~\\anaconda3\\lib\\site-packages\\sklearn\\svm\\_base.py\u001b[0m in \u001b[0;36m_dense_predict\u001b[1;34m(self, X)\u001b[0m\n\u001b[0;32m    350\u001b[0m         \u001b[0msvm_type\u001b[0m \u001b[1;33m=\u001b[0m \u001b[0mLIBSVM_IMPL\u001b[0m\u001b[1;33m.\u001b[0m\u001b[0mindex\u001b[0m\u001b[1;33m(\u001b[0m\u001b[0mself\u001b[0m\u001b[1;33m.\u001b[0m\u001b[0m_impl\u001b[0m\u001b[1;33m)\u001b[0m\u001b[1;33m\u001b[0m\u001b[1;33m\u001b[0m\u001b[0m\n\u001b[0;32m    351\u001b[0m \u001b[1;33m\u001b[0m\u001b[0m\n\u001b[1;32m--> 352\u001b[1;33m         return libsvm.predict(\n\u001b[0m\u001b[0;32m    353\u001b[0m             \u001b[0mX\u001b[0m\u001b[1;33m,\u001b[0m \u001b[0mself\u001b[0m\u001b[1;33m.\u001b[0m\u001b[0msupport_\u001b[0m\u001b[1;33m,\u001b[0m \u001b[0mself\u001b[0m\u001b[1;33m.\u001b[0m\u001b[0msupport_vectors_\u001b[0m\u001b[1;33m,\u001b[0m \u001b[0mself\u001b[0m\u001b[1;33m.\u001b[0m\u001b[0m_n_support\u001b[0m\u001b[1;33m,\u001b[0m\u001b[1;33m\u001b[0m\u001b[1;33m\u001b[0m\u001b[0m\n\u001b[0;32m    354\u001b[0m             \u001b[0mself\u001b[0m\u001b[1;33m.\u001b[0m\u001b[0m_dual_coef_\u001b[0m\u001b[1;33m,\u001b[0m \u001b[0mself\u001b[0m\u001b[1;33m.\u001b[0m\u001b[0m_intercept_\u001b[0m\u001b[1;33m,\u001b[0m\u001b[1;33m\u001b[0m\u001b[1;33m\u001b[0m\u001b[0m\n",
      "\u001b[1;31mKeyboardInterrupt\u001b[0m: "
     ]
    }
   ],
   "source": [
    "from sklearn.svm import SVC\n",
    "from sklearn.model_selection import StratifiedKFold\n",
    "from sklearn.feature_selection import RFECV\n",
    "\n",
    "# Create the RFE object and compute a cross-validated score.\n",
    "svc = SVC(kernel=\"linear\")\n",
    "# The \"accuracy\" scoring is proportional to the number of correct\n",
    "# classifications\n",
    "\n",
    "min_features_to_select = 1  # Minimum number of features to consider\n",
    "rfecv = RFECV(estimator=svc, step=1, cv=StratifiedKFold(2),\n",
    "              scoring='accuracy',\n",
    "              min_features_to_select=min_features_to_select)\n",
    "rfecv.fit(X, y)\n",
    "print(\"Optimal number of features : %d\" % rfecv.n_features_)"
   ]
  },
  {
   "cell_type": "code",
   "execution_count": null,
   "metadata": {},
   "outputs": [],
   "source": [
    "# Plot number of features VS. cross-validation scores\n",
    "plt.figure()\n",
    "plt.xlabel(\"Number of features selected\")\n",
    "plt.ylabel(\"Cross validation score (nb of correct classifications)\")\n",
    "plt.plot(range(min_features_to_select,\n",
    "               len(rfecv.grid_scores_) + min_features_to_select),\n",
    "         rfecv.grid_scores_)\n",
    "plt.show()"
   ]
  },
  {
   "cell_type": "code",
   "execution_count": null,
   "metadata": {},
   "outputs": [],
   "source": [
    "rfecv.get_support([\"\"])"
   ]
  },
  {
   "cell_type": "markdown",
   "metadata": {},
   "source": [
    "# Tree Based Feature Selection"
   ]
  },
  {
   "cell_type": "code",
   "execution_count": null,
   "metadata": {},
   "outputs": [],
   "source": [
    "from sklearn.ensemble import ExtraTreesClassifier\n",
    "from sklearn.datasets import load_iris\n",
    "from sklearn.feature_selection import SelectFromModel\n",
    "\n",
    "clf = ExtraTreesClassifier(n_estimators=50)\n",
    "clf = clf.fit(X, y)\n",
    "model = SelectFromModel(clf, prefit=True)\n",
    "X_new = model.transform(X)"
   ]
  },
  {
   "cell_type": "code",
   "execution_count": null,
   "metadata": {},
   "outputs": [],
   "source": [
    "clf.feature_importances_.argsort()"
   ]
  },
  {
   "cell_type": "code",
   "execution_count": null,
   "metadata": {},
   "outputs": [],
   "source": [
    "X_new.shape"
   ]
  },
  {
   "cell_type": "markdown",
   "metadata": {},
   "source": [
    "# RFE - RandomForestRegressor Feature Selection"
   ]
  },
  {
   "cell_type": "code",
   "execution_count": null,
   "metadata": {},
   "outputs": [],
   "source": [
    "from sklearn.feature_selection import RFE\n",
    "from sklearn.ensemble import RandomForestRegressor\n",
    "\n",
    "select = RFE(estimator=RandomForestRegressor(n_estimators=10)) # median, mean, 0.2\n",
    "\n",
    "select_x = select.fit_transform(X, y)\n",
    "select_x.shape"
   ]
  },
  {
   "cell_type": "markdown",
   "metadata": {},
   "source": [
    "# chi2 - KBest Feature Selection"
   ]
  },
  {
   "cell_type": "code",
   "execution_count": null,
   "metadata": {},
   "outputs": [],
   "source": [
    "from sklearn.feature_selection import chi2\n",
    "from sklearn.feature_selection import SelectKBest\n",
    "\n",
    "df_chi2 = SelectKBest(chi2, 10).fit_transform(X, y)\n",
    "df_chi2.shape"
   ]
  },
  {
   "cell_type": "markdown",
   "metadata": {},
   "source": [
    "# Imbalanced Sampling\n",
    "# * SMOTE *"
   ]
  },
  {
   "cell_type": "code",
   "execution_count": null,
   "metadata": {},
   "outputs": [],
   "source": [
    "from imblearn.over_sampling import *"
   ]
  },
  {
   "cell_type": "code",
   "execution_count": null,
   "metadata": {},
   "outputs": [],
   "source": [
    "smote = SMOTE(random_state=11)\n",
    "df_train_over, df_train_over_y = smote.fit_resample(df_select_new_train, df_train_y)\n",
    "df_train_over.info(), df_train_over_y"
   ]
  },
  {
   "cell_type": "markdown",
   "metadata": {},
   "source": [
    "---\n",
    "---"
   ]
  },
  {
   "cell_type": "code",
   "execution_count": null,
   "metadata": {},
   "outputs": [],
   "source": [
    "from collections import Counter\n",
    "cnt_train = Counter(df_train_y)\n",
    "cnt_test = Counter(df_test_y)\n",
    "\n",
    "print(f\"훈련  데이터 비우범건수: {cnt_train[0]}, 훈련  데이터 우범건수: {cnt_train[1]}\")\n",
    "print(f\"테스트데이터 비우범건수: {cnt_test[0]}, 테스트데이터 우범건수: {cnt_test[1]}\")"
   ]
  },
  {
   "cell_type": "markdown",
   "metadata": {},
   "source": [
    "# 모델 생성 / 학습 / 평가"
   ]
  },
  {
   "cell_type": "code",
   "execution_count": null,
   "metadata": {},
   "outputs": [],
   "source": [
    "# XGBoost 모델 생성\n",
    "from xgboost import XGBClassifier\n",
    "from sklearn.metrics import f1_score,roc_auc_score\n",
    "import warnings\n",
    "warnings.filterwarnings(\"ignore\")"
   ]
  },
  {
   "cell_type": "code",
   "execution_count": null,
   "metadata": {},
   "outputs": [],
   "source": [
    "xgb_clf = XGBClassifier(n_estimators=10, max_depth=4,n_jobs=-1)\n",
    "eval_set = [(df_train_over, df_train_over_y), (df_select_new_test, df_test_y)]\n",
    "xgb_clf.fit(df_train_over, df_train_over_y, eval_metric=[\"logloss\"], eval_set=eval_set, verbose=True)"
   ]
  },
  {
   "cell_type": "code",
   "execution_count": null,
   "metadata": {},
   "outputs": [],
   "source": [
    "# 모델 성능 시각화\n",
    "\n",
    "from matplotlib import pyplot\n",
    "# retrieve performance metrics\n",
    "results = xgb_clf.evals_result()\n",
    "epochs = len(results['validation_0']['logloss'])\n",
    "x_axis = range(0, epochs)\n",
    "# plot log loss\n",
    "fig, ax = pyplot.subplots()\n",
    "ax.plot(x_axis, results['validation_0']['logloss'], label='Train')\n",
    "ax.plot(x_axis, results['validation_1']['logloss'], label='Test')\n",
    "ax.legend()\n",
    "pyplot.ylabel('Log Loss')\n",
    "pyplot.title('XGBoost Log Loss')"
   ]
  },
  {
   "cell_type": "code",
   "execution_count": null,
   "metadata": {},
   "outputs": [],
   "source": [
    "# evaluate xgboost model\n",
    "print(\"------Evaluating xgboost model------\")\n",
    "# Predict\n",
    "test_pred = xgb_clf.predict_proba(df_select_new_test)[:,1]\n",
    "# Calculate auc\n",
    "xgb_auc = roc_auc_score(df_test_y, test_pred)\n",
    "print(xgb_auc)"
   ]
  },
  {
   "cell_type": "code",
   "execution_count": null,
   "metadata": {},
   "outputs": [],
   "source": [
    "def inspection_performance(predicted_fraud, test_fraud):\n",
    "        \n",
    "    Inspect_Rate = []\n",
    "    Precision=[]\n",
    "    Recall=[]\n",
    "    \n",
    "    for i in range(0,101,1):\n",
    "        \n",
    "        threshold = np.percentile(predicted_fraud, i)\n",
    "        # Precision = number of frauds / number of inspection\n",
    "        precision = np.mean(test_fraud[predicted_fraud >= threshold])\n",
    "        # Recall = number of inspected frauds / number of frauds\n",
    "        recall = sum(test_fraud[predicted_fraud >= threshold])/sum(test_fraud)\n",
    "        # Save values\n",
    "        Inspect_Rate.append(100-i)\n",
    "        Precision.append(precision)\n",
    "        Recall.append(recall)\n",
    "        \n",
    "    \n",
    "    compiled_conf_matrix = pd.DataFrame({\n",
    "        \n",
    "        'Inspect_Rate':Inspect_Rate,\n",
    "        'Precision':Precision,\n",
    "        'Recall':Recall\n",
    "    })\n",
    "\n",
    "    return compiled_conf_matrix"
   ]
  },
  {
   "cell_type": "code",
   "execution_count": null,
   "metadata": {},
   "outputs": [],
   "source": [
    "basic_performance = inspection_performance(test_pred, df_test_y.astype(float))"
   ]
  },
  {
   "cell_type": "code",
   "execution_count": null,
   "metadata": {},
   "outputs": [],
   "source": [
    "# 검사율 1~10% 지정 시 Precision 및 Recall 분석\n",
    "# Precision (적중률) = (검사선별된 우범건수)/(검사선별 건수)\n",
    "# Recall (적발률) = (검사선별된 우범건수) / (전체 우범건수)\n",
    "basic_performance.iloc[range(99,89,-1),:]"
   ]
  },
  {
   "cell_type": "code",
   "execution_count": null,
   "metadata": {},
   "outputs": [],
   "source": [
    "data = pd.melt(basic_performance, \n",
    "               id_vars = ['Inspect_Rate'],\n",
    "               value_vars = ['Recall','Precision'])\n",
    "\n",
    "sns.relplot(data=data,\n",
    "            kind='line',\n",
    "            x=\"Inspect_Rate\", \n",
    "            y=\"value\", \n",
    "            hue='variable',\n",
    "            col=\"variable\")"
   ]
  },
  {
   "cell_type": "code",
   "execution_count": null,
   "metadata": {},
   "outputs": [],
   "source": [
    "# 모델에 기여도가 높은 변수 시각화\n",
    "from xgboost import plot_importance\n",
    "plt.rcParams[\"font.family\"] = 'Malgun Gothic'\n",
    "plt.rcParams[\"figure.figsize\"] = (15,10)\n",
    "plot_importance(xgb_clf, max_num_features=30)\n",
    "plt.show()"
   ]
  },
  {
   "cell_type": "code",
   "execution_count": null,
   "metadata": {},
   "outputs": [],
   "source": []
  },
  {
   "cell_type": "code",
   "execution_count": null,
   "metadata": {},
   "outputs": [],
   "source": []
  },
  {
   "cell_type": "code",
   "execution_count": null,
   "metadata": {},
   "outputs": [],
   "source": []
  },
  {
   "cell_type": "code",
   "execution_count": null,
   "metadata": {},
   "outputs": [],
   "source": []
  }
 ],
 "metadata": {
  "kernelspec": {
   "display_name": "Python 3",
   "language": "python",
   "name": "python3"
  },
  "language_info": {
   "codemirror_mode": {
    "name": "ipython",
    "version": 3
   },
   "file_extension": ".py",
   "mimetype": "text/x-python",
   "name": "python",
   "nbconvert_exporter": "python",
   "pygments_lexer": "ipython3",
   "version": "3.8.3"
  }
 },
 "nbformat": 4,
 "nbformat_minor": 5
}
