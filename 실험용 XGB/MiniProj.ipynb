{
 "cells": [
  {
   "cell_type": "code",
   "execution_count": null,
   "metadata": {},
   "outputs": [],
   "source": [
    "import pandas as pd\n",
    "import numpy as np\n",
    "import matplotlib.pyplot as plt\n",
    "from sklearn.preprocessing import StandardScaler, RobustScaler\n",
    "import imblearn"
   ]
  },
  {
   "cell_type": "markdown",
   "metadata": {},
   "source": [
    "# 전처리"
   ]
  },
  {
   "cell_type": "code",
   "execution_count": null,
   "metadata": {},
   "outputs": [],
   "source": [
    "df_org = pd.read_csv('train.csv', encoding='cp949')"
   ]
  },
  {
   "cell_type": "code",
   "execution_count": null,
   "metadata": {},
   "outputs": [],
   "source": [
    "df_org.head(5)"
   ]
  },
  {
   "cell_type": "code",
   "execution_count": null,
   "metadata": {},
   "outputs": [],
   "source": [
    "del df_org['검사결과코드']\n",
    "del df_org['핵심적발']\n",
    "del df_org['신고인부호']\n",
    "del df_org['신고번호']\n",
    "del df_org['원산지국가코드']"
   ]
  },
  {
   "cell_type": "code",
   "execution_count": null,
   "metadata": {},
   "outputs": [],
   "source": [
    "df_org = df_org.fillna('없음')"
   ]
  },
  {
   "cell_type": "code",
   "execution_count": null,
   "metadata": {},
   "outputs": [],
   "source": [
    "discrete_columns = ['신고일자',  '통관지세관부호',\n",
    "        '수입자부호', '해외거래처부호', '특송업체부호', '수입통관계획코드', \n",
    "       '수입신고구분코드', '수입거래구분코드',\n",
    "       '수입종류코드', '징수형태코드', \n",
    "       '운송수단유형코드', '반입보세구역부호', \n",
    "       'HS10단위부호', '적출국가코드', '관세율구분코드']\n",
    "# 범주형 변수들을 문자열로 지정 ('object' -> 'string')\n",
    "for var in discrete_columns:\n",
    "    df_org[var] = df_org[var].astype(str)"
   ]
  },
  {
   "cell_type": "code",
   "execution_count": null,
   "metadata": {},
   "outputs": [],
   "source": [
    "# 수치형 변수 지정\n",
    "numeric_columns = ['scaledKG', 'scaledAmmout', 'scaledRate', '우범여부']\n"
   ]
  },
  {
   "cell_type": "code",
   "execution_count": null,
   "metadata": {},
   "outputs": [],
   "source": [
    "std_scaler = StandardScaler()\n",
    "rob_scaler = RobustScaler()\n",
    "\n",
    "df_org['scaledKG'] = rob_scaler.fit_transform(df_org['신고중량(KG)'].values.reshape(-1,1))\n",
    "df_org['scaledAmmout'] = rob_scaler.fit_transform(df_org['과세가격원화금액'].values.reshape(-1,1))\n",
    "\n",
    "df_org.drop(['신고중량(KG)'], axis=1, inplace=True)\n",
    "df_org.drop(['과세가격원화금액'], axis=1, inplace=True)\n",
    "df_org['scaledRate'] = rob_scaler.fit_transform(df_org['관세율'].values.reshape(-1,1))\n",
    "df_org.drop(['관세율'], axis=1, inplace=True)"
   ]
  },
  {
   "cell_type": "code",
   "execution_count": null,
   "metadata": {},
   "outputs": [],
   "source": [
    "df_org.head(10)"
   ]
  },
  {
   "cell_type": "code",
   "execution_count": null,
   "metadata": {},
   "outputs": [],
   "source": [
    "df_org.shape"
   ]
  },
  {
   "cell_type": "code",
   "execution_count": null,
   "metadata": {},
   "outputs": [],
   "source": [
    "label_encoding_ref = {}\n",
    "for var in discrete_columns:\n",
    "    label_encoding_ref[var] = {code: i+1 for i, code in enumerate(df_org[var].unique())}\n",
    "    print(label_encoding_ref[var])\n",
    "    df_org[var] = [label_encoding_ref[var][x] for x in df_org[var]]"
   ]
  },
  {
   "cell_type": "code",
   "execution_count": null,
   "metadata": {},
   "outputs": [],
   "source": [
    "df_org"
   ]
  },
  {
   "cell_type": "code",
   "execution_count": null,
   "metadata": {},
   "outputs": [],
   "source": [
    "a = [4,3,2,5,11,14,8]\n",
    "for i in a : \n",
    "    df_org.loc[df_org['통관지세관부호'] == i , '통관지세관부호'] = 99\n",
    "    \n",
    "a = [2,12,3,18,1,14,4,7,36,46,43]\n",
    "for i in a : \n",
    "    df_org.loc[df_org['특송업체부호'] == i , '특송업체부호'] = 99\n",
    "    \n",
    "a = [1,2,3,4,5,7]\n",
    "for i in a : \n",
    "    df_org.loc[df_org['수입통관계획코드'] == i , '수입통관계획코드'] = 99\n",
    "    \n",
    "a = [1,3]\n",
    "for i in a : \n",
    "    df_org.loc[df_org['수입신고구분코드'] == i , '수입신고구분코드'] = 99\n",
    "    \n",
    "a = [2,1,3,4,5]\n",
    "for i in a : \n",
    "    df_org.loc[df_org['수입거래구분코드'] == i , '수입거래구분코드'] = 99\n",
    "    \n",
    "a = [2,4]\n",
    "for i in a : \n",
    "    df_org.loc[df_org['수입종류코드'] == i , '수입종류코드'] = 99\n",
    "    \n",
    "a = [2,4]\n",
    "for i in a : \n",
    "    df_org.loc[df_org['수입종류코드'] == i , '수입종류코드'] = 99\n",
    "\n",
    "a = [2,1,3,4,5,6]\n",
    "for i in a : \n",
    "    df_org.loc[df_org['징수형태코드'] == i , '징수형태코드'] = 99\n",
    "\n",
    "a = [1,2,3,4]\n",
    "for i in a : \n",
    "    df_org.loc[df_org['운송수단유형코드'] == i , '운송수단유형코드'] = 99"
   ]
  },
  {
   "cell_type": "code",
   "execution_count": null,
   "metadata": {},
   "outputs": [],
   "source": [
    "temp = df_org['우범여부']==1\n",
    "df_org_target1 = df_org[temp]\n",
    "temp = df_org['우범여부']==0\n",
    "df_org_target0 = df_org[temp]\n",
    "df_org_target1.shape, df_org_target0.shape"
   ]
  },
  {
   "cell_type": "code",
   "execution_count": null,
   "metadata": {},
   "outputs": [],
   "source": [
    "for i in df_org.columns:\n",
    "    print(\"column : \", i)\n",
    "    df_우범1 = df_org_target1[i].value_counts().rename_axis('unique').reset_index(name='counts')\n",
    "    df_우범0 = df_org_target0[i].value_counts().rename_axis('unique').reset_index(name='counts')\n",
    "    df_전체 = df_org[i].value_counts().rename_axis('unique').reset_index(name='counts')\n",
    "    \n",
    "    div = (df_우범1['counts'] / df_우범0['counts']).reset_index(name='rate')\n",
    "    div = pd.concat([div,df_우범0['unique']],axis=1,sort=False)\n",
    "    div = pd.concat([div,df_전체['counts']],axis=1,sort=False)\n",
    "    div = div.reindex(columns=['unique','rate','counts'])\n",
    "    \n",
    "    ## 그룹화 찾기 파라미터 \n",
    "\n",
    "    # 작은 데이터인 경우 \n",
    "    b = div['rate'] >= 1\n",
    "    small = b\n",
    "\n",
    "    # 큰 데이터인 경우 \n",
    "    a = div['counts'] > 1000\n",
    "    b = div['rate'] >= 0.4\n",
    "    big = a & b\n",
    "\n",
    "    data = (small).reset_index(name='result')\n",
    "    div = pd.concat([div,data['result']],axis=1,sort=False)\n",
    "    div = div.reindex(columns=['unique','rate','counts','result'])\n",
    "    \n",
    "    print(div)\n",
    "    print(\"###########################\")\n",
    "    print(\"##########END#############\")"
   ]
  },
  {
   "cell_type": "code",
   "execution_count": null,
   "metadata": {},
   "outputs": [],
   "source": [
    "df_org.isnull().sum()"
   ]
  },
  {
   "cell_type": "code",
   "execution_count": null,
   "metadata": {},
   "outputs": [],
   "source": [
    "from sklearn.model_selection import train_test_split\n",
    "from sklearn.model_selection import StratifiedShuffleSplit\n",
    "from sklearn.model_selection import KFold, StratifiedKFold"
   ]
  },
  {
   "cell_type": "code",
   "execution_count": null,
   "metadata": {},
   "outputs": [],
   "source": [
    "# 날짜 순에 따라 80:20 으로 훈련 및 테스트 데이터 분리\n",
    "df_org_train = df_org.iloc[:int(len(df_org)*0.8), :]\n",
    "df_org_test = df_org.iloc[int(len(df_org)*0.8):, :]"
   ]
  },
  {
   "cell_type": "code",
   "execution_count": null,
   "metadata": {},
   "outputs": [],
   "source": [
    "df_org_train.head(1)"
   ]
  },
  {
   "cell_type": "code",
   "execution_count": null,
   "metadata": {},
   "outputs": [],
   "source": [
    "df_org_test.head(1)"
   ]
  },
  {
   "cell_type": "code",
   "execution_count": null,
   "metadata": {},
   "outputs": [],
   "source": [
    "from sklearn.preprocessing import  OneHotEncoder\n",
    "xgbohe = OneHotEncoder(categories=\"auto\", handle_unknown='ignore')"
   ]
  },
  {
   "cell_type": "code",
   "execution_count": null,
   "metadata": {},
   "outputs": [],
   "source": [
    "df_org_train['label'] = 'train'\n",
    "df_org_test['label'] = 'test'\n",
    "\n",
    "concat_df = pd.concat([df_org_train,df_org_test])\n",
    "\n",
    "df_org_trains = pd.get_dummies(concat_df, columns = discrete_columns)\n",
    "\n",
    "df_train =  df_org_trains[df_org_trains['label'] == 'train']\n",
    "df_test =  df_org_trains[df_org_trains['label'] == 'test']\n",
    "\n",
    "#df_org_tests = pd.get_dummies(df_org_test, columns = discrete_columns)\n",
    "\n",
    "# 모델예측 대상인 우범여부 변수 분리\n",
    "org_train_y = df_train.pop('우범여부')\n",
    "org_test_y  = df_test.pop('우범여부')"
   ]
  },
  {
   "cell_type": "code",
   "execution_count": null,
   "metadata": {},
   "outputs": [],
   "source": [
    "org_test_y.head(10)"
   ]
  },
  {
   "cell_type": "code",
   "execution_count": null,
   "metadata": {},
   "outputs": [],
   "source": [
    "df_train = df_train.drop('label', axis=1)\n",
    "df_test = df_test.drop('label', axis=1)"
   ]
  },
  {
   "cell_type": "code",
   "execution_count": null,
   "metadata": {},
   "outputs": [],
   "source": [
    "# 데이터 사이즈 확인\n",
    "print(df_train.shape, df_test.shape)\n",
    "print(org_train_y.shape, org_test_y.shape)"
   ]
  },
  {
   "cell_type": "code",
   "execution_count": null,
   "metadata": {},
   "outputs": [],
   "source": [
    "from imblearn.over_sampling import SMOTE\n",
    "smote = SMOTE(random_state = 11)\n",
    "X_train_over, y_train_over = smote.fit_resample(df_train, org_train_y)"
   ]
  },
  {
   "cell_type": "code",
   "execution_count": null,
   "metadata": {},
   "outputs": [],
   "source": [
    "# 훈련데이터와 테스트데이터에서 우범건수 비교\n",
    "from collections import Counter\n",
    "cnt_train = Counter(y_train_over)\n",
    "cnt_test = Counter(org_test_y)\n",
    "\n",
    "print(f\"훈련  데이터 비우범건수: {cnt_train[0]}, 훈련  데이터 우범건수: {cnt_train[1]}\")\n",
    "print(f\"테스트데이터 비우범건수: {cnt_test[0]}, 테스트데이터 우범건수: {cnt_test[1]}\")"
   ]
  },
  {
   "cell_type": "code",
   "execution_count": null,
   "metadata": {},
   "outputs": [],
   "source": [
    "from xgboost import XGBClassifier\n",
    "from sklearn.metrics import f1_score,roc_auc_score\n",
    "import warnings\n",
    "warnings.filterwarnings(\"ignore\")\n",
    "from sklearn.linear_model import LogisticRegression "
   ]
  },
  {
   "cell_type": "code",
   "execution_count": null,
   "metadata": {},
   "outputs": [],
   "source": [
    "밑에서 다시 시작"
   ]
  },
  {
   "cell_type": "code",
   "execution_count": null,
   "metadata": {},
   "outputs": [],
   "source": [
    "X_train_over"
   ]
  },
  {
   "cell_type": "code",
   "execution_count": null,
   "metadata": {},
   "outputs": [],
   "source": [
    "def get_model_train_eval(model, ftr_train=None, ftr_test=None, tgt_train=None, tgt_test=None): \n",
    "    model.fit(ftr_train, tgt_train) \n",
    "    y_pred = model.predict(ftr_test) \n",
    "    show_metrics(tgt_test, y_pred)\n",
    "    return model"
   ]
  },
  {
   "cell_type": "code",
   "execution_count": null,
   "metadata": {},
   "outputs": [],
   "source": [
    "from lightgbm import LGBMClassifier \n",
    "lgbm = LGBMClassifier(n_estimators=1000, num_leaves=32, n_jobs=-1, boost_from_average=False)\n",
    "lgbm = get_model_train_eval(lgbm, ftr_train=X_train_over, ftr_test=df_org_tests, tgt_train=y_train_over, tgt_test = org_test_y)"
   ]
  },
  {
   "cell_type": "code",
   "execution_count": null,
   "metadata": {
    "scrolled": true
   },
   "outputs": [],
   "source": [
    "from sklearn.ensemble import RandomForestRegressor\n",
    "regressor = RandomForestRegressor(n_estimators=20, random_state=0)  \n",
    "regressor.fit(X_train_over, y_train_over) \n",
    "#feature importance\n",
    "feature_importances = pd.DataFrame(regressor.feature_importances_,index = dataset.columns,columns=['importance']).sort_values('importance',ascending=False)"
   ]
  },
  {
   "cell_type": "code",
   "execution_count": null,
   "metadata": {},
   "outputs": [],
   "source": [
    "from xgboost import XGBClassifier\n",
    "from sklearn.metrics import f1_score,roc_auc_score\n",
    "import warnings\n",
    "warnings.filterwarnings(\"ignore\")\n",
    "from sklearn.linear_model import LogisticRegression "
   ]
  },
  {
   "cell_type": "markdown",
   "metadata": {},
   "source": [
    "# 여기서부터 다시 실행"
   ]
  },
  {
   "cell_type": "code",
   "execution_count": null,
   "metadata": {},
   "outputs": [],
   "source": [
    "# 모델 활성화 및 설정\n",
    "xgb_clf = XGBClassifier(n_estimators=10, max_depth=4,n_jobs=-1) #\n",
    "# 모델 훈련 시 성능평가 데이터 설정 (별도의 성능평가 데이터를 구성할 수도 있으나, 여기서는 그냥 테스트데이터를 사용)\n",
    "eval_set = [(X_train_over, y_train_over), (df_test, org_test_y)]\n",
    "# 모델 훈련 (training/fitting)\n",
    "xgb_clf.fit(X_train_over, y_train_over, eval_metric=[\"logloss\"], eval_set=eval_set, verbose=True)"
   ]
  },
  {
   "cell_type": "code",
   "execution_count": null,
   "metadata": {},
   "outputs": [],
   "source": [
    "# 모델 성능 시각화\n",
    "from matplotlib import pyplot\n",
    "# retrieve performance metrics\n",
    "results = xgb_clf.evals_result()\n",
    "epochs = len(results['validation_0']['logloss'])\n",
    "x_axis = range(0, epochs)\n",
    "# plot log loss\n",
    "fig, ax = pyplot.subplots()\n",
    "ax.plot(x_axis, results['validation_0']['logloss'], label='Train')\n",
    "ax.plot(x_axis, results['validation_1']['logloss'], label='Test')\n",
    "ax.legend()\n",
    "pyplot.ylabel('Log Loss')\n",
    "pyplot.title('XGBoost Log Loss')\n",
    "#pyplot.show()\n",
    "plt.savefig('XGBoost Log Loss.png')"
   ]
  },
  {
   "cell_type": "code",
   "execution_count": null,
   "metadata": {},
   "outputs": [],
   "source": [
    "# evaluate xgboost model\n",
    "print(\"------Evaluating xgboost model------\")\n",
    "# Predict\n",
    "test_pred = xgb_clf.predict_proba(df_org_tests)[:,1]\n",
    "# Calculate auc\n",
    "xgb_auc = roc_auc_score(org_test_y, test_pred)\n",
    "print(xgb_auc)"
   ]
  },
  {
   "cell_type": "code",
   "execution_count": null,
   "metadata": {},
   "outputs": [],
   "source": [
    "# 검사율에 따른 우범예측 함수 생성\n",
    "\n",
    "def inspection_performance(predicted_fraud, test_fraud):\n",
    "    \n",
    "    # Set default values before a loop\n",
    "    \n",
    "    Inspect_Rate = []\n",
    "    Precision=[]\n",
    "    Recall=[]\n",
    "    \n",
    "    # Create a loop for making confusion matrix at each inspection rate\n",
    "\n",
    "    for i in range(0,101,1):\n",
    "        \n",
    "        # Find the ith value in ascending order.\n",
    "        threshold = np.percentile(predicted_fraud, i)\n",
    "        # Precision = number of frauds / number of inspection\n",
    "        precision = np.mean(test_fraud[predicted_fraud >= threshold])\n",
    "        # Recall = number of inspected frauds / number of frauds\n",
    "        recall = sum(test_fraud[predicted_fraud >= threshold])/sum(test_fraud)\n",
    "        # Save values\n",
    "        Inspect_Rate.append(100-i)\n",
    "        Precision.append(precision)\n",
    "        Recall.append(recall)\n",
    "        \n",
    "    \n",
    "    compiled_conf_matrix = pd.DataFrame({\n",
    "        \n",
    "        'Inspect_Rate':Inspect_Rate,\n",
    "        'Precision':Precision,\n",
    "        'Recall':Recall\n",
    "    })\n",
    "\n",
    "    return compiled_conf_matrix"
   ]
  },
  {
   "cell_type": "code",
   "execution_count": null,
   "metadata": {},
   "outputs": [],
   "source": [
    "# 검사율에 따른 우범예측 \n",
    "basic_performance = inspection_performance(test_pred, org_test_y.astype(float))"
   ]
  },
  {
   "cell_type": "code",
   "execution_count": null,
   "metadata": {},
   "outputs": [],
   "source": [
    "# 검사율 1~10% 지정 시 Precision 및 Recall 분석\n",
    "# Precision (적중률) = (검사선별된 우범건수)/(검사선별 건수)\n",
    "# Recall (적발률) = (검사선별된 우범건수) / (전체 우범건수)\n",
    "basic_performance.iloc[range(99,89,-1),:]"
   ]
  },
  {
   "cell_type": "code",
   "execution_count": null,
   "metadata": {},
   "outputs": [],
   "source": [
    "# 모델에 기여도가 높은 변수 시각화\n",
    "from xgboost import plot_importance\n",
    "plt.rcParams[\"font.family\"] = 'Malgun Gothic'\n",
    "plt.rcParams[\"figure.figsize\"] = (15,10)\n",
    "plot_importance(xgb_clf, max_num_features=30)\n",
    "plt.show()"
   ]
  }
 ],
 "metadata": {
  "kernelspec": {
   "display_name": "Python 3",
   "language": "python",
   "name": "python3"
  },
  "language_info": {
   "codemirror_mode": {
    "name": "ipython",
    "version": 3
   },
   "file_extension": ".py",
   "mimetype": "text/x-python",
   "name": "python",
   "nbconvert_exporter": "python",
   "pygments_lexer": "ipython3",
   "version": "3.8.3"
  }
 },
 "nbformat": 4,
 "nbformat_minor": 4
}
