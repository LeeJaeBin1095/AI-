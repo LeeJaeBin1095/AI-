{
 "cells": [
  {
   "cell_type": "code",
   "execution_count": 1,
   "metadata": {},
   "outputs": [],
   "source": [
    "import pandas as pd\n",
    "import numpy as np\n",
    "import matplotlib.pyplot as plt\n",
    "import seaborn as sns"
   ]
  },
  {
   "cell_type": "code",
   "execution_count": 2,
   "metadata": {},
   "outputs": [
    {
     "name": "stdout",
     "output_type": "stream",
     "text": [
      "('64bit', 'WindowsPE')\n"
     ]
    }
   ],
   "source": [
    "import platform\n",
    "print(platform.architecture())"
   ]
  },
  {
   "cell_type": "code",
   "execution_count": 3,
   "metadata": {},
   "outputs": [],
   "source": [
    "df_org = pd.read_csv(\"train.csv\")"
   ]
  },
  {
   "cell_type": "code",
   "execution_count": 4,
   "metadata": {},
   "outputs": [
    {
     "data": {
      "text/html": [
       "<div>\n",
       "<style scoped>\n",
       "    .dataframe tbody tr th:only-of-type {\n",
       "        vertical-align: middle;\n",
       "    }\n",
       "\n",
       "    .dataframe tbody tr th {\n",
       "        vertical-align: top;\n",
       "    }\n",
       "\n",
       "    .dataframe thead th {\n",
       "        text-align: right;\n",
       "    }\n",
       "</style>\n",
       "<table border=\"1\" class=\"dataframe\">\n",
       "  <thead>\n",
       "    <tr style=\"text-align: right;\">\n",
       "      <th></th>\n",
       "      <th>Unnamed: 0</th>\n",
       "      <th>신고번호</th>\n",
       "      <th>신고일자</th>\n",
       "      <th>통관지세관부호</th>\n",
       "      <th>신고인부호</th>\n",
       "      <th>수입자부호</th>\n",
       "      <th>해외거래처부호</th>\n",
       "      <th>특송업체부호</th>\n",
       "      <th>수입통관계획코드</th>\n",
       "      <th>수입신고구분코드</th>\n",
       "      <th>...</th>\n",
       "      <th>운송수단유형코드</th>\n",
       "      <th>반입보세구역부호</th>\n",
       "      <th>HS10단위부호</th>\n",
       "      <th>적출국가코드</th>\n",
       "      <th>원산지국가코드</th>\n",
       "      <th>관세율구분코드</th>\n",
       "      <th>관세율</th>\n",
       "      <th>검사결과코드</th>\n",
       "      <th>우범여부</th>\n",
       "      <th>핵심적발</th>\n",
       "    </tr>\n",
       "  </thead>\n",
       "  <tbody>\n",
       "    <tr>\n",
       "      <th>16393</th>\n",
       "      <td>16393</td>\n",
       "      <td>25055996</td>\n",
       "      <td>2020-02-21</td>\n",
       "      <td>40</td>\n",
       "      <td>ZTW4X</td>\n",
       "      <td>072M35E</td>\n",
       "      <td>85B3TNA</td>\n",
       "      <td>NaN</td>\n",
       "      <td>H</td>\n",
       "      <td>B</td>\n",
       "      <td>...</td>\n",
       "      <td>10</td>\n",
       "      <td>4077006</td>\n",
       "      <td>8543709090</td>\n",
       "      <td>CN</td>\n",
       "      <td>CN</td>\n",
       "      <td>A</td>\n",
       "      <td>8.0</td>\n",
       "      <td>A</td>\n",
       "      <td>0</td>\n",
       "      <td>0</td>\n",
       "    </tr>\n",
       "    <tr>\n",
       "      <th>70194</th>\n",
       "      <td>70194</td>\n",
       "      <td>27274906</td>\n",
       "      <td>2020-09-04</td>\n",
       "      <td>20</td>\n",
       "      <td>CGMT6</td>\n",
       "      <td>71SP11L</td>\n",
       "      <td>JK7Z6VT</td>\n",
       "      <td>NaN</td>\n",
       "      <td>C</td>\n",
       "      <td>B</td>\n",
       "      <td>...</td>\n",
       "      <td>10</td>\n",
       "      <td>4077007</td>\n",
       "      <td>5516131000</td>\n",
       "      <td>CN</td>\n",
       "      <td>CN</td>\n",
       "      <td>FCN1</td>\n",
       "      <td>0.0</td>\n",
       "      <td>A</td>\n",
       "      <td>0</td>\n",
       "      <td>0</td>\n",
       "    </tr>\n",
       "    <tr>\n",
       "      <th>25589</th>\n",
       "      <td>25589</td>\n",
       "      <td>74482204</td>\n",
       "      <td>2020-03-19</td>\n",
       "      <td>10</td>\n",
       "      <td>VRNEF</td>\n",
       "      <td>82ZHWNL</td>\n",
       "      <td>NaN</td>\n",
       "      <td>NaN</td>\n",
       "      <td>C</td>\n",
       "      <td>B</td>\n",
       "      <td>...</td>\n",
       "      <td>10</td>\n",
       "      <td>4077010</td>\n",
       "      <td>7204490000</td>\n",
       "      <td>JP</td>\n",
       "      <td>JP</td>\n",
       "      <td>A</td>\n",
       "      <td>0.0</td>\n",
       "      <td>A</td>\n",
       "      <td>0</td>\n",
       "      <td>0</td>\n",
       "    </tr>\n",
       "    <tr>\n",
       "      <th>29715</th>\n",
       "      <td>29715</td>\n",
       "      <td>80762814</td>\n",
       "      <td>2020-04-06</td>\n",
       "      <td>40</td>\n",
       "      <td>EX3CM</td>\n",
       "      <td>J1TFI62</td>\n",
       "      <td>NaN</td>\n",
       "      <td>NaN</td>\n",
       "      <td>C</td>\n",
       "      <td>B</td>\n",
       "      <td>...</td>\n",
       "      <td>10</td>\n",
       "      <td>4076001</td>\n",
       "      <td>3926909000</td>\n",
       "      <td>JP</td>\n",
       "      <td>CN</td>\n",
       "      <td>C</td>\n",
       "      <td>6.5</td>\n",
       "      <td>A</td>\n",
       "      <td>0</td>\n",
       "      <td>0</td>\n",
       "    </tr>\n",
       "    <tr>\n",
       "      <th>40256</th>\n",
       "      <td>40256</td>\n",
       "      <td>77582262</td>\n",
       "      <td>2020-05-15</td>\n",
       "      <td>30</td>\n",
       "      <td>MSWFH</td>\n",
       "      <td>YEKIYZ4</td>\n",
       "      <td>TJX4DNH</td>\n",
       "      <td>PAVJZL</td>\n",
       "      <td>C</td>\n",
       "      <td>B</td>\n",
       "      <td>...</td>\n",
       "      <td>40</td>\n",
       "      <td>1351002</td>\n",
       "      <td>3921130000</td>\n",
       "      <td>MX</td>\n",
       "      <td>US</td>\n",
       "      <td>C</td>\n",
       "      <td>6.5</td>\n",
       "      <td>A</td>\n",
       "      <td>0</td>\n",
       "      <td>0</td>\n",
       "    </tr>\n",
       "  </tbody>\n",
       "</table>\n",
       "<p>5 rows × 25 columns</p>\n",
       "</div>"
      ],
      "text/plain": [
       "       Unnamed: 0      신고번호        신고일자  통관지세관부호  신고인부호    수입자부호  해외거래처부호  \\\n",
       "16393       16393  25055996  2020-02-21       40  ZTW4X  072M35E  85B3TNA   \n",
       "70194       70194  27274906  2020-09-04       20  CGMT6  71SP11L  JK7Z6VT   \n",
       "25589       25589  74482204  2020-03-19       10  VRNEF  82ZHWNL      NaN   \n",
       "29715       29715  80762814  2020-04-06       40  EX3CM  J1TFI62      NaN   \n",
       "40256       40256  77582262  2020-05-15       30  MSWFH  YEKIYZ4  TJX4DNH   \n",
       "\n",
       "       특송업체부호 수입통관계획코드 수입신고구분코드  ...  운송수단유형코드  반입보세구역부호    HS10단위부호  적출국가코드  \\\n",
       "16393     NaN        H        B  ...        10   4077006  8543709090      CN   \n",
       "70194     NaN        C        B  ...        10   4077007  5516131000      CN   \n",
       "25589     NaN        C        B  ...        10   4077010  7204490000      JP   \n",
       "29715     NaN        C        B  ...        10   4076001  3926909000      JP   \n",
       "40256  PAVJZL        C        B  ...        40   1351002  3921130000      MX   \n",
       "\n",
       "       원산지국가코드  관세율구분코드  관세율  검사결과코드 우범여부 핵심적발  \n",
       "16393       CN        A  8.0       A    0    0  \n",
       "70194       CN     FCN1  0.0       A    0    0  \n",
       "25589       JP        A  0.0       A    0    0  \n",
       "29715       CN        C  6.5       A    0    0  \n",
       "40256       US        C  6.5       A    0    0  \n",
       "\n",
       "[5 rows x 25 columns]"
      ]
     },
     "execution_count": 4,
     "metadata": {},
     "output_type": "execute_result"
    }
   ],
   "source": [
    "df_org.sample(5)"
   ]
  },
  {
   "cell_type": "code",
   "execution_count": 5,
   "metadata": {},
   "outputs": [],
   "source": [
    "del df_org['검사결과코드']\n",
    "del df_org['핵심적발']"
   ]
  },
  {
   "cell_type": "code",
   "execution_count": 6,
   "metadata": {},
   "outputs": [],
   "source": [
    "# # 범주형 변수 지정\n",
    "# discrete_columns = ['통관지세관부호', '신고번호',\n",
    "#        '해외거래처부호', '특송업체부호', '수입통관계획코드', \n",
    "#        '수입거래구분코드', '신고인부호',\n",
    "#        '수입종류코드', '징수형태코드', \n",
    "#        '운송수단유형코드', '반입보세구역부호', \n",
    "#        '적출국가코드', '관세율구분코드', ]\n",
    "\n",
    "# # 범주형 변수들을 문자열로 지정 ('object' -> 'string')\n",
    "# for var in discrete_columns:\n",
    "#     df_org[var] = df_org[var].astype(str)"
   ]
  },
  {
   "cell_type": "code",
   "execution_count": 7,
   "metadata": {},
   "outputs": [],
   "source": [
    "# 범주형 변수 지정\n",
    "discrete_columns = ['통관지세관부호', '원산지국가코드', '신고번호', '신고일자',\n",
    "       '수입자부호', '해외거래처부호', '특송업체부호', '수입통관계획코드', \n",
    "       '수입신고구분코드', '수입거래구분코드', '신고인부호',\n",
    "       '수입종류코드', '징수형태코드', \n",
    "       '운송수단유형코드', '반입보세구역부호', \n",
    "       'HS10단위부호', '적출국가코드', '관세율구분코드', ]\n",
    "\n",
    "# 범주형 변수들을 문자열로 지정 ('object' -> 'string')\n",
    "for var in discrete_columns:\n",
    "    df_org[var] = df_org[var].astype(str)"
   ]
  },
  {
   "cell_type": "code",
   "execution_count": 8,
   "metadata": {},
   "outputs": [],
   "source": [
    "# # 수치형 변수 지정\n",
    "# numeric_columns = ['신고중량(KG)', '과세가격원화금액', '우범여부']\n",
    "\n",
    "# # 수치형 변수를 자연로그로 변환\n",
    "# for var in ['신고중량(KG)', '과세가격원화금액']:\n",
    "#     df_org[var] = df_org[var].apply(lambda x: np.log1p(x))"
   ]
  },
  {
   "cell_type": "code",
   "execution_count": 9,
   "metadata": {},
   "outputs": [],
   "source": [
    "# 수치형 변수 지정\n",
    "numeric_columns = ['신고중량(KG)', '과세가격원화금액', '관세율', '우범여부']\n",
    "\n",
    "# 수치형 변수를 자연로그로 변환\n",
    "for var in ['신고중량(KG)', '과세가격원화금액']:\n",
    "    df_org[var] = df_org[var].apply(lambda x: np.log1p(x))"
   ]
  },
  {
   "cell_type": "code",
   "execution_count": 10,
   "metadata": {},
   "outputs": [
    {
     "data": {
      "text/html": [
       "<div>\n",
       "<style scoped>\n",
       "    .dataframe tbody tr th:only-of-type {\n",
       "        vertical-align: middle;\n",
       "    }\n",
       "\n",
       "    .dataframe tbody tr th {\n",
       "        vertical-align: top;\n",
       "    }\n",
       "\n",
       "    .dataframe thead th {\n",
       "        text-align: right;\n",
       "    }\n",
       "</style>\n",
       "<table border=\"1\" class=\"dataframe\">\n",
       "  <thead>\n",
       "    <tr style=\"text-align: right;\">\n",
       "      <th></th>\n",
       "      <th>Unnamed: 0</th>\n",
       "      <th>신고번호</th>\n",
       "      <th>신고일자</th>\n",
       "      <th>통관지세관부호</th>\n",
       "      <th>신고인부호</th>\n",
       "      <th>수입자부호</th>\n",
       "      <th>해외거래처부호</th>\n",
       "      <th>특송업체부호</th>\n",
       "      <th>수입통관계획코드</th>\n",
       "      <th>수입신고구분코드</th>\n",
       "      <th>...</th>\n",
       "      <th>신고중량(KG)</th>\n",
       "      <th>과세가격원화금액</th>\n",
       "      <th>운송수단유형코드</th>\n",
       "      <th>반입보세구역부호</th>\n",
       "      <th>HS10단위부호</th>\n",
       "      <th>적출국가코드</th>\n",
       "      <th>원산지국가코드</th>\n",
       "      <th>관세율구분코드</th>\n",
       "      <th>관세율</th>\n",
       "      <th>우범여부</th>\n",
       "    </tr>\n",
       "  </thead>\n",
       "  <tbody>\n",
       "    <tr>\n",
       "      <th>0</th>\n",
       "      <td>0</td>\n",
       "      <td>57298928</td>\n",
       "      <td>2020-01-01</td>\n",
       "      <td>121</td>\n",
       "      <td>2O5A2</td>\n",
       "      <td>82ZHWNL</td>\n",
       "      <td>nan</td>\n",
       "      <td>TQ18AK</td>\n",
       "      <td>D</td>\n",
       "      <td>B</td>\n",
       "      <td>...</td>\n",
       "      <td>4.844187</td>\n",
       "      <td>8.593963</td>\n",
       "      <td>10</td>\n",
       "      <td>2106003</td>\n",
       "      <td>8481900000</td>\n",
       "      <td>US</td>\n",
       "      <td>US</td>\n",
       "      <td>A</td>\n",
       "      <td>8.0</td>\n",
       "      <td>1</td>\n",
       "    </tr>\n",
       "    <tr>\n",
       "      <th>1</th>\n",
       "      <td>1</td>\n",
       "      <td>85092852</td>\n",
       "      <td>2020-01-01</td>\n",
       "      <td>30</td>\n",
       "      <td>305K5</td>\n",
       "      <td>5IS70LE</td>\n",
       "      <td>nan</td>\n",
       "      <td>nan</td>\n",
       "      <td>C</td>\n",
       "      <td>B</td>\n",
       "      <td>...</td>\n",
       "      <td>10.303820</td>\n",
       "      <td>13.258812</td>\n",
       "      <td>40</td>\n",
       "      <td>4077010</td>\n",
       "      <td>2106909099</td>\n",
       "      <td>US</td>\n",
       "      <td>US</td>\n",
       "      <td>A</td>\n",
       "      <td>8.0</td>\n",
       "      <td>0</td>\n",
       "    </tr>\n",
       "    <tr>\n",
       "      <th>2</th>\n",
       "      <td>2</td>\n",
       "      <td>63014158</td>\n",
       "      <td>2020-01-01</td>\n",
       "      <td>20</td>\n",
       "      <td>CGMT6</td>\n",
       "      <td>GJ5KBL3</td>\n",
       "      <td>R9ZQOG7</td>\n",
       "      <td>nan</td>\n",
       "      <td>D</td>\n",
       "      <td>B</td>\n",
       "      <td>...</td>\n",
       "      <td>10.067242</td>\n",
       "      <td>10.862759</td>\n",
       "      <td>40</td>\n",
       "      <td>4077007</td>\n",
       "      <td>6307909000</td>\n",
       "      <td>US</td>\n",
       "      <td>US</td>\n",
       "      <td>A</td>\n",
       "      <td>10.0</td>\n",
       "      <td>0</td>\n",
       "    </tr>\n",
       "    <tr>\n",
       "      <th>3</th>\n",
       "      <td>3</td>\n",
       "      <td>40175917</td>\n",
       "      <td>2020-01-01</td>\n",
       "      <td>40</td>\n",
       "      <td>QWUTG</td>\n",
       "      <td>PBYW02T</td>\n",
       "      <td>nan</td>\n",
       "      <td>nan</td>\n",
       "      <td>C</td>\n",
       "      <td>B</td>\n",
       "      <td>...</td>\n",
       "      <td>9.429564</td>\n",
       "      <td>14.388527</td>\n",
       "      <td>40</td>\n",
       "      <td>4077106</td>\n",
       "      <td>6505009090</td>\n",
       "      <td>CN</td>\n",
       "      <td>CN</td>\n",
       "      <td>A</td>\n",
       "      <td>8.0</td>\n",
       "      <td>0</td>\n",
       "    </tr>\n",
       "    <tr>\n",
       "      <th>4</th>\n",
       "      <td>4</td>\n",
       "      <td>11602631</td>\n",
       "      <td>2020-01-01</td>\n",
       "      <td>30</td>\n",
       "      <td>0X1CO</td>\n",
       "      <td>MCX0GJB</td>\n",
       "      <td>4Z9PX0Y</td>\n",
       "      <td>nan</td>\n",
       "      <td>C</td>\n",
       "      <td>B</td>\n",
       "      <td>...</td>\n",
       "      <td>9.661015</td>\n",
       "      <td>15.987683</td>\n",
       "      <td>40</td>\n",
       "      <td>2006075</td>\n",
       "      <td>6204320000</td>\n",
       "      <td>CN</td>\n",
       "      <td>CN</td>\n",
       "      <td>FCN1</td>\n",
       "      <td>5.2</td>\n",
       "      <td>1</td>\n",
       "    </tr>\n",
       "  </tbody>\n",
       "</table>\n",
       "<p>5 rows × 23 columns</p>\n",
       "</div>"
      ],
      "text/plain": [
       "   Unnamed: 0      신고번호        신고일자 통관지세관부호  신고인부호    수입자부호  해외거래처부호  특송업체부호  \\\n",
       "0           0  57298928  2020-01-01     121  2O5A2  82ZHWNL      nan  TQ18AK   \n",
       "1           1  85092852  2020-01-01      30  305K5  5IS70LE      nan     nan   \n",
       "2           2  63014158  2020-01-01      20  CGMT6  GJ5KBL3  R9ZQOG7     nan   \n",
       "3           3  40175917  2020-01-01      40  QWUTG  PBYW02T      nan     nan   \n",
       "4           4  11602631  2020-01-01      30  0X1CO  MCX0GJB  4Z9PX0Y     nan   \n",
       "\n",
       "  수입통관계획코드 수입신고구분코드  ...   신고중량(KG)   과세가격원화금액 운송수단유형코드  반입보세구역부호    HS10단위부호  \\\n",
       "0        D        B  ...   4.844187   8.593963       10   2106003  8481900000   \n",
       "1        C        B  ...  10.303820  13.258812       40   4077010  2106909099   \n",
       "2        D        B  ...  10.067242  10.862759       40   4077007  6307909000   \n",
       "3        C        B  ...   9.429564  14.388527       40   4077106  6505009090   \n",
       "4        C        B  ...   9.661015  15.987683       40   2006075  6204320000   \n",
       "\n",
       "  적출국가코드 원산지국가코드 관세율구분코드   관세율 우범여부  \n",
       "0     US      US       A   8.0    1  \n",
       "1     US      US       A   8.0    0  \n",
       "2     US      US       A  10.0    0  \n",
       "3     CN      CN       A   8.0    0  \n",
       "4     CN      CN    FCN1   5.2    1  \n",
       "\n",
       "[5 rows x 23 columns]"
      ]
     },
     "execution_count": 10,
     "metadata": {},
     "output_type": "execute_result"
    }
   ],
   "source": [
    "df_org.head(5)"
   ]
  },
  {
   "cell_type": "markdown",
   "metadata": {},
   "source": [
    "# 원본 데이터셋"
   ]
  },
  {
   "cell_type": "code",
   "execution_count": 11,
   "metadata": {},
   "outputs": [
    {
     "name": "stdout",
     "output_type": "stream",
     "text": [
      "<class 'pandas.core.frame.DataFrame'>\n",
      "RangeIndex: 76837 entries, 0 to 76836\n",
      "Data columns (total 23 columns):\n",
      " #   Column      Non-Null Count  Dtype  \n",
      "---  ------      --------------  -----  \n",
      " 0   Unnamed: 0  76837 non-null  int64  \n",
      " 1   신고번호        76837 non-null  object \n",
      " 2   신고일자        76837 non-null  object \n",
      " 3   통관지세관부호     76837 non-null  object \n",
      " 4   신고인부호       76837 non-null  object \n",
      " 5   수입자부호       76837 non-null  object \n",
      " 6   해외거래처부호     76837 non-null  object \n",
      " 7   특송업체부호      76837 non-null  object \n",
      " 8   수입통관계획코드    76837 non-null  object \n",
      " 9   수입신고구분코드    76837 non-null  object \n",
      " 10  수입거래구분코드    76837 non-null  object \n",
      " 11  수입종류코드      76837 non-null  object \n",
      " 12  징수형태코드      76837 non-null  object \n",
      " 13  신고중량(KG)    76837 non-null  float64\n",
      " 14  과세가격원화금액    76837 non-null  float64\n",
      " 15  운송수단유형코드    76837 non-null  object \n",
      " 16  반입보세구역부호    76837 non-null  object \n",
      " 17  HS10단위부호    76837 non-null  object \n",
      " 18  적출국가코드      76837 non-null  object \n",
      " 19  원산지국가코드     76837 non-null  object \n",
      " 20  관세율구분코드     76837 non-null  object \n",
      " 21  관세율         76837 non-null  float64\n",
      " 22  우범여부        76837 non-null  int64  \n",
      "dtypes: float64(3), int64(2), object(18)\n",
      "memory usage: 13.5+ MB\n"
     ]
    }
   ],
   "source": [
    "df_org.info()"
   ]
  },
  {
   "cell_type": "code",
   "execution_count": 12,
   "metadata": {},
   "outputs": [],
   "source": [
    "from sklearn.preprocessing import StandardScaler, RobustScaler\n",
    "rob_scaler = RobustScaler()\n",
    "std_scaler = StandardScaler()\n",
    "\n",
    "df_org['신고중량(KG)'] = std_scaler.fit_transform(df_org['신고중량(KG)'].values.reshape(-1,1))\n",
    "df_org['과세가격원화금액'] = std_scaler.fit_transform(df_org['과세가격원화금액'].values.reshape(-1,1))"
   ]
  },
  {
   "cell_type": "markdown",
   "metadata": {},
   "source": [
    "# 훈련/시험 데이터셋 분할\n",
    "# 이후 레이블 인코딩 진행"
   ]
  },
  {
   "cell_type": "code",
   "execution_count": 13,
   "metadata": {},
   "outputs": [
    {
     "name": "stdout",
     "output_type": "stream",
     "text": [
      "(53785, 23) (23052, 23)\n"
     ]
    }
   ],
   "source": [
    "df_train = df_org.iloc[:int(len(df_org)*0.7), :]\n",
    "df_test = df_org.iloc[int(len(df_org)*0.7):, :]\n",
    "\n",
    "print(df_train.shape,  df_test.shape)"
   ]
  },
  {
   "cell_type": "code",
   "execution_count": 14,
   "metadata": {},
   "outputs": [
    {
     "name": "stderr",
     "output_type": "stream",
     "text": [
      "<ipython-input-14-3b4c36c0b28d>:4: SettingWithCopyWarning: \n",
      "A value is trying to be set on a copy of a slice from a DataFrame.\n",
      "Try using .loc[row_indexer,col_indexer] = value instead\n",
      "\n",
      "See the caveats in the documentation: https://pandas.pydata.org/pandas-docs/stable/user_guide/indexing.html#returning-a-view-versus-a-copy\n",
      "  df_train[var] = [label_encoding_ref[var][x] for x in df_train[var]]\n",
      "<ipython-input-14-3b4c36c0b28d>:5: SettingWithCopyWarning: \n",
      "A value is trying to be set on a copy of a slice from a DataFrame.\n",
      "Try using .loc[row_indexer,col_indexer] = value instead\n",
      "\n",
      "See the caveats in the documentation: https://pandas.pydata.org/pandas-docs/stable/user_guide/indexing.html#returning-a-view-versus-a-copy\n",
      "  df_test[var] = [label_encoding_ref[var].get(x,0) for x in df_test[var]]\n"
     ]
    }
   ],
   "source": [
    "label_encoding_ref = {}\n",
    "for var in discrete_columns:\n",
    "    label_encoding_ref[var] = {code: i+1 for i, code in enumerate(df_train[var].unique())}\n",
    "    df_train[var] = [label_encoding_ref[var][x] for x in df_train[var]]\n",
    "    df_test[var] = [label_encoding_ref[var].get(x,0) for x in df_test[var]]\n",
    "\n",
    "df_train.reset_index(drop=True, inplace=True)\n",
    "df_test.reset_index(drop=True, inplace=True)"
   ]
  },
  {
   "cell_type": "code",
   "execution_count": 15,
   "metadata": {},
   "outputs": [
    {
     "name": "stdout",
     "output_type": "stream",
     "text": [
      "<class 'pandas.core.frame.DataFrame'>\n",
      "RangeIndex: 53785 entries, 0 to 53784\n",
      "Data columns (total 23 columns):\n",
      " #   Column      Non-Null Count  Dtype  \n",
      "---  ------      --------------  -----  \n",
      " 0   Unnamed: 0  53785 non-null  int64  \n",
      " 1   신고번호        53785 non-null  int64  \n",
      " 2   신고일자        53785 non-null  int64  \n",
      " 3   통관지세관부호     53785 non-null  int64  \n",
      " 4   신고인부호       53785 non-null  int64  \n",
      " 5   수입자부호       53785 non-null  int64  \n",
      " 6   해외거래처부호     53785 non-null  int64  \n",
      " 7   특송업체부호      53785 non-null  int64  \n",
      " 8   수입통관계획코드    53785 non-null  int64  \n",
      " 9   수입신고구분코드    53785 non-null  int64  \n",
      " 10  수입거래구분코드    53785 non-null  int64  \n",
      " 11  수입종류코드      53785 non-null  int64  \n",
      " 12  징수형태코드      53785 non-null  int64  \n",
      " 13  신고중량(KG)    53785 non-null  float64\n",
      " 14  과세가격원화금액    53785 non-null  float64\n",
      " 15  운송수단유형코드    53785 non-null  int64  \n",
      " 16  반입보세구역부호    53785 non-null  int64  \n",
      " 17  HS10단위부호    53785 non-null  int64  \n",
      " 18  적출국가코드      53785 non-null  int64  \n",
      " 19  원산지국가코드     53785 non-null  int64  \n",
      " 20  관세율구분코드     53785 non-null  int64  \n",
      " 21  관세율         53785 non-null  float64\n",
      " 22  우범여부        53785 non-null  int64  \n",
      "dtypes: float64(3), int64(20)\n",
      "memory usage: 9.4 MB\n",
      "<class 'pandas.core.frame.DataFrame'>\n",
      "RangeIndex: 23052 entries, 0 to 23051\n",
      "Data columns (total 23 columns):\n",
      " #   Column      Non-Null Count  Dtype  \n",
      "---  ------      --------------  -----  \n",
      " 0   Unnamed: 0  23052 non-null  int64  \n",
      " 1   신고번호        23052 non-null  int64  \n",
      " 2   신고일자        23052 non-null  int64  \n",
      " 3   통관지세관부호     23052 non-null  int64  \n",
      " 4   신고인부호       23052 non-null  int64  \n",
      " 5   수입자부호       23052 non-null  int64  \n",
      " 6   해외거래처부호     23052 non-null  int64  \n",
      " 7   특송업체부호      23052 non-null  int64  \n",
      " 8   수입통관계획코드    23052 non-null  int64  \n",
      " 9   수입신고구분코드    23052 non-null  int64  \n",
      " 10  수입거래구분코드    23052 non-null  int64  \n",
      " 11  수입종류코드      23052 non-null  int64  \n",
      " 12  징수형태코드      23052 non-null  int64  \n",
      " 13  신고중량(KG)    23052 non-null  float64\n",
      " 14  과세가격원화금액    23052 non-null  float64\n",
      " 15  운송수단유형코드    23052 non-null  int64  \n",
      " 16  반입보세구역부호    23052 non-null  int64  \n",
      " 17  HS10단위부호    23052 non-null  int64  \n",
      " 18  적출국가코드      23052 non-null  int64  \n",
      " 19  원산지국가코드     23052 non-null  int64  \n",
      " 20  관세율구분코드     23052 non-null  int64  \n",
      " 21  관세율         23052 non-null  float64\n",
      " 22  우범여부        23052 non-null  int64  \n",
      "dtypes: float64(3), int64(20)\n",
      "memory usage: 4.0 MB\n"
     ]
    },
    {
     "data": {
      "text/plain": [
       "(None, None)"
      ]
     },
     "execution_count": 15,
     "metadata": {},
     "output_type": "execute_result"
    }
   ],
   "source": [
    "df_train.info(),  df_test.info()"
   ]
  },
  {
   "cell_type": "markdown",
   "metadata": {},
   "source": [
    "# 원핫인코딩 진행할 때 데이터셋 프로세스\n",
    "\n",
    "# * 원핫 진행할 때 이 셀로 시작 *"
   ]
  },
  {
   "cell_type": "code",
   "execution_count": 15,
   "metadata": {},
   "outputs": [],
   "source": [
    "# one-hot-encoding\n",
    "# 예) A,B,C 3개의 클래스가 있는 범주형 변수를 다음과 같이 변환\n",
    "# A -> [1,0,0] / B -> [0,1,0] / C -> [0,0,1]\n",
    "\n",
    "# 원핫인코더 로딩\n",
    "from sklearn.preprocessing import  OneHotEncoder\n",
    "# 원핫인코더 활성화\n",
    "xgbohe = OneHotEncoder(categories=\"auto\", handle_unknown='ignore')\n",
    "# 훈련데이터: 범주형 변수만 분리하여 원핫인코딩 적용\n",
    "df_train_cat = xgbohe.fit_transform(df_train[discrete_columns])\n",
    "df_train_cat = pd.DataFrame(df_train_cat.toarray(), \n",
    "                                columns = xgbohe.get_feature_names(discrete_columns))\n",
    "# 수치형 변수 분리\n",
    "df_train_num = df_train[numeric_columns]\n",
    "\n",
    "# 원핫인코딩된 범주형 변수와 수치형 변수 재결합\n",
    "df_train = pd.concat([df_train_num, df_train_cat], axis=1)"
   ]
  },
  {
   "cell_type": "code",
   "execution_count": 16,
   "metadata": {},
   "outputs": [
    {
     "ename": "MemoryError",
     "evalue": "Unable to allocate 18.0 GiB for an array with shape (52444, 46102) and data type float64",
     "output_type": "error",
     "traceback": [
      "\u001b[1;31m---------------------------------------------------------------------------\u001b[0m",
      "\u001b[1;31mMemoryError\u001b[0m                               Traceback (most recent call last)",
      "\u001b[1;32m<ipython-input-16-430d65c65f12>\u001b[0m in \u001b[0;36m<module>\u001b[1;34m\u001b[0m\n\u001b[0;32m      3\u001b[0m                                 columns = xgbohe.get_feature_names(discrete_columns))\n\u001b[0;32m      4\u001b[0m \u001b[1;31m# 수치형 변수 분리\u001b[0m\u001b[1;33m\u001b[0m\u001b[1;33m\u001b[0m\u001b[1;33m\u001b[0m\u001b[0m\n\u001b[1;32m----> 5\u001b[1;33m \u001b[0mdf_eval_num\u001b[0m \u001b[1;33m=\u001b[0m \u001b[0mdf_train\u001b[0m\u001b[1;33m[\u001b[0m\u001b[0mnumeric_columns\u001b[0m\u001b[1;33m]\u001b[0m\u001b[1;33m\u001b[0m\u001b[1;33m\u001b[0m\u001b[0m\n\u001b[0m\u001b[0;32m      6\u001b[0m \u001b[1;33m\u001b[0m\u001b[0m\n\u001b[0;32m      7\u001b[0m \u001b[1;31m# 원핫인코딩된 범주형 변수와 수치형 변수 재결합\u001b[0m\u001b[1;33m\u001b[0m\u001b[1;33m\u001b[0m\u001b[1;33m\u001b[0m\u001b[0m\n",
      "\u001b[1;32m~\\anaconda3\\lib\\site-packages\\pandas\\core\\frame.py\u001b[0m in \u001b[0;36m__getitem__\u001b[1;34m(self, key)\u001b[0m\n\u001b[0;32m   3034\u001b[0m             \u001b[0mindexer\u001b[0m \u001b[1;33m=\u001b[0m \u001b[0mnp\u001b[0m\u001b[1;33m.\u001b[0m\u001b[0mwhere\u001b[0m\u001b[1;33m(\u001b[0m\u001b[0mindexer\u001b[0m\u001b[1;33m)\u001b[0m\u001b[1;33m[\u001b[0m\u001b[1;36m0\u001b[0m\u001b[1;33m]\u001b[0m\u001b[1;33m\u001b[0m\u001b[1;33m\u001b[0m\u001b[0m\n\u001b[0;32m   3035\u001b[0m \u001b[1;33m\u001b[0m\u001b[0m\n\u001b[1;32m-> 3036\u001b[1;33m         \u001b[0mdata\u001b[0m \u001b[1;33m=\u001b[0m \u001b[0mself\u001b[0m\u001b[1;33m.\u001b[0m\u001b[0m_take_with_is_copy\u001b[0m\u001b[1;33m(\u001b[0m\u001b[0mindexer\u001b[0m\u001b[1;33m,\u001b[0m \u001b[0maxis\u001b[0m\u001b[1;33m=\u001b[0m\u001b[1;36m1\u001b[0m\u001b[1;33m)\u001b[0m\u001b[1;33m\u001b[0m\u001b[1;33m\u001b[0m\u001b[0m\n\u001b[0m\u001b[0;32m   3037\u001b[0m \u001b[1;33m\u001b[0m\u001b[0m\n\u001b[0;32m   3038\u001b[0m         \u001b[1;32mif\u001b[0m \u001b[0mis_single_key\u001b[0m\u001b[1;33m:\u001b[0m\u001b[1;33m\u001b[0m\u001b[1;33m\u001b[0m\u001b[0m\n",
      "\u001b[1;32m~\\anaconda3\\lib\\site-packages\\pandas\\core\\generic.py\u001b[0m in \u001b[0;36m_take_with_is_copy\u001b[1;34m(self, indices, axis)\u001b[0m\n\u001b[0;32m   3598\u001b[0m         \u001b[0mSee\u001b[0m \u001b[0mthe\u001b[0m \u001b[0mdocstring\u001b[0m \u001b[0mof\u001b[0m\u001b[0;31m \u001b[0m\u001b[0;31m`\u001b[0m\u001b[0mtake\u001b[0m\u001b[0;31m`\u001b[0m \u001b[1;32mfor\u001b[0m \u001b[0mfull\u001b[0m \u001b[0mexplanation\u001b[0m \u001b[0mof\u001b[0m \u001b[0mthe\u001b[0m \u001b[0mparameters\u001b[0m\u001b[1;33m.\u001b[0m\u001b[1;33m\u001b[0m\u001b[1;33m\u001b[0m\u001b[0m\n\u001b[0;32m   3599\u001b[0m         \"\"\"\n\u001b[1;32m-> 3600\u001b[1;33m         \u001b[0mresult\u001b[0m \u001b[1;33m=\u001b[0m \u001b[0mself\u001b[0m\u001b[1;33m.\u001b[0m\u001b[0mtake\u001b[0m\u001b[1;33m(\u001b[0m\u001b[0mindices\u001b[0m\u001b[1;33m=\u001b[0m\u001b[0mindices\u001b[0m\u001b[1;33m,\u001b[0m \u001b[0maxis\u001b[0m\u001b[1;33m=\u001b[0m\u001b[0maxis\u001b[0m\u001b[1;33m)\u001b[0m\u001b[1;33m\u001b[0m\u001b[1;33m\u001b[0m\u001b[0m\n\u001b[0m\u001b[0;32m   3601\u001b[0m         \u001b[1;31m# Maybe set copy if we didn't actually change the index.\u001b[0m\u001b[1;33m\u001b[0m\u001b[1;33m\u001b[0m\u001b[1;33m\u001b[0m\u001b[0m\n\u001b[0;32m   3602\u001b[0m         \u001b[1;32mif\u001b[0m \u001b[1;32mnot\u001b[0m \u001b[0mresult\u001b[0m\u001b[1;33m.\u001b[0m\u001b[0m_get_axis\u001b[0m\u001b[1;33m(\u001b[0m\u001b[0maxis\u001b[0m\u001b[1;33m)\u001b[0m\u001b[1;33m.\u001b[0m\u001b[0mequals\u001b[0m\u001b[1;33m(\u001b[0m\u001b[0mself\u001b[0m\u001b[1;33m.\u001b[0m\u001b[0m_get_axis\u001b[0m\u001b[1;33m(\u001b[0m\u001b[0maxis\u001b[0m\u001b[1;33m)\u001b[0m\u001b[1;33m)\u001b[0m\u001b[1;33m:\u001b[0m\u001b[1;33m\u001b[0m\u001b[1;33m\u001b[0m\u001b[0m\n",
      "\u001b[1;32m~\\anaconda3\\lib\\site-packages\\pandas\\core\\generic.py\u001b[0m in \u001b[0;36mtake\u001b[1;34m(self, indices, axis, is_copy, **kwargs)\u001b[0m\n\u001b[0;32m   3582\u001b[0m         \u001b[0mnv\u001b[0m\u001b[1;33m.\u001b[0m\u001b[0mvalidate_take\u001b[0m\u001b[1;33m(\u001b[0m\u001b[1;33m(\u001b[0m\u001b[1;33m)\u001b[0m\u001b[1;33m,\u001b[0m \u001b[0mkwargs\u001b[0m\u001b[1;33m)\u001b[0m\u001b[1;33m\u001b[0m\u001b[1;33m\u001b[0m\u001b[0m\n\u001b[0;32m   3583\u001b[0m \u001b[1;33m\u001b[0m\u001b[0m\n\u001b[1;32m-> 3584\u001b[1;33m         \u001b[0mself\u001b[0m\u001b[1;33m.\u001b[0m\u001b[0m_consolidate_inplace\u001b[0m\u001b[1;33m(\u001b[0m\u001b[1;33m)\u001b[0m\u001b[1;33m\u001b[0m\u001b[1;33m\u001b[0m\u001b[0m\n\u001b[0m\u001b[0;32m   3585\u001b[0m \u001b[1;33m\u001b[0m\u001b[0m\n\u001b[0;32m   3586\u001b[0m         new_data = self._mgr.take(\n",
      "\u001b[1;32m~\\anaconda3\\lib\\site-packages\\pandas\\core\\generic.py\u001b[0m in \u001b[0;36m_consolidate_inplace\u001b[1;34m(self)\u001b[0m\n\u001b[0;32m   5539\u001b[0m             \u001b[0mself\u001b[0m\u001b[1;33m.\u001b[0m\u001b[0m_mgr\u001b[0m \u001b[1;33m=\u001b[0m \u001b[0mself\u001b[0m\u001b[1;33m.\u001b[0m\u001b[0m_mgr\u001b[0m\u001b[1;33m.\u001b[0m\u001b[0mconsolidate\u001b[0m\u001b[1;33m(\u001b[0m\u001b[1;33m)\u001b[0m\u001b[1;33m\u001b[0m\u001b[1;33m\u001b[0m\u001b[0m\n\u001b[0;32m   5540\u001b[0m \u001b[1;33m\u001b[0m\u001b[0m\n\u001b[1;32m-> 5541\u001b[1;33m         \u001b[0mself\u001b[0m\u001b[1;33m.\u001b[0m\u001b[0m_protect_consolidate\u001b[0m\u001b[1;33m(\u001b[0m\u001b[0mf\u001b[0m\u001b[1;33m)\u001b[0m\u001b[1;33m\u001b[0m\u001b[1;33m\u001b[0m\u001b[0m\n\u001b[0m\u001b[0;32m   5542\u001b[0m \u001b[1;33m\u001b[0m\u001b[0m\n\u001b[0;32m   5543\u001b[0m     \u001b[1;33m@\u001b[0m\u001b[0mfinal\u001b[0m\u001b[1;33m\u001b[0m\u001b[1;33m\u001b[0m\u001b[0m\n",
      "\u001b[1;32m~\\anaconda3\\lib\\site-packages\\pandas\\core\\generic.py\u001b[0m in \u001b[0;36m_protect_consolidate\u001b[1;34m(self, f)\u001b[0m\n\u001b[0;32m   5527\u001b[0m         \"\"\"\n\u001b[0;32m   5528\u001b[0m         \u001b[0mblocks_before\u001b[0m \u001b[1;33m=\u001b[0m \u001b[0mlen\u001b[0m\u001b[1;33m(\u001b[0m\u001b[0mself\u001b[0m\u001b[1;33m.\u001b[0m\u001b[0m_mgr\u001b[0m\u001b[1;33m.\u001b[0m\u001b[0mblocks\u001b[0m\u001b[1;33m)\u001b[0m\u001b[1;33m\u001b[0m\u001b[1;33m\u001b[0m\u001b[0m\n\u001b[1;32m-> 5529\u001b[1;33m         \u001b[0mresult\u001b[0m \u001b[1;33m=\u001b[0m \u001b[0mf\u001b[0m\u001b[1;33m(\u001b[0m\u001b[1;33m)\u001b[0m\u001b[1;33m\u001b[0m\u001b[1;33m\u001b[0m\u001b[0m\n\u001b[0m\u001b[0;32m   5530\u001b[0m         \u001b[1;32mif\u001b[0m \u001b[0mlen\u001b[0m\u001b[1;33m(\u001b[0m\u001b[0mself\u001b[0m\u001b[1;33m.\u001b[0m\u001b[0m_mgr\u001b[0m\u001b[1;33m.\u001b[0m\u001b[0mblocks\u001b[0m\u001b[1;33m)\u001b[0m \u001b[1;33m!=\u001b[0m \u001b[0mblocks_before\u001b[0m\u001b[1;33m:\u001b[0m\u001b[1;33m\u001b[0m\u001b[1;33m\u001b[0m\u001b[0m\n\u001b[0;32m   5531\u001b[0m             \u001b[0mself\u001b[0m\u001b[1;33m.\u001b[0m\u001b[0m_clear_item_cache\u001b[0m\u001b[1;33m(\u001b[0m\u001b[1;33m)\u001b[0m\u001b[1;33m\u001b[0m\u001b[1;33m\u001b[0m\u001b[0m\n",
      "\u001b[1;32m~\\anaconda3\\lib\\site-packages\\pandas\\core\\generic.py\u001b[0m in \u001b[0;36mf\u001b[1;34m()\u001b[0m\n\u001b[0;32m   5537\u001b[0m \u001b[1;33m\u001b[0m\u001b[0m\n\u001b[0;32m   5538\u001b[0m         \u001b[1;32mdef\u001b[0m \u001b[0mf\u001b[0m\u001b[1;33m(\u001b[0m\u001b[1;33m)\u001b[0m\u001b[1;33m:\u001b[0m\u001b[1;33m\u001b[0m\u001b[1;33m\u001b[0m\u001b[0m\n\u001b[1;32m-> 5539\u001b[1;33m             \u001b[0mself\u001b[0m\u001b[1;33m.\u001b[0m\u001b[0m_mgr\u001b[0m \u001b[1;33m=\u001b[0m \u001b[0mself\u001b[0m\u001b[1;33m.\u001b[0m\u001b[0m_mgr\u001b[0m\u001b[1;33m.\u001b[0m\u001b[0mconsolidate\u001b[0m\u001b[1;33m(\u001b[0m\u001b[1;33m)\u001b[0m\u001b[1;33m\u001b[0m\u001b[1;33m\u001b[0m\u001b[0m\n\u001b[0m\u001b[0;32m   5540\u001b[0m \u001b[1;33m\u001b[0m\u001b[0m\n\u001b[0;32m   5541\u001b[0m         \u001b[0mself\u001b[0m\u001b[1;33m.\u001b[0m\u001b[0m_protect_consolidate\u001b[0m\u001b[1;33m(\u001b[0m\u001b[0mf\u001b[0m\u001b[1;33m)\u001b[0m\u001b[1;33m\u001b[0m\u001b[1;33m\u001b[0m\u001b[0m\n",
      "\u001b[1;32m~\\anaconda3\\lib\\site-packages\\pandas\\core\\internals\\managers.py\u001b[0m in \u001b[0;36mconsolidate\u001b[1;34m(self)\u001b[0m\n\u001b[0;32m    986\u001b[0m         \u001b[0mbm\u001b[0m \u001b[1;33m=\u001b[0m \u001b[0mtype\u001b[0m\u001b[1;33m(\u001b[0m\u001b[0mself\u001b[0m\u001b[1;33m)\u001b[0m\u001b[1;33m(\u001b[0m\u001b[0mself\u001b[0m\u001b[1;33m.\u001b[0m\u001b[0mblocks\u001b[0m\u001b[1;33m,\u001b[0m \u001b[0mself\u001b[0m\u001b[1;33m.\u001b[0m\u001b[0maxes\u001b[0m\u001b[1;33m)\u001b[0m\u001b[1;33m\u001b[0m\u001b[1;33m\u001b[0m\u001b[0m\n\u001b[0;32m    987\u001b[0m         \u001b[0mbm\u001b[0m\u001b[1;33m.\u001b[0m\u001b[0m_is_consolidated\u001b[0m \u001b[1;33m=\u001b[0m \u001b[1;32mFalse\u001b[0m\u001b[1;33m\u001b[0m\u001b[1;33m\u001b[0m\u001b[0m\n\u001b[1;32m--> 988\u001b[1;33m         \u001b[0mbm\u001b[0m\u001b[1;33m.\u001b[0m\u001b[0m_consolidate_inplace\u001b[0m\u001b[1;33m(\u001b[0m\u001b[1;33m)\u001b[0m\u001b[1;33m\u001b[0m\u001b[1;33m\u001b[0m\u001b[0m\n\u001b[0m\u001b[0;32m    989\u001b[0m         \u001b[1;32mreturn\u001b[0m \u001b[0mbm\u001b[0m\u001b[1;33m\u001b[0m\u001b[1;33m\u001b[0m\u001b[0m\n\u001b[0;32m    990\u001b[0m \u001b[1;33m\u001b[0m\u001b[0m\n",
      "\u001b[1;32m~\\anaconda3\\lib\\site-packages\\pandas\\core\\internals\\managers.py\u001b[0m in \u001b[0;36m_consolidate_inplace\u001b[1;34m(self)\u001b[0m\n\u001b[0;32m    991\u001b[0m     \u001b[1;32mdef\u001b[0m \u001b[0m_consolidate_inplace\u001b[0m\u001b[1;33m(\u001b[0m\u001b[0mself\u001b[0m\u001b[1;33m)\u001b[0m \u001b[1;33m->\u001b[0m \u001b[1;32mNone\u001b[0m\u001b[1;33m:\u001b[0m\u001b[1;33m\u001b[0m\u001b[1;33m\u001b[0m\u001b[0m\n\u001b[0;32m    992\u001b[0m         \u001b[1;32mif\u001b[0m \u001b[1;32mnot\u001b[0m \u001b[0mself\u001b[0m\u001b[1;33m.\u001b[0m\u001b[0mis_consolidated\u001b[0m\u001b[1;33m(\u001b[0m\u001b[1;33m)\u001b[0m\u001b[1;33m:\u001b[0m\u001b[1;33m\u001b[0m\u001b[1;33m\u001b[0m\u001b[0m\n\u001b[1;32m--> 993\u001b[1;33m             \u001b[0mself\u001b[0m\u001b[1;33m.\u001b[0m\u001b[0mblocks\u001b[0m \u001b[1;33m=\u001b[0m \u001b[0mtuple\u001b[0m\u001b[1;33m(\u001b[0m\u001b[0m_consolidate\u001b[0m\u001b[1;33m(\u001b[0m\u001b[0mself\u001b[0m\u001b[1;33m.\u001b[0m\u001b[0mblocks\u001b[0m\u001b[1;33m)\u001b[0m\u001b[1;33m)\u001b[0m\u001b[1;33m\u001b[0m\u001b[1;33m\u001b[0m\u001b[0m\n\u001b[0m\u001b[0;32m    994\u001b[0m             \u001b[0mself\u001b[0m\u001b[1;33m.\u001b[0m\u001b[0m_is_consolidated\u001b[0m \u001b[1;33m=\u001b[0m \u001b[1;32mTrue\u001b[0m\u001b[1;33m\u001b[0m\u001b[1;33m\u001b[0m\u001b[0m\n\u001b[0;32m    995\u001b[0m             \u001b[0mself\u001b[0m\u001b[1;33m.\u001b[0m\u001b[0m_known_consolidated\u001b[0m \u001b[1;33m=\u001b[0m \u001b[1;32mTrue\u001b[0m\u001b[1;33m\u001b[0m\u001b[1;33m\u001b[0m\u001b[0m\n",
      "\u001b[1;32m~\\anaconda3\\lib\\site-packages\\pandas\\core\\internals\\managers.py\u001b[0m in \u001b[0;36m_consolidate\u001b[1;34m(blocks)\u001b[0m\n\u001b[0;32m   1914\u001b[0m     \u001b[0mnew_blocks\u001b[0m\u001b[1;33m:\u001b[0m \u001b[0mList\u001b[0m\u001b[1;33m[\u001b[0m\u001b[0mBlock\u001b[0m\u001b[1;33m]\u001b[0m \u001b[1;33m=\u001b[0m \u001b[1;33m[\u001b[0m\u001b[1;33m]\u001b[0m\u001b[1;33m\u001b[0m\u001b[1;33m\u001b[0m\u001b[0m\n\u001b[0;32m   1915\u001b[0m     \u001b[1;32mfor\u001b[0m \u001b[1;33m(\u001b[0m\u001b[0m_can_consolidate\u001b[0m\u001b[1;33m,\u001b[0m \u001b[0mdtype\u001b[0m\u001b[1;33m)\u001b[0m\u001b[1;33m,\u001b[0m \u001b[0mgroup_blocks\u001b[0m \u001b[1;32min\u001b[0m \u001b[0mgrouper\u001b[0m\u001b[1;33m:\u001b[0m\u001b[1;33m\u001b[0m\u001b[1;33m\u001b[0m\u001b[0m\n\u001b[1;32m-> 1916\u001b[1;33m         merged_blocks = _merge_blocks(\n\u001b[0m\u001b[0;32m   1917\u001b[0m             \u001b[0mlist\u001b[0m\u001b[1;33m(\u001b[0m\u001b[0mgroup_blocks\u001b[0m\u001b[1;33m)\u001b[0m\u001b[1;33m,\u001b[0m \u001b[0mdtype\u001b[0m\u001b[1;33m=\u001b[0m\u001b[0mdtype\u001b[0m\u001b[1;33m,\u001b[0m \u001b[0mcan_consolidate\u001b[0m\u001b[1;33m=\u001b[0m\u001b[0m_can_consolidate\u001b[0m\u001b[1;33m\u001b[0m\u001b[1;33m\u001b[0m\u001b[0m\n\u001b[0;32m   1918\u001b[0m         )\n",
      "\u001b[1;32m~\\anaconda3\\lib\\site-packages\\pandas\\core\\internals\\managers.py\u001b[0m in \u001b[0;36m_merge_blocks\u001b[1;34m(blocks, dtype, can_consolidate)\u001b[0m\n\u001b[0;32m   1940\u001b[0m \u001b[1;33m\u001b[0m\u001b[0m\n\u001b[0;32m   1941\u001b[0m         \u001b[0margsort\u001b[0m \u001b[1;33m=\u001b[0m \u001b[0mnp\u001b[0m\u001b[1;33m.\u001b[0m\u001b[0margsort\u001b[0m\u001b[1;33m(\u001b[0m\u001b[0mnew_mgr_locs\u001b[0m\u001b[1;33m)\u001b[0m\u001b[1;33m\u001b[0m\u001b[1;33m\u001b[0m\u001b[0m\n\u001b[1;32m-> 1942\u001b[1;33m         \u001b[0mnew_values\u001b[0m \u001b[1;33m=\u001b[0m \u001b[0mnew_values\u001b[0m\u001b[1;33m[\u001b[0m\u001b[0margsort\u001b[0m\u001b[1;33m]\u001b[0m\u001b[1;33m\u001b[0m\u001b[1;33m\u001b[0m\u001b[0m\n\u001b[0m\u001b[0;32m   1943\u001b[0m         \u001b[0mnew_mgr_locs\u001b[0m \u001b[1;33m=\u001b[0m \u001b[0mnew_mgr_locs\u001b[0m\u001b[1;33m[\u001b[0m\u001b[0margsort\u001b[0m\u001b[1;33m]\u001b[0m\u001b[1;33m\u001b[0m\u001b[1;33m\u001b[0m\u001b[0m\n\u001b[0;32m   1944\u001b[0m \u001b[1;33m\u001b[0m\u001b[0m\n",
      "\u001b[1;31mMemoryError\u001b[0m: Unable to allocate 18.0 GiB for an array with shape (52444, 46102) and data type float64"
     ]
    }
   ],
   "source": [
    "df_eval_cat = xgbohe.fit_transform(df_eval[discrete_columns])\n",
    "df_eval_cat = pd.DataFrame(df_eval_cat.toarray(), \n",
    "                                columns = xgbohe.get_feature_names(discrete_columns))\n",
    "# 수치형 변수 분리\n",
    "df_eval_num = df_train[numeric_columns]\n",
    "\n",
    "# 원핫인코딩된 범주형 변수와 수치형 변수 재결합\n",
    "df_eval_onehot = pd.concat([df_eval_cat, df_eval_num], axis=1)"
   ]
  },
  {
   "cell_type": "code",
   "execution_count": 17,
   "metadata": {},
   "outputs": [],
   "source": [
    "# 테스트데이터: 범주형 변수만 분리하여 원핫인코딩 적용\n",
    "df_test_cat = xgbohe.transform(df_test[discrete_columns])\n",
    "df_test_cat = pd.DataFrame(df_test_cat.toarray(), \n",
    "                               columns = xgbohe.get_feature_names(discrete_columns))\n",
    "# 수치형 변수 분리\n",
    "df_test_num = df_test[numeric_columns]\n",
    "# 원핫인코딩된 범주형 변수와 수치형 변수 재결합\n",
    "df_test_onehot = pd.concat([df_test_num, df_test_cat], axis=1)"
   ]
  },
  {
   "cell_type": "code",
   "execution_count": null,
   "metadata": {},
   "outputs": [],
   "source": [
    "df_train_onehot, df_eval_onehot, df_test_onehot"
   ]
  },
  {
   "cell_type": "markdown",
   "metadata": {},
   "source": [
    "# 원핫 혹은 레이블 인코딩 완료\n",
    "# 완전한 데이터셋 구성 후 분리"
   ]
  },
  {
   "cell_type": "code",
   "execution_count": 17,
   "metadata": {},
   "outputs": [],
   "source": [
    "df_train_x = df_train\n",
    "df_train_y = df_train_x.pop(\"우범여부\")\n",
    "\n",
    "# df_train_x = df_train_onehot\n",
    "# df_train_y = df_train_x.pop(\"우범여부\")"
   ]
  },
  {
   "cell_type": "code",
   "execution_count": 18,
   "metadata": {},
   "outputs": [],
   "source": [
    "df_test_x = df_test\n",
    "df_test_y = df_test_x.pop(\"우범여부\")\n",
    "\n",
    "# df_test_x = df_test_onehot\n",
    "# df_test_y = df_test_x.pop(\"우범여부\")"
   ]
  },
  {
   "cell_type": "code",
   "execution_count": 19,
   "metadata": {},
   "outputs": [
    {
     "name": "stdout",
     "output_type": "stream",
     "text": [
      "<class 'pandas.core.frame.DataFrame'>\n",
      "RangeIndex: 53785 entries, 0 to 53784\n",
      "Data columns (total 22 columns):\n",
      " #   Column      Non-Null Count  Dtype  \n",
      "---  ------      --------------  -----  \n",
      " 0   Unnamed: 0  53785 non-null  int64  \n",
      " 1   신고번호        53785 non-null  int64  \n",
      " 2   신고일자        53785 non-null  int64  \n",
      " 3   통관지세관부호     53785 non-null  int64  \n",
      " 4   신고인부호       53785 non-null  int64  \n",
      " 5   수입자부호       53785 non-null  int64  \n",
      " 6   해외거래처부호     53785 non-null  int64  \n",
      " 7   특송업체부호      53785 non-null  int64  \n",
      " 8   수입통관계획코드    53785 non-null  int64  \n",
      " 9   수입신고구분코드    53785 non-null  int64  \n",
      " 10  수입거래구분코드    53785 non-null  int64  \n",
      " 11  수입종류코드      53785 non-null  int64  \n",
      " 12  징수형태코드      53785 non-null  int64  \n",
      " 13  신고중량(KG)    53785 non-null  float64\n",
      " 14  과세가격원화금액    53785 non-null  float64\n",
      " 15  운송수단유형코드    53785 non-null  int64  \n",
      " 16  반입보세구역부호    53785 non-null  int64  \n",
      " 17  HS10단위부호    53785 non-null  int64  \n",
      " 18  적출국가코드      53785 non-null  int64  \n",
      " 19  원산지국가코드     53785 non-null  int64  \n",
      " 20  관세율구분코드     53785 non-null  int64  \n",
      " 21  관세율         53785 non-null  float64\n",
      "dtypes: float64(3), int64(19)\n",
      "memory usage: 9.0 MB\n",
      "<class 'pandas.core.frame.DataFrame'>\n",
      "RangeIndex: 23052 entries, 0 to 23051\n",
      "Data columns (total 22 columns):\n",
      " #   Column      Non-Null Count  Dtype  \n",
      "---  ------      --------------  -----  \n",
      " 0   Unnamed: 0  23052 non-null  int64  \n",
      " 1   신고번호        23052 non-null  int64  \n",
      " 2   신고일자        23052 non-null  int64  \n",
      " 3   통관지세관부호     23052 non-null  int64  \n",
      " 4   신고인부호       23052 non-null  int64  \n",
      " 5   수입자부호       23052 non-null  int64  \n",
      " 6   해외거래처부호     23052 non-null  int64  \n",
      " 7   특송업체부호      23052 non-null  int64  \n",
      " 8   수입통관계획코드    23052 non-null  int64  \n",
      " 9   수입신고구분코드    23052 non-null  int64  \n",
      " 10  수입거래구분코드    23052 non-null  int64  \n",
      " 11  수입종류코드      23052 non-null  int64  \n",
      " 12  징수형태코드      23052 non-null  int64  \n",
      " 13  신고중량(KG)    23052 non-null  float64\n",
      " 14  과세가격원화금액    23052 non-null  float64\n",
      " 15  운송수단유형코드    23052 non-null  int64  \n",
      " 16  반입보세구역부호    23052 non-null  int64  \n",
      " 17  HS10단위부호    23052 non-null  int64  \n",
      " 18  적출국가코드      23052 non-null  int64  \n",
      " 19  원산지국가코드     23052 non-null  int64  \n",
      " 20  관세율구분코드     23052 non-null  int64  \n",
      " 21  관세율         23052 non-null  float64\n",
      "dtypes: float64(3), int64(19)\n",
      "memory usage: 3.9 MB\n"
     ]
    },
    {
     "data": {
      "text/plain": [
       "(None, None)"
      ]
     },
     "execution_count": 19,
     "metadata": {},
     "output_type": "execute_result"
    }
   ],
   "source": [
    "df_train_x.info(),df_test_x.info()"
   ]
  },
  {
   "cell_type": "code",
   "execution_count": 20,
   "metadata": {},
   "outputs": [],
   "source": [
    "train_part_x = df_train_x.loc[:,[\"신고번호\", \"통관지세관부호\", \"신고인부호\", \"수입자부호\"\n",
    "                                 ,\"해외거래처부호\", \"특송업체부호\", \"수입통관계획코드\"\n",
    "                                 ,\"수입거래구분코드\", \"수입종류코드\", \"징수형태코드\"\n",
    "                                ,\"신고중량(KG)\", \"과세가격원화금액\", \"운송수단유형코드\"\n",
    "                                ,\"반입보세구역부호\", \"원산지국가코드\", \"관세율구분코드\"\n",
    "                                ]]\n",
    "\n",
    "\n",
    "\n",
    "test_part_x = df_test_x.loc[:, [\"신고번호\", \"통관지세관부호\", \"신고인부호\", \"수입자부호\"\n",
    "                                 ,\"해외거래처부호\", \"특송업체부호\", \"수입통관계획코드\"\n",
    "                                 ,\"수입거래구분코드\", \"수입종류코드\", \"징수형태코드\"\n",
    "                               ,\"신고중량(KG)\", \"과세가격원화금액\", \"운송수단유형코드\"\n",
    "                               ,\"반입보세구역부호\", \"원산지국가코드\", \"관세율구분코드\"\n",
    "                               ]]"
   ]
  },
  {
   "cell_type": "markdown",
   "metadata": {},
   "source": [
    "# Imbalanced Sampling\n",
    "# * SMOTE *"
   ]
  },
  {
   "cell_type": "code",
   "execution_count": 21,
   "metadata": {},
   "outputs": [],
   "source": [
    "from imblearn.over_sampling import *"
   ]
  },
  {
   "cell_type": "code",
   "execution_count": 22,
   "metadata": {},
   "outputs": [
    {
     "name": "stdout",
     "output_type": "stream",
     "text": [
      "<class 'pandas.core.frame.DataFrame'>\n",
      "RangeIndex: 83112 entries, 0 to 83111\n",
      "Data columns (total 16 columns):\n",
      " #   Column    Non-Null Count  Dtype  \n",
      "---  ------    --------------  -----  \n",
      " 0   신고번호      83112 non-null  int64  \n",
      " 1   통관지세관부호   83112 non-null  int64  \n",
      " 2   신고인부호     83112 non-null  int64  \n",
      " 3   수입자부호     83112 non-null  int64  \n",
      " 4   해외거래처부호   83112 non-null  int64  \n",
      " 5   특송업체부호    83112 non-null  int64  \n",
      " 6   수입통관계획코드  83112 non-null  int64  \n",
      " 7   수입거래구분코드  83112 non-null  int64  \n",
      " 8   수입종류코드    83112 non-null  int64  \n",
      " 9   징수형태코드    83112 non-null  int64  \n",
      " 10  신고중량(KG)  83112 non-null  float64\n",
      " 11  과세가격원화금액  83112 non-null  float64\n",
      " 12  운송수단유형코드  83112 non-null  int64  \n",
      " 13  반입보세구역부호  83112 non-null  int64  \n",
      " 14  원산지국가코드   83112 non-null  int64  \n",
      " 15  관세율구분코드   83112 non-null  int64  \n",
      "dtypes: float64(2), int64(14)\n",
      "memory usage: 10.1 MB\n"
     ]
    },
    {
     "data": {
      "text/plain": [
       "(None,\n",
       " 0        1\n",
       " 1        0\n",
       " 2        0\n",
       " 3        0\n",
       " 4        1\n",
       "         ..\n",
       " 83107    1\n",
       " 83108    1\n",
       " 83109    1\n",
       " 83110    1\n",
       " 83111    1\n",
       " Name: 우범여부, Length: 83112, dtype: int64)"
      ]
     },
     "execution_count": 22,
     "metadata": {},
     "output_type": "execute_result"
    }
   ],
   "source": [
    "smote = SMOTE(random_state=11, sampling_strategy='all')\n",
    "df_train_over_x, df_train_over_y = smote.fit_resample(train_part_x, df_train_y)\n",
    "df_train_over_x.info(), df_train_over_y"
   ]
  },
  {
   "cell_type": "code",
   "execution_count": 23,
   "metadata": {},
   "outputs": [
    {
     "ename": "NameError",
     "evalue": "name 'eval_part_x' is not defined",
     "output_type": "error",
     "traceback": [
      "\u001b[1;31m---------------------------------------------------------------------------\u001b[0m",
      "\u001b[1;31mNameError\u001b[0m                                 Traceback (most recent call last)",
      "\u001b[1;32m<ipython-input-23-418f6a82e39b>\u001b[0m in \u001b[0;36m<module>\u001b[1;34m\u001b[0m\n\u001b[1;32m----> 1\u001b[1;33m \u001b[0mdf_eval_over_x\u001b[0m\u001b[1;33m,\u001b[0m \u001b[0mdf_eval_over_y\u001b[0m \u001b[1;33m=\u001b[0m \u001b[0msmote\u001b[0m\u001b[1;33m.\u001b[0m\u001b[0mfit_resample\u001b[0m\u001b[1;33m(\u001b[0m\u001b[0meval_part_x\u001b[0m\u001b[1;33m,\u001b[0m \u001b[0mdf_eval_y\u001b[0m\u001b[1;33m)\u001b[0m\u001b[1;33m\u001b[0m\u001b[1;33m\u001b[0m\u001b[0m\n\u001b[0m\u001b[0;32m      2\u001b[0m \u001b[0mdf_eval_over_x\u001b[0m\u001b[1;33m.\u001b[0m\u001b[0minfo\u001b[0m\u001b[1;33m(\u001b[0m\u001b[1;33m)\u001b[0m\u001b[1;33m,\u001b[0m \u001b[0mdf_eval_over_y\u001b[0m\u001b[1;33m\u001b[0m\u001b[1;33m\u001b[0m\u001b[0m\n",
      "\u001b[1;31mNameError\u001b[0m: name 'eval_part_x' is not defined"
     ]
    }
   ],
   "source": [
    "df_eval_over_x, df_eval_over_y = smote.fit_resample(eval_part_x, df_eval_y)\n",
    "df_eval_over_x.info(), df_eval_over_y"
   ]
  },
  {
   "cell_type": "markdown",
   "metadata": {},
   "source": [
    "# 샘플링 이후 데이터 분포 확인\n"
   ]
  },
  {
   "cell_type": "code",
   "execution_count": 30,
   "metadata": {
    "scrolled": true
   },
   "outputs": [
    {
     "data": {
      "text/plain": [
       "<matplotlib.axes._subplots.AxesSubplot at 0x15792603d90>"
      ]
     },
     "execution_count": 30,
     "metadata": {},
     "output_type": "execute_result"
    },
    {
     "name": "stderr",
     "output_type": "stream",
     "text": [
      "C:\\Users\\LEE JaeBin\\anaconda3\\lib\\site-packages\\matplotlib\\backends\\backend_agg.py:214: RuntimeWarning: Glyph 53685 missing from current font.\n",
      "  font.set_text(s, 0.0, flags=flags)\n",
      "C:\\Users\\LEE JaeBin\\anaconda3\\lib\\site-packages\\matplotlib\\backends\\backend_agg.py:214: RuntimeWarning: Glyph 44288 missing from current font.\n",
      "  font.set_text(s, 0.0, flags=flags)\n",
      "C:\\Users\\LEE JaeBin\\anaconda3\\lib\\site-packages\\matplotlib\\backends\\backend_agg.py:214: RuntimeWarning: Glyph 51648 missing from current font.\n",
      "  font.set_text(s, 0.0, flags=flags)\n",
      "C:\\Users\\LEE JaeBin\\anaconda3\\lib\\site-packages\\matplotlib\\backends\\backend_agg.py:214: RuntimeWarning: Glyph 49464 missing from current font.\n",
      "  font.set_text(s, 0.0, flags=flags)\n",
      "C:\\Users\\LEE JaeBin\\anaconda3\\lib\\site-packages\\matplotlib\\backends\\backend_agg.py:214: RuntimeWarning: Glyph 48512 missing from current font.\n",
      "  font.set_text(s, 0.0, flags=flags)\n",
      "C:\\Users\\LEE JaeBin\\anaconda3\\lib\\site-packages\\matplotlib\\backends\\backend_agg.py:214: RuntimeWarning: Glyph 54840 missing from current font.\n",
      "  font.set_text(s, 0.0, flags=flags)\n",
      "C:\\Users\\LEE JaeBin\\anaconda3\\lib\\site-packages\\matplotlib\\backends\\backend_agg.py:183: RuntimeWarning: Glyph 53685 missing from current font.\n",
      "  font.set_text(s, 0, flags=flags)\n",
      "C:\\Users\\LEE JaeBin\\anaconda3\\lib\\site-packages\\matplotlib\\backends\\backend_agg.py:183: RuntimeWarning: Glyph 44288 missing from current font.\n",
      "  font.set_text(s, 0, flags=flags)\n",
      "C:\\Users\\LEE JaeBin\\anaconda3\\lib\\site-packages\\matplotlib\\backends\\backend_agg.py:183: RuntimeWarning: Glyph 51648 missing from current font.\n",
      "  font.set_text(s, 0, flags=flags)\n",
      "C:\\Users\\LEE JaeBin\\anaconda3\\lib\\site-packages\\matplotlib\\backends\\backend_agg.py:183: RuntimeWarning: Glyph 49464 missing from current font.\n",
      "  font.set_text(s, 0, flags=flags)\n",
      "C:\\Users\\LEE JaeBin\\anaconda3\\lib\\site-packages\\matplotlib\\backends\\backend_agg.py:183: RuntimeWarning: Glyph 48512 missing from current font.\n",
      "  font.set_text(s, 0, flags=flags)\n",
      "C:\\Users\\LEE JaeBin\\anaconda3\\lib\\site-packages\\matplotlib\\backends\\backend_agg.py:183: RuntimeWarning: Glyph 54840 missing from current font.\n",
      "  font.set_text(s, 0, flags=flags)\n"
     ]
    },
    {
     "data": {
      "image/png": "[encoded data removed]",
      "text/plain": [
       "<Figure size 432x288 with 1 Axes>"
      ]
     },
     "metadata": {
      "needs_background": "light"
     },
     "output_type": "display_data"
    }
   ],
   "source": [
    "sns.kdeplot(df_train_over_x[\"통관지세관부호\"])"
   ]
  },
  {
   "cell_type": "markdown",
   "metadata": {},
   "source": [
    "# 모델 생성 / 학습 / 평가"
   ]
  },
  {
   "cell_type": "code",
   "execution_count": 31,
   "metadata": {},
   "outputs": [],
   "source": [
    "# XGBoost 모델 생성\n",
    "from xgboost import XGBClassifier, XGBRegressor\n",
    "from sklearn.metrics import f1_score,roc_auc_score\n",
    "import warnings\n",
    "warnings.filterwarnings(\"ignore\")"
   ]
  },
  {
   "cell_type": "code",
   "execution_count": 32,
   "metadata": {
    "scrolled": false
   },
   "outputs": [
    {
     "name": "stdout",
     "output_type": "stream",
     "text": [
      "[0]\tvalidation_0-logloss:0.60227\tvalidation_1-logloss:0.61495\n",
      "[1]\tvalidation_0-logloss:0.55203\tvalidation_1-logloss:0.57591\n",
      "[2]\tvalidation_0-logloss:0.52284\tvalidation_1-logloss:0.55373\n",
      "[3]\tvalidation_0-logloss:0.50305\tvalidation_1-logloss:0.54069\n",
      "[4]\tvalidation_0-logloss:0.48831\tvalidation_1-logloss:0.53100\n",
      "[5]\tvalidation_0-logloss:0.47228\tvalidation_1-logloss:0.51968\n",
      "[6]\tvalidation_0-logloss:0.46364\tvalidation_1-logloss:0.51513\n",
      "[7]\tvalidation_0-logloss:0.45659\tvalidation_1-logloss:0.51082\n",
      "[8]\tvalidation_0-logloss:0.44876\tvalidation_1-logloss:0.50582\n",
      "[9]\tvalidation_0-logloss:0.44335\tvalidation_1-logloss:0.50237\n",
      "[10]\tvalidation_0-logloss:0.43620\tvalidation_1-logloss:0.49869\n",
      "[11]\tvalidation_0-logloss:0.43273\tvalidation_1-logloss:0.49806\n",
      "[12]\tvalidation_0-logloss:0.42835\tvalidation_1-logloss:0.49559\n",
      "[13]\tvalidation_0-logloss:0.42529\tvalidation_1-logloss:0.49451\n",
      "[14]\tvalidation_0-logloss:0.42101\tvalidation_1-logloss:0.49207\n",
      "[15]\tvalidation_0-logloss:0.41649\tvalidation_1-logloss:0.48957\n",
      "[16]\tvalidation_0-logloss:0.41443\tvalidation_1-logloss:0.48939\n",
      "[17]\tvalidation_0-logloss:0.41161\tvalidation_1-logloss:0.48862\n",
      "[18]\tvalidation_0-logloss:0.40923\tvalidation_1-logloss:0.48725\n",
      "[19]\tvalidation_0-logloss:0.40639\tvalidation_1-logloss:0.48628\n",
      "[20]\tvalidation_0-logloss:0.40451\tvalidation_1-logloss:0.49944\n",
      "[21]\tvalidation_0-logloss:0.40313\tvalidation_1-logloss:0.49905\n",
      "[22]\tvalidation_0-logloss:0.40143\tvalidation_1-logloss:0.49789\n",
      "[23]\tvalidation_0-logloss:0.39995\tvalidation_1-logloss:0.49729\n",
      "[24]\tvalidation_0-logloss:0.39787\tvalidation_1-logloss:0.49661\n",
      "[25]\tvalidation_0-logloss:0.39694\tvalidation_1-logloss:0.49752\n",
      "[26]\tvalidation_0-logloss:0.39609\tvalidation_1-logloss:0.49712\n",
      "[27]\tvalidation_0-logloss:0.39110\tvalidation_1-logloss:0.49471\n",
      "[28]\tvalidation_0-logloss:0.39010\tvalidation_1-logloss:0.49497\n",
      "[29]\tvalidation_0-logloss:0.38929\tvalidation_1-logloss:0.49507\n",
      "[30]\tvalidation_0-logloss:0.38794\tvalidation_1-logloss:0.49484\n",
      "[31]\tvalidation_0-logloss:0.38414\tvalidation_1-logloss:0.49273\n",
      "[32]\tvalidation_0-logloss:0.38298\tvalidation_1-logloss:0.49220\n",
      "[33]\tvalidation_0-logloss:0.38155\tvalidation_1-logloss:0.49175\n",
      "[34]\tvalidation_0-logloss:0.38119\tvalidation_1-logloss:0.49168\n",
      "[35]\tvalidation_0-logloss:0.38018\tvalidation_1-logloss:0.49126\n",
      "[36]\tvalidation_0-logloss:0.37919\tvalidation_1-logloss:0.49092\n",
      "[37]\tvalidation_0-logloss:0.37789\tvalidation_1-logloss:0.49025\n",
      "[38]\tvalidation_0-logloss:0.37683\tvalidation_1-logloss:0.48941\n",
      "[39]\tvalidation_0-logloss:0.37632\tvalidation_1-logloss:0.48945\n",
      "[40]\tvalidation_0-logloss:0.37556\tvalidation_1-logloss:0.49025\n",
      "[41]\tvalidation_0-logloss:0.37418\tvalidation_1-logloss:0.48959\n",
      "[42]\tvalidation_0-logloss:0.37201\tvalidation_1-logloss:0.48830\n",
      "[43]\tvalidation_0-logloss:0.37130\tvalidation_1-logloss:0.48817\n",
      "[44]\tvalidation_0-logloss:0.37030\tvalidation_1-logloss:0.48770\n",
      "[45]\tvalidation_0-logloss:0.36945\tvalidation_1-logloss:0.48753\n",
      "[46]\tvalidation_0-logloss:0.36905\tvalidation_1-logloss:0.48816\n",
      "[47]\tvalidation_0-logloss:0.36794\tvalidation_1-logloss:0.48762\n",
      "[48]\tvalidation_0-logloss:0.36730\tvalidation_1-logloss:0.48719\n",
      "[49]\tvalidation_0-logloss:0.36666\tvalidation_1-logloss:0.48694\n"
     ]
    },
    {
     "data": {
      "text/plain": [
       "XGBClassifier(base_score=0.5, booster='gbtree', colsample_bylevel=1,\n",
       "              colsample_bynode=1, colsample_bytree=1, gamma=0, gpu_id=-1,\n",
       "              importance_type='gain', interaction_constraints='',\n",
       "              learning_rate=0.300000012, max_delta_step=0, max_depth=4,\n",
       "              min_child_weight=1, missing=nan, monotone_constraints='()',\n",
       "              n_estimators=50, n_jobs=-1, num_parallel_tree=1, random_state=0,\n",
       "              reg_alpha=0, reg_lambda=1, scale_pos_weight=1, subsample=1,\n",
       "              tree_method='exact', validate_parameters=1, verbosity=None)"
      ]
     },
     "execution_count": 32,
     "metadata": {},
     "output_type": "execute_result"
    }
   ],
   "source": [
    "xgb_clf = XGBClassifier(n_estimators=50, max_depth=4, n_jobs=-1, reg_lambda=1)\n",
    "\n",
    "eval_set = [(df_train_over_x, df_train_over_y), (eval_part_x, df_eval_y)]\n",
    "\n",
    "xgb_clf.fit(df_train_over_x, df_train_over_y, eval_metric=[\"logloss\"], eval_set=eval_set, verbose=True)"
   ]
  },
  {
   "cell_type": "code",
   "execution_count": 33,
   "metadata": {},
   "outputs": [
    {
     "data": {
      "text/plain": [
       "Text(0.5, 1.0, 'XGBoost Log Loss')"
      ]
     },
     "execution_count": 33,
     "metadata": {},
     "output_type": "execute_result"
    },
    {
     "data": {
      "image/png": "[encoded data removed]",
      "text/plain": [
       "<Figure size 432x288 with 1 Axes>"
      ]
     },
     "metadata": {
      "needs_background": "light"
     },
     "output_type": "display_data"
    }
   ],
   "source": [
    "# 모델 성능 시각화\n",
    "\n",
    "from matplotlib import pyplot\n",
    "# retrieve performance metrics\n",
    "results = xgb_clf.evals_result()\n",
    "epochs = len(results['validation_0']['logloss'])\n",
    "x_axis = range(0, epochs)\n",
    "# plot log loss\n",
    "fig, ax = pyplot.subplots()\n",
    "ax.plot(x_axis, results['validation_0']['logloss'], label='Train')\n",
    "ax.plot(x_axis, results['validation_1']['logloss'], label='Test')\n",
    "ax.legend()\n",
    "pyplot.ylabel('Log Loss')\n",
    "pyplot.title('XGBoost Log Loss')"
   ]
  },
  {
   "cell_type": "code",
   "execution_count": 34,
   "metadata": {},
   "outputs": [
    {
     "name": "stdout",
     "output_type": "stream",
     "text": [
      "------Evaluating xgboost model------\n",
      "0.8123318272478992\n"
     ]
    }
   ],
   "source": [
    "# evaluate xgboost model\n",
    "print(\"------Evaluating xgboost model------\")\n",
    "# Predict\n",
    "test_pred = xgb_clf.predict_proba(test_part_x)[:,1]\n",
    "# Calculate auc\n",
    "xgb_auc = roc_auc_score(df_test_y, test_pred)\n",
    "print(xgb_auc)"
   ]
  },
  {
   "cell_type": "code",
   "execution_count": 35,
   "metadata": {},
   "outputs": [],
   "source": [
    "def inspection_performance(predicted_fraud, test_fraud):\n",
    "        \n",
    "    Inspect_Rate=[]\n",
    "    Precision=[]\n",
    "    Recall=[]\n",
    "    \n",
    "    for i in range(0,101,1):\n",
    "        \n",
    "        threshold = np.percentile(predicted_fraud, i)\n",
    "        # Precision = number of frauds / number of inspection\n",
    "        precision = np.mean(test_fraud[predicted_fraud >= threshold])\n",
    "        # Recall = number of inspected frauds / number of frauds\n",
    "        recall = sum(test_fraud[predicted_fraud >= threshold])/sum(test_fraud)\n",
    "        # Save values\n",
    "        Inspect_Rate.append(100-i)\n",
    "        Precision.append(precision)\n",
    "        Recall.append(recall)\n",
    "        \n",
    "    \n",
    "    compiled_conf_matrix = pd.DataFrame({\n",
    "        'Inspect_Rate':Inspect_Rate,\n",
    "        'Precision':Precision,\n",
    "        'Recall':Recall\n",
    "    })\n",
    "\n",
    "    return compiled_conf_matrix"
   ]
  },
  {
   "cell_type": "code",
   "execution_count": 36,
   "metadata": {},
   "outputs": [],
   "source": [
    "basic_performance = inspection_performance(test_pred, df_test_y.astype(float))"
   ]
  },
  {
   "cell_type": "code",
   "execution_count": 37,
   "metadata": {},
   "outputs": [
    {
     "data": {
      "text/html": [
       "<div>\n",
       "<style scoped>\n",
       "    .dataframe tbody tr th:only-of-type {\n",
       "        vertical-align: middle;\n",
       "    }\n",
       "\n",
       "    .dataframe tbody tr th {\n",
       "        vertical-align: top;\n",
       "    }\n",
       "\n",
       "    .dataframe thead th {\n",
       "        text-align: right;\n",
       "    }\n",
       "</style>\n",
       "<table border=\"1\" class=\"dataframe\">\n",
       "  <thead>\n",
       "    <tr style=\"text-align: right;\">\n",
       "      <th></th>\n",
       "      <th>Inspect_Rate</th>\n",
       "      <th>Precision</th>\n",
       "      <th>Recall</th>\n",
       "    </tr>\n",
       "  </thead>\n",
       "  <tbody>\n",
       "    <tr>\n",
       "      <th>99</th>\n",
       "      <td>1</td>\n",
       "      <td>0.727273</td>\n",
       "      <td>0.031647</td>\n",
       "    </tr>\n",
       "    <tr>\n",
       "      <th>98</th>\n",
       "      <td>2</td>\n",
       "      <td>0.691558</td>\n",
       "      <td>0.060186</td>\n",
       "    </tr>\n",
       "    <tr>\n",
       "      <th>97</th>\n",
       "      <td>3</td>\n",
       "      <td>0.664502</td>\n",
       "      <td>0.086748</td>\n",
       "    </tr>\n",
       "    <tr>\n",
       "      <th>96</th>\n",
       "      <td>4</td>\n",
       "      <td>0.666667</td>\n",
       "      <td>0.115852</td>\n",
       "    </tr>\n",
       "    <tr>\n",
       "      <th>95</th>\n",
       "      <td>5</td>\n",
       "      <td>0.665800</td>\n",
       "      <td>0.144674</td>\n",
       "    </tr>\n",
       "    <tr>\n",
       "      <th>94</th>\n",
       "      <td>6</td>\n",
       "      <td>0.655471</td>\n",
       "      <td>0.170952</td>\n",
       "    </tr>\n",
       "    <tr>\n",
       "      <th>93</th>\n",
       "      <td>7</td>\n",
       "      <td>0.654275</td>\n",
       "      <td>0.198926</td>\n",
       "    </tr>\n",
       "    <tr>\n",
       "      <th>92</th>\n",
       "      <td>8</td>\n",
       "      <td>0.644715</td>\n",
       "      <td>0.224075</td>\n",
       "    </tr>\n",
       "    <tr>\n",
       "      <th>91</th>\n",
       "      <td>9</td>\n",
       "      <td>0.640173</td>\n",
       "      <td>0.250353</td>\n",
       "    </tr>\n",
       "    <tr>\n",
       "      <th>90</th>\n",
       "      <td>10</td>\n",
       "      <td>0.628497</td>\n",
       "      <td>0.272958</td>\n",
       "    </tr>\n",
       "  </tbody>\n",
       "</table>\n",
       "</div>"
      ],
      "text/plain": [
       "    Inspect_Rate  Precision    Recall\n",
       "99             1   0.727273  0.031647\n",
       "98             2   0.691558  0.060186\n",
       "97             3   0.664502  0.086748\n",
       "96             4   0.666667  0.115852\n",
       "95             5   0.665800  0.144674\n",
       "94             6   0.655471  0.170952\n",
       "93             7   0.654275  0.198926\n",
       "92             8   0.644715  0.224075\n",
       "91             9   0.640173  0.250353\n",
       "90            10   0.628497  0.272958"
      ]
     },
     "execution_count": 37,
     "metadata": {},
     "output_type": "execute_result"
    }
   ],
   "source": [
    "# 검사율 1~10% 지정 시 Precision 및 Recall 분석\n",
    "# Precision (적중률) = (검사선별된 우범건수)/(검사선별 건수)\n",
    "# Recall (적발률) = (검사선별된 우범건수) / (전체 우범건수)\n",
    "basic_performance.iloc[range(99,89,-1),:]"
   ]
  },
  {
   "cell_type": "code",
   "execution_count": 38,
   "metadata": {},
   "outputs": [
    {
     "data": {
      "text/plain": [
       "<seaborn.axisgrid.FacetGrid at 0x15794280df0>"
      ]
     },
     "execution_count": 38,
     "metadata": {},
     "output_type": "execute_result"
    },
    {
     "data": {
      "image/png": "[encoded data removed]",
      "text/plain": [
       "<Figure size 800.75x360 with 2 Axes>"
      ]
     },
     "metadata": {
      "needs_background": "light"
     },
     "output_type": "display_data"
    }
   ],
   "source": [
    "data = pd.melt(basic_performance, \n",
    "               id_vars = ['Inspect_Rate'],\n",
    "               value_vars = ['Recall','Precision'])\n",
    "\n",
    "sns.relplot(data=data,\n",
    "            kind='line',\n",
    "            x=\"Inspect_Rate\", \n",
    "            y=\"value\", \n",
    "            hue='variable',\n",
    "            col=\"variable\")"
   ]
  },
  {
   "cell_type": "code",
   "execution_count": 39,
   "metadata": {},
   "outputs": [
    {
     "data": {
      "image/png": "[encoded data removed]",
      "text/plain": [
       "<Figure size 1080x720 with 1 Axes>"
      ]
     },
     "metadata": {
      "needs_background": "light"
     },
     "output_type": "display_data"
    }
   ],
   "source": [
    "# 모델에 기여도가 높은 변수 시각화\n",
    "from xgboost import plot_importance\n",
    "plt.rcParams[\"font.family\"] = 'Malgun Gothic'\n",
    "plt.rcParams[\"figure.figsize\"] = (15,10)\n",
    "plot_importance(xgb_clf, max_num_features=30)\n",
    "plt.show()"
   ]
  },
  {
   "cell_type": "code",
   "execution_count": 40,
   "metadata": {},
   "outputs": [],
   "source": [
    "from sklearn.metrics import accuracy_score, confusion_matrix, classification_report"
   ]
  },
  {
   "cell_type": "code",
   "execution_count": 41,
   "metadata": {},
   "outputs": [],
   "source": [
    "y_preds = xgb_clf.predict(test_part_x)"
   ]
  },
  {
   "cell_type": "code",
   "execution_count": 42,
   "metadata": {},
   "outputs": [
    {
     "name": "stdout",
     "output_type": "stream",
     "text": [
      "accuracy score for trained data 0.8349118726707204\n",
      "accuracy score is 0.7701717855283706\n",
      "Confusion matrix [[9574 2255]\n",
      " [1277 2262]]\n",
      "Report               precision    recall  f1-score   support\n",
      "\n",
      "           0       0.88      0.81      0.84     11829\n",
      "           1       0.50      0.64      0.56      3539\n",
      "\n",
      "    accuracy                           0.77     15368\n",
      "   macro avg       0.69      0.72      0.70     15368\n",
      "weighted avg       0.79      0.77      0.78     15368\n",
      "\n"
     ]
    }
   ],
   "source": [
    "print(\"accuracy score for trained data\",accuracy_score(df_train_over_y,xgb_clf.predict(df_train_over_x)))\n",
    "print(\"accuracy score is\",accuracy_score(df_test_y,y_preds))\n",
    "\n",
    "print(\"Confusion matrix\",confusion_matrix(df_test_y,y_preds))\n",
    "\n",
    "print(\"Report\",classification_report(df_test_y,y_preds))"
   ]
  },
  {
   "cell_type": "markdown",
   "metadata": {},
   "source": [
    "# XGB Regressor"
   ]
  },
  {
   "cell_type": "code",
   "execution_count": 43,
   "metadata": {},
   "outputs": [
    {
     "name": "stdout",
     "output_type": "stream",
     "text": [
      "[0]\tvalidation_0-rmse:0.48083\tvalidation_1-rmse:0.49479\n",
      "[1]\tvalidation_0-rmse:0.46463\tvalidation_1-rmse:0.49217\n",
      "[2]\tvalidation_0-rmse:0.45106\tvalidation_1-rmse:0.48009\n",
      "[3]\tvalidation_0-rmse:0.43948\tvalidation_1-rmse:0.47934\n",
      "[4]\tvalidation_0-rmse:0.42893\tvalidation_1-rmse:0.47931\n",
      "[5]\tvalidation_0-rmse:0.42063\tvalidation_1-rmse:0.47349\n",
      "[6]\tvalidation_0-rmse:0.41292\tvalidation_1-rmse:0.46630\n",
      "[7]\tvalidation_0-rmse:0.40636\tvalidation_1-rmse:0.46014\n",
      "[8]\tvalidation_0-rmse:0.40128\tvalidation_1-rmse:0.45521\n",
      "[9]\tvalidation_0-rmse:0.39632\tvalidation_1-rmse:0.45110\n",
      "[10]\tvalidation_0-rmse:0.39249\tvalidation_1-rmse:0.44855\n",
      "[11]\tvalidation_0-rmse:0.38878\tvalidation_1-rmse:0.44515\n",
      "[12]\tvalidation_0-rmse:0.38566\tvalidation_1-rmse:0.44231\n",
      "[13]\tvalidation_0-rmse:0.38309\tvalidation_1-rmse:0.44146\n",
      "[14]\tvalidation_0-rmse:0.38064\tvalidation_1-rmse:0.44114\n",
      "[15]\tvalidation_0-rmse:0.37855\tvalidation_1-rmse:0.43916\n",
      "[16]\tvalidation_0-rmse:0.37635\tvalidation_1-rmse:0.43735\n",
      "[17]\tvalidation_0-rmse:0.37466\tvalidation_1-rmse:0.43584\n",
      "[18]\tvalidation_0-rmse:0.37301\tvalidation_1-rmse:0.43461\n",
      "[19]\tvalidation_0-rmse:0.37162\tvalidation_1-rmse:0.43332\n",
      "[20]\tvalidation_0-rmse:0.37005\tvalidation_1-rmse:0.43199\n",
      "[21]\tvalidation_0-rmse:0.36856\tvalidation_1-rmse:0.43092\n",
      "[22]\tvalidation_0-rmse:0.36708\tvalidation_1-rmse:0.42974\n",
      "[23]\tvalidation_0-rmse:0.36587\tvalidation_1-rmse:0.42875\n",
      "[24]\tvalidation_0-rmse:0.36495\tvalidation_1-rmse:0.42831\n",
      "[25]\tvalidation_0-rmse:0.36390\tvalidation_1-rmse:0.42807\n",
      "[26]\tvalidation_0-rmse:0.36283\tvalidation_1-rmse:0.42715\n",
      "[27]\tvalidation_0-rmse:0.36183\tvalidation_1-rmse:0.42642\n",
      "[28]\tvalidation_0-rmse:0.36035\tvalidation_1-rmse:0.42559\n",
      "[29]\tvalidation_0-rmse:0.35940\tvalidation_1-rmse:0.42677\n",
      "[30]\tvalidation_0-rmse:0.35863\tvalidation_1-rmse:0.42623\n",
      "[31]\tvalidation_0-rmse:0.35786\tvalidation_1-rmse:0.42584\n",
      "[32]\tvalidation_0-rmse:0.35665\tvalidation_1-rmse:0.42512\n",
      "[33]\tvalidation_0-rmse:0.35604\tvalidation_1-rmse:0.42469\n",
      "[34]\tvalidation_0-rmse:0.35545\tvalidation_1-rmse:0.42436\n",
      "[35]\tvalidation_0-rmse:0.35484\tvalidation_1-rmse:0.42414\n",
      "[36]\tvalidation_0-rmse:0.35379\tvalidation_1-rmse:0.42352\n",
      "[37]\tvalidation_0-rmse:0.35333\tvalidation_1-rmse:0.42301\n",
      "[38]\tvalidation_0-rmse:0.35269\tvalidation_1-rmse:0.42355\n",
      "[39]\tvalidation_0-rmse:0.35226\tvalidation_1-rmse:0.42337\n",
      "[40]\tvalidation_0-rmse:0.35169\tvalidation_1-rmse:0.42045\n",
      "[41]\tvalidation_0-rmse:0.35118\tvalidation_1-rmse:0.42009\n",
      "[42]\tvalidation_0-rmse:0.35069\tvalidation_1-rmse:0.41835\n",
      "[43]\tvalidation_0-rmse:0.34974\tvalidation_1-rmse:0.41791\n",
      "[44]\tvalidation_0-rmse:0.34937\tvalidation_1-rmse:0.41781\n",
      "[45]\tvalidation_0-rmse:0.34907\tvalidation_1-rmse:0.41752\n",
      "[46]\tvalidation_0-rmse:0.34851\tvalidation_1-rmse:0.41720\n",
      "[47]\tvalidation_0-rmse:0.34809\tvalidation_1-rmse:0.41722\n",
      "[48]\tvalidation_0-rmse:0.34785\tvalidation_1-rmse:0.41749\n",
      "[49]\tvalidation_0-rmse:0.34759\tvalidation_1-rmse:0.41739\n",
      "[50]\tvalidation_0-rmse:0.34700\tvalidation_1-rmse:0.41731\n",
      "[51]\tvalidation_0-rmse:0.34662\tvalidation_1-rmse:0.41727\n",
      "[52]\tvalidation_0-rmse:0.34615\tvalidation_1-rmse:0.41734\n",
      "[53]\tvalidation_0-rmse:0.34579\tvalidation_1-rmse:0.41729\n",
      "[54]\tvalidation_0-rmse:0.34560\tvalidation_1-rmse:0.41724\n",
      "[55]\tvalidation_0-rmse:0.34511\tvalidation_1-rmse:0.41708\n",
      "[56]\tvalidation_0-rmse:0.34487\tvalidation_1-rmse:0.41707\n",
      "[57]\tvalidation_0-rmse:0.34465\tvalidation_1-rmse:0.41696\n",
      "[58]\tvalidation_0-rmse:0.34363\tvalidation_1-rmse:0.41649\n",
      "[59]\tvalidation_0-rmse:0.34323\tvalidation_1-rmse:0.41656\n",
      "[60]\tvalidation_0-rmse:0.34288\tvalidation_1-rmse:0.41648\n",
      "[61]\tvalidation_0-rmse:0.34248\tvalidation_1-rmse:0.41693\n",
      "[62]\tvalidation_0-rmse:0.34229\tvalidation_1-rmse:0.41696\n",
      "[63]\tvalidation_0-rmse:0.34191\tvalidation_1-rmse:0.41679\n",
      "[64]\tvalidation_0-rmse:0.34162\tvalidation_1-rmse:0.41651\n",
      "[65]\tvalidation_0-rmse:0.34124\tvalidation_1-rmse:0.41548\n",
      "[66]\tvalidation_0-rmse:0.34040\tvalidation_1-rmse:0.41538\n",
      "[67]\tvalidation_0-rmse:0.34004\tvalidation_1-rmse:0.41520\n",
      "[68]\tvalidation_0-rmse:0.33972\tvalidation_1-rmse:0.41523\n",
      "[69]\tvalidation_0-rmse:0.33946\tvalidation_1-rmse:0.41522\n",
      "[70]\tvalidation_0-rmse:0.33933\tvalidation_1-rmse:0.41522\n",
      "[71]\tvalidation_0-rmse:0.33907\tvalidation_1-rmse:0.41538\n",
      "[72]\tvalidation_0-rmse:0.33855\tvalidation_1-rmse:0.41533\n",
      "[73]\tvalidation_0-rmse:0.33787\tvalidation_1-rmse:0.41551\n",
      "[74]\tvalidation_0-rmse:0.33750\tvalidation_1-rmse:0.41541\n",
      "[75]\tvalidation_0-rmse:0.33712\tvalidation_1-rmse:0.41533\n",
      "[76]\tvalidation_0-rmse:0.33665\tvalidation_1-rmse:0.41483\n",
      "[77]\tvalidation_0-rmse:0.33641\tvalidation_1-rmse:0.41486\n",
      "[78]\tvalidation_0-rmse:0.33622\tvalidation_1-rmse:0.41490\n",
      "[79]\tvalidation_0-rmse:0.33588\tvalidation_1-rmse:0.41487\n",
      "[80]\tvalidation_0-rmse:0.33575\tvalidation_1-rmse:0.41489\n",
      "[81]\tvalidation_0-rmse:0.33551\tvalidation_1-rmse:0.41489\n",
      "[82]\tvalidation_0-rmse:0.33519\tvalidation_1-rmse:0.41484\n",
      "[83]\tvalidation_0-rmse:0.33483\tvalidation_1-rmse:0.41472\n",
      "[84]\tvalidation_0-rmse:0.33449\tvalidation_1-rmse:0.41495\n",
      "[85]\tvalidation_0-rmse:0.33411\tvalidation_1-rmse:0.41481\n",
      "[86]\tvalidation_0-rmse:0.33371\tvalidation_1-rmse:0.41462\n",
      "[87]\tvalidation_0-rmse:0.33352\tvalidation_1-rmse:0.41458\n",
      "[88]\tvalidation_0-rmse:0.33335\tvalidation_1-rmse:0.41456\n",
      "[89]\tvalidation_0-rmse:0.33295\tvalidation_1-rmse:0.41439\n",
      "[90]\tvalidation_0-rmse:0.33268\tvalidation_1-rmse:0.41435\n",
      "[91]\tvalidation_0-rmse:0.33246\tvalidation_1-rmse:0.41438\n",
      "[92]\tvalidation_0-rmse:0.33210\tvalidation_1-rmse:0.41429\n",
      "[93]\tvalidation_0-rmse:0.33187\tvalidation_1-rmse:0.41426\n",
      "[94]\tvalidation_0-rmse:0.33175\tvalidation_1-rmse:0.41423\n",
      "[95]\tvalidation_0-rmse:0.33160\tvalidation_1-rmse:0.41405\n",
      "[96]\tvalidation_0-rmse:0.33140\tvalidation_1-rmse:0.41405\n",
      "[97]\tvalidation_0-rmse:0.33121\tvalidation_1-rmse:0.41409\n",
      "[98]\tvalidation_0-rmse:0.33090\tvalidation_1-rmse:0.41410\n",
      "[99]\tvalidation_0-rmse:0.33065\tvalidation_1-rmse:0.41523\n"
     ]
    },
    {
     "data": {
      "text/plain": [
       "XGBRegressor(base_score=0.5, booster='gbtree', colsample_bylevel=1,\n",
       "             colsample_bynode=1, colsample_bytree=1, gamma=0, gpu_id=-1,\n",
       "             importance_type='gain', interaction_constraints='',\n",
       "             learning_rate=0.1, max_delta_step=0, max_depth=6,\n",
       "             min_child_weight=1, missing=nan, monotone_constraints='()',\n",
       "             n_estimators=100, n_jobs=4, num_parallel_tree=1, random_state=0,\n",
       "             reg_alpha=0, reg_lambda=1, scale_pos_weight=1, subsample=1,\n",
       "             tree_method='exact', validate_parameters=1, verbosity=None)"
      ]
     },
     "execution_count": 43,
     "metadata": {},
     "output_type": "execute_result"
    }
   ],
   "source": [
    "xgb_reg = XGBRegressor(n_estimators=100, max_depth=6, learning_rate=0.1)\n",
    "xgb_reg.fit(df_train_over_x, df_train_over_y, eval_set=eval_set, early_stopping_rounds=20)"
   ]
  },
  {
   "cell_type": "code",
   "execution_count": 44,
   "metadata": {},
   "outputs": [
    {
     "data": {
      "text/plain": [
       "Text(0.5, 1.0, 'XGBoost rmse')"
      ]
     },
     "execution_count": 44,
     "metadata": {},
     "output_type": "execute_result"
    },
    {
     "data": {
      "image/png": "[encoded data removed]",
      "text/plain": [
       "<Figure size 1080x720 with 1 Axes>"
      ]
     },
     "metadata": {
      "needs_background": "light"
     },
     "output_type": "display_data"
    }
   ],
   "source": [
    "# 모델 성능 시각화\n",
    "\n",
    "from matplotlib import pyplot\n",
    "# retrieve performance metrics\n",
    "results = xgb_reg.evals_result()\n",
    "epochs = len(results['validation_0']['rmse'])\n",
    "x_axis = range(0, epochs)\n",
    "# plot log loss\n",
    "fig, ax = pyplot.subplots()\n",
    "ax.plot(x_axis, results['validation_0']['rmse'], label='Train')\n",
    "ax.plot(x_axis, results['validation_1']['rmse'], label='Test')\n",
    "ax.legend()\n",
    "pyplot.ylabel('Loss')\n",
    "pyplot.title('XGBoost rmse')"
   ]
  },
  {
   "cell_type": "code",
   "execution_count": 45,
   "metadata": {},
   "outputs": [
    {
     "data": {
      "text/plain": [
       "96"
      ]
     },
     "execution_count": 45,
     "metadata": {},
     "output_type": "execute_result"
    }
   ],
   "source": [
    "xgb_reg.best_ntree_limit"
   ]
  },
  {
   "cell_type": "code",
   "execution_count": 46,
   "metadata": {},
   "outputs": [],
   "source": [
    "from sklearn.metrics import mean_squared_error, explained_variance_score\n",
    "from sklearn.model_selection import KFold\n",
    "from sklearn.model_selection import cross_val_score\n",
    "\n",
    "kfold = KFold(n_splits=10, shuffle=True, random_state=7)\n",
    "results = cross_val_score(xgb_reg, df_train_over_x, df_train_over_y, cv=kfold)\n",
    "y_test_pred = xgb_reg.predict(test_part_x)\n",
    "\n",
    "mse = mean_squared_error(y_test_pred, df_test_y)\n",
    "y_pred = xgb_reg.predict(test_part_x)\n",
    "# pd.DataFrame(y_pred)"
   ]
  },
  {
   "cell_type": "code",
   "execution_count": 47,
   "metadata": {},
   "outputs": [
    {
     "name": "stdout",
     "output_type": "stream",
     "text": [
      "Mean MAE: 0.517 (0.007)\n"
     ]
    }
   ],
   "source": [
    "from numpy import absolute\n",
    "\n",
    "scores = absolute(results)\n",
    "print('Mean MAE: %.3f (%.3f)' % (scores.mean(), scores.std()) )"
   ]
  },
  {
   "cell_type": "code",
   "execution_count": 48,
   "metadata": {},
   "outputs": [
    {
     "name": "stdout",
     "output_type": "stream",
     "text": [
      "0.560172281464316\n",
      "-1.6292911179185983\n"
     ]
    }
   ],
   "source": [
    "r_sq = xgb_reg.score(df_train_over_x, df_train_over_y)\n",
    "print(r_sq)\n",
    "print(explained_variance_score(y_pred, df_test_y))"
   ]
  },
  {
   "cell_type": "code",
   "execution_count": 49,
   "metadata": {
    "scrolled": true
   },
   "outputs": [
    {
     "data": {
      "image/png": "[encoded data removed]",
      "text/plain": [
       "<Figure size 1080x720 with 1 Axes>"
      ]
     },
     "metadata": {
      "needs_background": "light"
     },
     "output_type": "display_data"
    }
   ],
   "source": [
    "# 모델에 기여도가 높은 변수 시각화\n",
    "from xgboost import plot_importance\n",
    "plt.rcParams[\"font.family\"] = 'Malgun Gothic'\n",
    "plt.rcParams[\"figure.figsize\"] = (15,10)\n",
    "plot_importance(xgb_reg, max_num_features=30)\n",
    "plt.show()"
   ]
  },
  {
   "cell_type": "code",
   "execution_count": null,
   "metadata": {},
   "outputs": [],
   "source": []
  }
 ],
 "metadata": {
  "kernelspec": {
   "display_name": "Python 3",
   "language": "python",
   "name": "python3"
  },
  "language_info": {
   "codemirror_mode": {
    "name": "ipython",
    "version": 3
   },
   "file_extension": ".py",
   "mimetype": "text/x-python",
   "name": "python",
   "nbconvert_exporter": "python",
   "pygments_lexer": "ipython3",
   "version": "3.8.3"
  }
 },
 "nbformat": 4,
 "nbformat_minor": 5
}
