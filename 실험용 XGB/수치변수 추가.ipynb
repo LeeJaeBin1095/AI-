{
 "cells": [
  {
   "cell_type": "code",
   "execution_count": null,
   "metadata": {},
   "outputs": [],
   "source": [
    "df_org['add'] = df_org['관세율']\n",
    "df_org['add'] = df_org['add'].apply(lambda x: np.log1p(x))\n",
    "df_z = df_org['특송업체부호'].value_counts(normalize=True).rename_axis('unique').reset_index(name='counts')\n",
    "df_un = df_z['unique']\n",
    "df_co = df_z['counts'].round(decimals=6)\n",
    "du = df_un.tolist()\n",
    "dc = df_co.tolist()\n",
    "for i in range(df_z.shape[0]):\n",
    "    df_org.loc[df_org['특송업체부호'] == du[i] , 'add'] = dc[i]"
   ]
  }
 ],
 "metadata": {
  "kernelspec": {
   "display_name": "Python 3",
   "language": "python",
   "name": "python3"
  },
  "language_info": {
   "codemirror_mode": {
    "name": "ipython",
    "version": 3
   },
   "file_extension": ".py",
   "mimetype": "text/x-python",
   "name": "python",
   "nbconvert_exporter": "python",
   "pygments_lexer": "ipython3",
   "version": "3.8.3"
  }
 },
 "nbformat": 4,
 "nbformat_minor": 4
}
