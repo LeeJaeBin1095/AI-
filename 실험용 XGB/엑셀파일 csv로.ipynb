{
 "cells": [
  {
   "cell_type": "code",
   "execution_count": 4,
   "metadata": {},
   "outputs": [],
   "source": [
    "import pandas as pd\n",
    "import numpy as np"
   ]
  },
  {
   "cell_type": "code",
   "execution_count": 2,
   "metadata": {},
   "outputs": [],
   "source": [
    "## 엑셀 => csv\n",
    "xlsx = pd.read_excel(\"train.xlsx\")\n",
    "xlsx.to_csv(\"train.csv\")\n",
    "xlsx = pd.read_excel(\"test.xlsx\")\n",
    "xlsx.to_csv(\"test.csv\")"
   ]
  },
  {
   "cell_type": "code",
   "execution_count": 5,
   "metadata": {},
   "outputs": [],
   "source": [
    "# csv -> 엑셀\n",
    "r_csv = pd.read_csv(\"result.csv\")\n",
    "save_xlsx = pd.ExcelWriter(\"submission.xlsx\")\n",
    "r_csv.to_excel(save_xlsx, index = False) # xlsx 파일로 변환\n",
    "\n",
    "save_xlsx.save() #xlsx 파일로 저장"
   ]
  },
  {
   "cell_type": "code",
   "execution_count": null,
   "metadata": {},
   "outputs": [],
   "source": []
  }
 ],
 "metadata": {
  "kernelspec": {
   "display_name": "Python 3",
   "language": "python",
   "name": "python3"
  },
  "language_info": {
   "codemirror_mode": {
    "name": "ipython",
    "version": 3
   },
   "file_extension": ".py",
   "mimetype": "text/x-python",
   "name": "python",
   "nbconvert_exporter": "python",
   "pygments_lexer": "ipython3",
   "version": "3.8.3"
  }
 },
 "nbformat": 4,
 "nbformat_minor": 4
}
